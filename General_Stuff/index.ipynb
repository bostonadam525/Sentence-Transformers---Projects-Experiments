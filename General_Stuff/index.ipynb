{
  "cells": [
    {
      "cell_type": "markdown",
      "source": [
        "# Hackerllama Blog Post Notebook: Sentence Embeddings. Introduction to Sentence Embeddings\n",
        "Everything you wanted to know about sentence embeddings (and maybe a bit more)\n",
        "* Original blog post: https://osanseviero.github.io/hackerllama/blog/posts/sentence_embeddings/\n",
        "* Note: This is a notebook published by hackerllama and is an awesome overview of Sentence Transformers best practices. I highly recommend anyone to use this or refer to it!"
      ],
      "metadata": {
        "id": "uRIiE7y1KwMp"
      }
    },
    {
      "cell_type": "raw",
      "metadata": {
        "id": "2DSAaevjok4l"
      },
      "source": [
        "---\n",
        "date: \"01/07/2024\"\n",
        "twitter-card: true\n",
        "title: Sentence Embeddings. Introduction to Sentence Embeddings\n",
        "description: Everything you wanted to know about sentence embeddings (and maybe a bit more)\n",
        "image: embedding.png\n",
        "toc-depth: 5\n",
        "format:\n",
        "  html:\n",
        "    comments:\n",
        "      utterances:\n",
        "         repo: osanseviero/hackerllama\n",
        "---"
      ]
    },
    {
      "cell_type": "markdown",
      "metadata": {
        "id": "TX7mYH9Jok4o"
      },
      "source": [
        "<a href=\"https://colab.research.google.com/github/osanseviero/hackerllama/blob/main/nbs/blog/posts/sentence_embeddings/index.ipynb\" rel=\"nofollow\" target=\"_blank\"><img src=\"https://colab.research.google.com/assets/colab-badge.svg\" alt=\"Open in Colab\"></a>"
      ]
    },
    {
      "cell_type": "markdown",
      "metadata": {
        "id": "FGjXnBXdok4p"
      },
      "source": [
        "This series aims to demystify embeddings and show you how to use them in your projects. This first blog post will teach you how to use and scale up open-source embedding models. We’ll look into the criteria for picking an existing model, current evaluation methods, and the state of the ecosystem. We’ll look into three exciting applications:\n",
        "\n",
        "\n",
        "* Finding the most similar Quora or StackOverflow questions\n",
        "* Given a huge dataset, find the most similar items\n",
        "* Running search embedding models directly in the users’ browser (no server required)\n",
        "\n",
        "You can either read the content here or execute it in Google Colab by clicking the badge at the top of the page. Let’s dive into embeddings!"
      ]
    },
    {
      "cell_type": "markdown",
      "metadata": {
        "id": "4znds5FZok4p"
      },
      "source": [
        "## The TL;DR\n",
        "\n",
        "You keep reading about \"embeddings this\" and \"embeddings that\", but you might still not know exactly what they are. You are not alone! Even if you have a vague idea of what embeddings are, you might use them through a black-box API without really understanding what’s going on under the hood. This is a problem because the current state of open-source embedding models is very strong - they are pretty easy to deploy, small (and hence cheap to host), and outperform many closed-source models.\n",
        "\n",
        "An embedding represents information as a vector of numbers (think of it as a list!). For example, we can obtain the embedding of a word, a sentence, a document, an image, an audio file, etc. Given the sentence “Today is a sunny day”, we can obtain its embedding, which would be a vector of a specific size, such as 384 numbers (such vector could look like [0.32, 0.42, 0.15, …, 0.72]). What is interesting is that the **embeddings capture the semantic meaning of the information**. For example, embedding the sentence “Today is a sunny day” will be very similar to that of the sentence “The weather is nice today”. Even if the words are different, the meaning is similar, and the embeddings will reflect that.\n",
        "\n",
        ":::callout\n",
        "\n",
        "If you’re not sure what words such as “vector”, “semantic similarity”, the vector size, or “pretrained” mean, don’t worry! We’ll explain them in the following sections. Focus on the high-level understanding first.\n",
        "\n",
        ":::\n",
        "\n",
        "So, this vector captures the semantic meaning of the information, making it easier to compare to each other. For example, we can use embeddings to find similar questions in Quora or StackOverflow, search code, find similar images, etc. Let’s look into some code!"
      ]
    },
    {
      "cell_type": "markdown",
      "metadata": {
        "id": "RxtTHACNok4s"
      },
      "source": [
        "We’ll use Sentence Transformers, an open-source library that makes it easy to use pre-trained embedding models. In particular, ST allows us to turn sentences into embeddings quickly. Let’s run an example and then discuss how it works under the hood.\n",
        "\n",
        "Let's begin by installing the library:"
      ]
    },
    {
      "cell_type": "code",
      "execution_count": 1,
      "metadata": {
        "id": "Jhjuug-Kok4s"
      },
      "outputs": [],
      "source": [
        "%%capture\n",
        "!pip install sentence_transformers"
      ]
    },
    {
      "cell_type": "markdown",
      "metadata": {
        "id": "MborXzAcok4t"
      },
      "source": [
        "The second step is to load an existing model. We'll start using [all-MiniLM-L6-v2](https://huggingface.co/sentence-transformers/all-MiniLM-L6-v2). It's not the best open-source embedding model, but it's quite popular and very small (23 million parameters), which means we can get started with it very quickly."
      ]
    },
    {
      "cell_type": "code",
      "execution_count": 2,
      "metadata": {
        "id": "ehqw0FI6ok4t",
        "outputId": "eb06cdf0-af25-44c5-9951-7153233c8bf0",
        "colab": {
          "base_uri": "https://localhost:8080/",
          "height": 458,
          "referenced_widgets": [
            "06d5b4ffb8604f0ca41337382855a552",
            "32930f2fff354dffbbd8be94fa8d3dcc",
            "7d325b84971449a9b9e7621af8784d58",
            "39cf61197cfa477d95274b8d75ada693",
            "8c0688daa97c465ca76ee96a16a6f6f9",
            "84306b46e2924cb0b58a29144e5fad1d",
            "4cc92b63f3a44396958af3dc6dfcd7f1",
            "30355804d1dd439fa71b0bde5faf4bd0",
            "a83e71e164ab4bb6a88162380a9fe6ac",
            "05922f3aba0743cd8eb47b1bbfda374c",
            "455947b80e7c4da3844262f3eed23b59",
            "c7d4f802a6b54e08b5c2c6c94fabb4c8",
            "ba086116a8d345909f647568061222b7",
            "4a364d48fc1046b39b7d05acdcbd402f",
            "381cf05796414af5b386014730feebc5",
            "0685dfa52f4f47ea87b23bdab781f7b8",
            "1e94dcd4074e4c758f5f21d73e5c2dc7",
            "17e7916d25e546b684c459f3426f8b18",
            "b1c18382e14546b38d23743b81569e86",
            "bb48656781744983ad3336b3b86c23b4",
            "42ea5bcd2ba34308af186b1aabf6995c",
            "a731e3215c6d4be7a5bc6bc28f9eb37d",
            "80ff035d4cfc40b3972112ee19bd30be",
            "6f83b78457674f0caa7dc36934a2e129",
            "1fbcf721d6394517bf7f5339c76e8038",
            "65aef9f570c14e00b4b740c8854e471e",
            "d984c56f49584d20a4338d755a3f501b",
            "392a2635409a487c9d353772b454e9bc",
            "22fa7a1236d5441286ae65ce8abf7c46",
            "e5f7d40316364dc882f931075c6457be",
            "5c98294ef29a41b9bf3373a39d812b4a",
            "80844b00cdbe432893169ad50558aaf0",
            "372793eafb69445d810e9902917f6aab",
            "3f0bb869a956454a9b3515afe1dd6a0b",
            "6c83ae9cd87d495b9fa9ee5dcfde1b20",
            "f282507e67ab4d35806a8a182b37939d",
            "a7d7b628289e4064b44ac682d4f46b75",
            "22094f6510bf4d0894ca695aac325052",
            "408f443891b445fea15b9278fcae7ee4",
            "b28a49e491664dda9f12a06e8b715b38",
            "bf8b1c9b5c8c4f2ea2f55a9026ee1aaf",
            "cf0a81b49e9e4767b77d1fbf496f5fea",
            "27af025e19914f4a8226000a52d06e03",
            "e79a725beffd4d0ab68c05244d416b30",
            "51c9ca6a29e64c90aca37c19ee9bf1a4",
            "8884727e83244e0286f426a4eabc3a05",
            "c73820d51edd4ea68d37984c7ee0e102",
            "fbc8b34795fe476f943c4f174afbf3f3",
            "e9f5d98172aa47099eb709880cf1dc80",
            "25316026b6834f6fa39aa0e5c1086652",
            "0f60048f6d56424497b34372dfe4b19e",
            "450579d33be046c296a64fcb6a45fc83",
            "8d5b1720931f48c4b4ecce99b8b5d533",
            "0d54176714de426eb15c6f9b650ff19b",
            "43610ea2a40a482ca4af90320185bc64",
            "eb0619c58231446a8a66636e30d26200",
            "cb5b9b0850ed4045b84fbe3230148464",
            "1b9dc58c6ea64d628f767eda528c408e",
            "0281f6587a414cde9eb67220615da4bf",
            "b67c9663d45343999b6a6f518551f0eb",
            "5a6de830b9b34110950a32fd3f536d5d",
            "1384743edf744f77b56be94b995d1d38",
            "3d99c15706e145aa98fb068e0d50589a",
            "b8dc838f8d7749959d4866be3357ab98",
            "c404920cf1234134ac0c0445b636a9ca",
            "13d88aba31b2410489bd8e999bb1eac8",
            "e37fb84b54f845f3933d66742762a222",
            "6ee8f4859eee4e3bb515b49d03ee8681",
            "0ff980b397474f208d4320c74cff2331",
            "19bf76b3d0b542d5ac02c5b9d3d896a4",
            "dfc104f962a8446b8c7fe7d16d45b139",
            "390eb149dfac4ac4ba1cde4c1a6db277",
            "d28f5aec4b154eca9ff96cfa4ed3510a",
            "1ae463301b1b4f63b5d6d4fca453a215",
            "4b54bcc618f84acc907e112bdf6cf0a8",
            "16396fa48d9146d8b661002b3311fe44",
            "a5b641b92b8d4843a60696d07966ff79",
            "6de2fe8478cc467f8f1e0a2706d6d04d",
            "222230f5a1a245c9a107f6ed10fbbc2d",
            "30ca190887de4bf093f041e8dfb4bfe6",
            "fffe242d889042f2b204f04ac7ac1117",
            "3163377ad7fa40c4ae122ec3e147d3cb",
            "3510625a020a49d4ab0fd3ae85236e91",
            "aaf1d30179b849d488535aad17b3de87",
            "248b3d59bda7414899f781381d4f5c1c",
            "1bdbfa558400469ea8a927e54fc1e45c",
            "e025a905db764660ad681d1eefff9c87",
            "f981e83a19b6436799a7df54958cd8e7",
            "042d3c2203c04e368bc4147a2c236eaa",
            "731ee0039aae450facc5747e1f19b781",
            "0444d2b751454423ad1fb8d3035b75df",
            "c06fd9cb47ad4eeabba070d8456de80e",
            "6556f7677b5d4e448a889e2c8d4c5d9f",
            "b8304f8e5b0246efa3041366d295d1a0",
            "b77f7c0ab05347a0ad5cb3a068af47c1",
            "eec135f280ba40759f6f37e559ec38b5",
            "8e3637655f874e968eee9f28ba42197f",
            "89310a833b054a9b9a9f0fedc78169da",
            "3d106d7ddcb64c568e58a3384de7ec01",
            "162e75ff8d6b42a99a7a8e73b1fb0bea",
            "f100be6ef6934781bd7dd13540b383a3",
            "f111fa9c286744bdbe7b92c5c0646189",
            "89a1a2c9d2014bd8b35f73fe2908dd2a",
            "ddf22497e3214362b5ad1a8785cf2f0d",
            "7244a38e19ae4b1fb218cefe6e347537",
            "9eadf762bc7e45a5ab091796590b4fd8",
            "f2aed1a81c2842829f1980920c30c226",
            "6a787cab6d7b442fb7864825660cd684",
            "af12268a10e04411ba934f5959b9d5f9",
            "fd7acce03f1646be914f2a8ab68df7c6",
            "c438467ddd4446ebaf8076af1526615b",
            "2ea76dee106b4ef0a00cb75dd7953980",
            "763ae6d4a83b4a34919cac49ea32b8ef",
            "7c74c47e5f594f28b172487f864a2630",
            "52d34cd13e4d40c185058e62eb6cacaf",
            "ff1fcbe945e7498e83a883b4b17e929c",
            "6f087a19c7374318b0701eb0758f67c5",
            "9ef2fc7a590d4af9b8313aebc1307766",
            "aae5c8b5bfd5468290258bebaae4ca3b",
            "fa483f64976843ce9dc8d59d00ff7372",
            "dbf2534c4e6c4c3bbe9b111813b26837"
          ]
        }
      },
      "outputs": [
        {
          "output_type": "stream",
          "name": "stderr",
          "text": [
            "/usr/local/lib/python3.10/dist-packages/sentence_transformers/cross_encoder/CrossEncoder.py:11: TqdmExperimentalWarning: Using `tqdm.autonotebook.tqdm` in notebook mode. Use `tqdm.tqdm` instead to force console mode (e.g. in jupyter console)\n",
            "  from tqdm.autonotebook import tqdm, trange\n"
          ]
        },
        {
          "output_type": "display_data",
          "data": {
            "text/plain": [
              "modules.json:   0%|          | 0.00/349 [00:00<?, ?B/s]"
            ],
            "application/vnd.jupyter.widget-view+json": {
              "version_major": 2,
              "version_minor": 0,
              "model_id": "06d5b4ffb8604f0ca41337382855a552"
            }
          },
          "metadata": {}
        },
        {
          "output_type": "display_data",
          "data": {
            "text/plain": [
              "config_sentence_transformers.json:   0%|          | 0.00/116 [00:00<?, ?B/s]"
            ],
            "application/vnd.jupyter.widget-view+json": {
              "version_major": 2,
              "version_minor": 0,
              "model_id": "c7d4f802a6b54e08b5c2c6c94fabb4c8"
            }
          },
          "metadata": {}
        },
        {
          "output_type": "display_data",
          "data": {
            "text/plain": [
              "README.md:   0%|          | 0.00/10.7k [00:00<?, ?B/s]"
            ],
            "application/vnd.jupyter.widget-view+json": {
              "version_major": 2,
              "version_minor": 0,
              "model_id": "80ff035d4cfc40b3972112ee19bd30be"
            }
          },
          "metadata": {}
        },
        {
          "output_type": "display_data",
          "data": {
            "text/plain": [
              "sentence_bert_config.json:   0%|          | 0.00/53.0 [00:00<?, ?B/s]"
            ],
            "application/vnd.jupyter.widget-view+json": {
              "version_major": 2,
              "version_minor": 0,
              "model_id": "3f0bb869a956454a9b3515afe1dd6a0b"
            }
          },
          "metadata": {}
        },
        {
          "output_type": "stream",
          "name": "stderr",
          "text": [
            "/usr/local/lib/python3.10/dist-packages/huggingface_hub/file_download.py:1132: FutureWarning: `resume_download` is deprecated and will be removed in version 1.0.0. Downloads always resume when possible. If you want to force a new download, use `force_download=True`.\n",
            "  warnings.warn(\n"
          ]
        },
        {
          "output_type": "display_data",
          "data": {
            "text/plain": [
              "config.json:   0%|          | 0.00/612 [00:00<?, ?B/s]"
            ],
            "application/vnd.jupyter.widget-view+json": {
              "version_major": 2,
              "version_minor": 0,
              "model_id": "51c9ca6a29e64c90aca37c19ee9bf1a4"
            }
          },
          "metadata": {}
        },
        {
          "output_type": "display_data",
          "data": {
            "text/plain": [
              "model.safetensors:   0%|          | 0.00/90.9M [00:00<?, ?B/s]"
            ],
            "application/vnd.jupyter.widget-view+json": {
              "version_major": 2,
              "version_minor": 0,
              "model_id": "eb0619c58231446a8a66636e30d26200"
            }
          },
          "metadata": {}
        },
        {
          "output_type": "display_data",
          "data": {
            "text/plain": [
              "tokenizer_config.json:   0%|          | 0.00/350 [00:00<?, ?B/s]"
            ],
            "application/vnd.jupyter.widget-view+json": {
              "version_major": 2,
              "version_minor": 0,
              "model_id": "e37fb84b54f845f3933d66742762a222"
            }
          },
          "metadata": {}
        },
        {
          "output_type": "display_data",
          "data": {
            "text/plain": [
              "vocab.txt:   0%|          | 0.00/232k [00:00<?, ?B/s]"
            ],
            "application/vnd.jupyter.widget-view+json": {
              "version_major": 2,
              "version_minor": 0,
              "model_id": "6de2fe8478cc467f8f1e0a2706d6d04d"
            }
          },
          "metadata": {}
        },
        {
          "output_type": "display_data",
          "data": {
            "text/plain": [
              "tokenizer.json:   0%|          | 0.00/466k [00:00<?, ?B/s]"
            ],
            "application/vnd.jupyter.widget-view+json": {
              "version_major": 2,
              "version_minor": 0,
              "model_id": "042d3c2203c04e368bc4147a2c236eaa"
            }
          },
          "metadata": {}
        },
        {
          "output_type": "display_data",
          "data": {
            "text/plain": [
              "special_tokens_map.json:   0%|          | 0.00/112 [00:00<?, ?B/s]"
            ],
            "application/vnd.jupyter.widget-view+json": {
              "version_major": 2,
              "version_minor": 0,
              "model_id": "162e75ff8d6b42a99a7a8e73b1fb0bea"
            }
          },
          "metadata": {}
        },
        {
          "output_type": "display_data",
          "data": {
            "text/plain": [
              "1_Pooling/config.json:   0%|          | 0.00/190 [00:00<?, ?B/s]"
            ],
            "application/vnd.jupyter.widget-view+json": {
              "version_major": 2,
              "version_minor": 0,
              "model_id": "c438467ddd4446ebaf8076af1526615b"
            }
          },
          "metadata": {}
        }
      ],
      "source": [
        "from sentence_transformers import SentenceTransformer\n",
        "\n",
        "model = SentenceTransformer(\"sentence-transformers/all-MiniLM-L6-v2\")"
      ]
    },
    {
      "cell_type": "markdown",
      "metadata": {
        "id": "rz93vebgok4t"
      },
      "source": [
        "Now that we loaded a model, let's use it to encode some sentences. We can use the `encode` method to obtain the embeddings of a list of sentences. Let's try it out!"
      ]
    },
    {
      "cell_type": "code",
      "execution_count": 3,
      "metadata": {
        "id": "KydcS51Dok4u",
        "outputId": "6f563df0-2b5b-4e79-816d-93cd47040e6d",
        "colab": {
          "base_uri": "https://localhost:8080/"
        }
      },
      "outputs": [
        {
          "output_type": "execute_result",
          "data": {
            "text/plain": [
              "(3, 384)"
            ]
          },
          "metadata": {},
          "execution_count": 3
        }
      ],
      "source": [
        "from sentence_transformers import util\n",
        "\n",
        "sentences = [\"The weather today is beautiful\", \"It's raining!\", \"Dogs are awesome\"]\n",
        "embeddings = model.encode(sentences)\n",
        "embeddings.shape"
      ]
    },
    {
      "cell_type": "code",
      "source": [
        "embeddings[0]"
      ],
      "metadata": {
        "id": "NyQ3qhdepw8d",
        "outputId": "4154c2e4-b03a-4f13-d99e-ad90f7e52d9c",
        "colab": {
          "base_uri": "https://localhost:8080/"
        }
      },
      "execution_count": 4,
      "outputs": [
        {
          "output_type": "execute_result",
          "data": {
            "text/plain": [
              "array([ 5.05585643e-03,  1.10878080e-01,  1.68528661e-01,  6.66609034e-02,\n",
              "        3.34140435e-02, -3.65244672e-02,  5.89507595e-02, -1.01468727e-01,\n",
              "       -4.48782779e-02,  9.43511911e-03, -4.34322432e-02, -7.85938557e-03,\n",
              "        2.71036252e-02,  1.10919299e-02,  2.93265637e-02,  5.26361912e-02,\n",
              "       -1.59959812e-02, -1.64193232e-02, -2.30436847e-02,  4.32103202e-02,\n",
              "       -1.31010458e-01,  7.62631968e-02, -8.19777474e-02,  7.98825175e-02,\n",
              "       -1.11006498e-02,  6.51216209e-02,  6.73979148e-03,  4.09533791e-02,\n",
              "        2.07324103e-02, -1.83035191e-02, -3.09522133e-02,  1.08261630e-02,\n",
              "        2.86189709e-02, -3.21798585e-02, -3.74149494e-02, -2.83375997e-02,\n",
              "       -1.94936432e-02, -1.68013498e-01, -6.04415610e-02,  5.96985072e-02,\n",
              "       -1.75286960e-02, -4.80048060e-02, -2.60541271e-02,  5.32722520e-03,\n",
              "        5.67744626e-03, -3.82828936e-02, -4.57523949e-02,  4.04657796e-02,\n",
              "        1.25757903e-01, -8.11216980e-03, -6.56668991e-02,  2.46861409e-02,\n",
              "       -5.86222298e-02, -9.30653065e-02, -2.84351297e-02,  7.55691081e-02,\n",
              "        2.62241391e-03, -8.12947676e-02,  8.13897774e-02, -5.40796376e-04,\n",
              "        3.51107419e-02,  9.65675786e-02, -2.97230519e-02,  3.79209407e-02,\n",
              "        9.27108079e-02, -3.51691321e-02, -7.70540461e-02,  2.12335493e-02,\n",
              "        2.32544895e-02, -2.87003610e-02, -4.57516685e-02, -1.35293719e-03,\n",
              "        4.39684764e-02, -2.44750511e-02, -1.57743581e-02, -2.21372135e-02,\n",
              "       -3.71464901e-02, -4.69653234e-02, -3.05119698e-04, -2.62300670e-02,\n",
              "        5.35850190e-02, -6.35178313e-02,  4.88386117e-02,  1.21815316e-02,\n",
              "       -4.82088961e-02,  4.20737490e-02, -3.30189429e-02,  6.58703819e-02,\n",
              "        5.55482358e-02, -2.27740444e-02, -7.16420561e-02, -7.03038350e-02,\n",
              "       -1.15156122e-01,  4.31664214e-02, -6.19698800e-02,  5.58285527e-02,\n",
              "       -1.82665866e-02, -1.13814715e-02, -5.58710583e-02,  8.20519701e-02,\n",
              "        2.42799036e-02,  3.20881382e-02, -1.87291354e-02,  2.02277750e-02,\n",
              "        4.58421521e-02,  1.27473315e-02, -4.59233858e-02,  4.69759665e-03,\n",
              "       -4.69752699e-02, -5.50872795e-02, -2.98185349e-02,  2.29266472e-02,\n",
              "       -3.08254063e-02, -2.17014700e-02,  6.18635118e-02, -7.19755888e-02,\n",
              "       -3.26068290e-02,  1.05305584e-02, -3.57187097e-03,  9.05227382e-03,\n",
              "       -2.91251000e-02, -6.43803552e-02,  7.76609126e-03,  8.65584314e-02,\n",
              "        4.84369695e-02, -3.40221013e-04,  9.68336388e-02, -7.79309114e-33,\n",
              "        7.88257271e-02,  1.72343943e-02,  4.96884808e-02,  8.09614584e-02,\n",
              "        2.43529566e-02, -1.68961007e-02, -1.23308841e-02, -1.24704711e-01,\n",
              "       -7.51847252e-02, -9.48077738e-02, -2.08823057e-03, -5.61570600e-02,\n",
              "       -5.58574162e-02, -5.78885316e-04,  2.91214567e-02, -1.01927817e-01,\n",
              "       -2.81414781e-02,  3.82143222e-02,  7.65839266e-03,  1.53854385e-01,\n",
              "       -9.59214643e-02, -1.32105406e-02, -1.98814459e-02, -2.70395130e-02,\n",
              "       -5.80096357e-02,  6.34095923e-04,  6.67796582e-02,  2.25256514e-02,\n",
              "       -2.29706280e-02,  1.14910631e-03,  1.17369175e-01, -9.54518933e-03,\n",
              "        9.70717743e-02,  2.91803442e-02,  2.43184976e-02, -6.06421605e-02,\n",
              "       -3.36682834e-02, -2.50389380e-03,  5.43566570e-02,  9.70181450e-03,\n",
              "       -1.16280885e-02, -2.43998040e-02, -5.86434640e-03, -3.37004513e-02,\n",
              "        1.44198211e-02,  7.33166039e-02,  2.31838487e-02,  4.06704396e-02,\n",
              "       -2.66441870e-02, -1.70285273e-02, -8.34079459e-02,  2.13620309e-02,\n",
              "       -1.90614834e-02,  4.05486785e-02, -4.62177880e-02, -9.51286219e-03,\n",
              "        3.65896560e-02,  3.57987173e-02,  1.73322577e-02,  5.84839797e-03,\n",
              "       -2.83286832e-02,  1.56321526e-02,  8.84059444e-03, -1.18688278e-01,\n",
              "        6.01240546e-02,  6.74535846e-03,  1.73061453e-02,  4.88028564e-02,\n",
              "       -7.16903731e-02,  2.64892746e-02,  3.70071754e-02,  2.63064895e-02,\n",
              "        8.18453878e-02,  3.08208894e-02,  4.62631062e-02,  2.34736763e-02,\n",
              "        9.52917188e-02, -4.66075055e-02,  7.64676929e-02,  7.45909736e-02,\n",
              "       -5.59145696e-02,  1.13561273e-01,  1.70489273e-03, -6.36688471e-02,\n",
              "        1.63307681e-03,  3.13488580e-03, -5.32138906e-02, -1.61369927e-02,\n",
              "       -3.65158729e-02,  6.82311505e-02, -4.69705537e-02,  4.25768122e-02,\n",
              "        5.17502874e-02, -5.24915606e-02, -7.67960921e-02,  3.01473526e-33,\n",
              "        1.12768225e-01,  1.44305481e-02, -4.73995954e-02,  9.76375421e-04,\n",
              "       -9.05304626e-02,  1.51187824e-02, -6.96420670e-02,  1.03693873e-01,\n",
              "       -2.49262545e-02,  1.04284011e-01,  8.55312645e-02,  5.83545677e-02,\n",
              "        5.07743061e-02, -7.41676241e-02,  1.20546529e-02,  2.51314212e-02,\n",
              "        6.57285750e-02,  3.74273024e-02, -9.78133753e-02,  5.03438190e-02,\n",
              "       -5.60635813e-02,  1.87038665e-03,  2.14413786e-03,  1.09190596e-02,\n",
              "       -1.57071576e-02,  3.96533757e-02,  8.56243889e-04,  5.64567931e-02,\n",
              "       -2.60564536e-02, -2.06681807e-02, -1.10930223e-02,  3.01569887e-02,\n",
              "       -2.96584126e-02,  3.38119194e-02, -2.58209147e-02,  1.10954471e-01,\n",
              "        6.53839260e-02, -1.07044056e-01, -1.85189466e-03,  1.60836056e-02,\n",
              "       -2.97998879e-02, -4.49486524e-02,  1.11946747e-01, -5.40474802e-02,\n",
              "        3.64389978e-02, -5.88697307e-02, -4.87185977e-02,  1.26588438e-02,\n",
              "       -1.37827611e-02, -2.61368379e-02,  1.00588677e-02,  2.17289384e-02,\n",
              "       -8.19472689e-03,  8.61789808e-02,  5.31098507e-02, -2.56254636e-02,\n",
              "       -5.26688136e-02, -1.77889392e-02, -6.43410385e-02,  2.50970684e-02,\n",
              "       -8.65620598e-02,  5.30986348e-03, -4.59736399e-02, -1.86227821e-02,\n",
              "       -1.39145739e-02, -7.02173030e-03, -3.61439735e-02, -2.36655809e-02,\n",
              "       -1.64297745e-02,  3.75397354e-02, -3.80672440e-02, -3.15506347e-02,\n",
              "       -9.61034968e-02, -4.85447161e-02,  4.23622206e-02, -5.42966370e-03,\n",
              "        2.48356517e-02,  6.84263408e-02,  5.01310546e-03,  2.24921871e-02,\n",
              "       -6.00995682e-02,  2.08694767e-02, -1.65497381e-02,  1.32008428e-02,\n",
              "       -1.34192696e-02, -9.51057449e-02, -1.34503655e-02, -9.31018665e-02,\n",
              "        2.25882046e-02,  5.15274480e-02, -6.08698465e-02,  2.73009110e-02,\n",
              "       -5.84470853e-02,  1.65067520e-02, -3.65981795e-02, -1.83674622e-08,\n",
              "       -3.09794731e-02, -6.35029599e-02, -4.54458483e-02, -3.43061015e-02,\n",
              "        1.84332523e-02, -5.46681322e-02,  4.39212620e-02, -5.23497760e-02,\n",
              "       -1.34104304e-02,  3.05544250e-02,  7.03550503e-02,  4.54975888e-02,\n",
              "       -5.30505218e-02,  6.14718050e-02,  1.47789279e-02, -6.70336112e-02,\n",
              "       -9.83800273e-03,  2.36555859e-02,  7.93435425e-03, -1.40758483e-02,\n",
              "        6.25558868e-02, -4.28426191e-02, -3.46562900e-02,  5.00674918e-02,\n",
              "        8.16946104e-02,  1.77279973e-04, -2.97039095e-02, -3.23247015e-02,\n",
              "       -3.08824554e-02,  9.13773850e-02, -5.02550639e-02,  3.23919579e-03,\n",
              "       -9.63792950e-03, -8.44051875e-03, -2.49246079e-02, -4.26376984e-02,\n",
              "        1.31915621e-02,  1.08300233e-02, -6.46560863e-02, -4.20247540e-02,\n",
              "       -1.54181279e-03,  4.89296094e-02, -2.76756193e-02,  1.62004381e-02,\n",
              "        6.09064065e-02, -3.61855999e-02,  4.63757105e-02,  7.65607599e-03,\n",
              "       -5.27416058e-02,  1.02553163e-02, -3.61011475e-02, -6.21359004e-03,\n",
              "        6.37653470e-02,  4.76233251e-02, -2.61353981e-02, -1.12288380e-02,\n",
              "       -3.79320942e-02,  2.07370184e-02,  1.89277288e-02,  2.32491996e-02,\n",
              "       -3.44528817e-02, -1.47465141e-02, -6.32526428e-02,  3.68553214e-02],\n",
              "      dtype=float32)"
            ]
          },
          "metadata": {},
          "execution_count": 4
        }
      ]
    },
    {
      "cell_type": "markdown",
      "metadata": {
        "id": "MSkEPMisok4u"
      },
      "source": [
        "all-MiniLM-L6-v2 creates embeddings of 384 values. We obtain three embeddings, one for each sentence. Think of `embeddings` as a \"database\" of embeddings. Given a new sentence, how can we find the most similar sentence? We can use the `util.pytorch_cos_sim` method to compute the cosine similarity (we'll talk more about it soon) between the new sentence embedding and all the embeddings in the database. The cosine similarity is a number between 0 and 1 that indicates how similar two embeddings are. A value of 1 means that the embeddings are identical, while 0 means that the embeddings are entirely different. Let’s try it out!"
      ]
    },
    {
      "cell_type": "code",
      "execution_count": 5,
      "metadata": {
        "id": "RAyEjP2Yok4v",
        "outputId": "f325c37f-9d3f-4ee9-a4f4-5e43e5632a78",
        "colab": {
          "base_uri": "https://localhost:8080/"
        }
      },
      "outputs": [
        {
          "output_type": "stream",
          "name": "stdout",
          "text": [
            "tensor([[0.7344]]) The weather today is beautiful\n",
            "tensor([[0.4180]]) It's raining!\n",
            "tensor([[0.1060]]) Dogs are awesome\n"
          ]
        }
      ],
      "source": [
        "first_embedding = model.encode(\"Today is a sunny day\")\n",
        "for embedding, sentence in zip(embeddings, sentences):\n",
        "    similarity = util.pytorch_cos_sim(first_embedding, embedding)\n",
        "    print(similarity, sentence)"
      ]
    },
    {
      "cell_type": "code",
      "source": [
        "second_embedding = model.encode(\"It's raining!\")\n",
        "for embedding, sentence in zip(embeddings, sentences):\n",
        "  similarity = util.pytorch_cos_sim(second_embedding, embedding)\n",
        "  print(similarity, sentence)"
      ],
      "metadata": {
        "id": "_O50MSuJp86E",
        "outputId": "a010bfff-e2d5-4b2e-a0c4-65fb6cf96c24",
        "colab": {
          "base_uri": "https://localhost:8080/"
        }
      },
      "execution_count": 6,
      "outputs": [
        {
          "output_type": "stream",
          "name": "stdout",
          "text": [
            "tensor([[0.4838]]) The weather today is beautiful\n",
            "tensor([[1.0000]]) It's raining!\n",
            "tensor([[0.1902]]) Dogs are awesome\n"
          ]
        }
      ]
    },
    {
      "cell_type": "markdown",
      "metadata": {
        "id": "m3rub2Zyok4v"
      },
      "source": [
        "What can we interpret of this? Although “today is a sunny day” and “the weather today is beautiful” don’t have the same words, the embeddings can capture some semantic meaning, so the cosine similarity is relatively high. On the other hand, “Dogs are awesome”, although true, has nothing to do with the weather or today; hence, the cosine similarity is very low.\n",
        "\n",
        "To expand on this idea of similar embeddings, let’s look into how they could be used in a product. Imagine that U.S. Social Security would like to allow users to write Medicare-related questions in an input field. This topic is very sensitive, and we likely don’t want a model to hallucinate with something unrelated! Instead, we can leverage a database of questions (in this case, there’s an existing Medicare FAQ). The process is similar to the above\"\n",
        "\n",
        "1. We have a corpus (collection) of questions and answers.\n",
        "2. We compute the embeddings of all the questions.\n",
        "3. Given a new question, we compute its embedding.\n",
        "4. We compute the cosine similarity between the new question embedding and all the embeddings in the database.\n",
        "5. We return the most similar question (which is associated with the most similar embedding).\n",
        "\n",
        "Steps 1 and 2 can be done offline (that is, we compute the embeddings only once and store them). The rest of the steps can be done at search time (each time a user asks a question). Let’s see what this would look like in code."
      ]
    },
    {
      "cell_type": "markdown",
      "metadata": {
        "id": "V43l6URNok4v"
      },
      "source": [
        "[![Representation of embeddings in two dimensions](https://github.com/osanseviero/hackerllama/blob/main/nbs/blog/posts/sentence_embeddings/embedding.png?raw=1)](https://huggingface.co/spaces/sentence-transformers/embeddings-semantic-search)"
      ]
    },
    {
      "cell_type": "markdown",
      "metadata": {
        "id": "w_WAAzMmok4v"
      },
      "source": [
        " Let’s first create our map of frequently asked questions."
      ]
    },
    {
      "cell_type": "code",
      "execution_count": 7,
      "metadata": {
        "id": "uQGQcHIhok4v"
      },
      "outputs": [],
      "source": [
        "# Data from https://faq.ssa.gov/en-US/topic/?id=CAT-01092\n",
        "\n",
        "faq = {\n",
        "    \"How do I get a replacement Medicare card?\": \"If your Medicare card was lost, stolen, or destroyed, you can request a replacement online at Medicare.gov.\",\n",
        "    \"How do I sign up for Medicare?\": \"If you already get Social Security benefits, you do not need to sign up for Medicare. We will automatically enroll you in Original Medicare (Part A and Part B) when you become eligible. We will mail you the information a few months before you become eligible.\",\n",
        "    \"What are Medicare late enrollment penalties?\": \"In most cases, if you don’t sign up for Medicare when you’re first eligible, you may have to pay a higher monthly premium. Find more information at https://faq.ssa.gov/en-us/Topic/article/KA-02995\",\n",
        "    \"Will my Medicare premiums be higher because of my higher income?\": \"Some people with higher income may pay a larger percentage of their monthly Medicare Part B and prescription drug costs based on their income. We call the additional amount the income-related monthly adjustment amount.\",\n",
        "    \"What is Medicare and who can get it?\": \"Medicare is a health insurance program for people age 65 or older. Some younger people are eligible for Medicare including people with disabilities, permanent kidney failure and amyotrophic lateral sclerosis (Lou Gehrig’s disease or ALS). Medicare helps with the cost of health care, but it does not cover all medical expenses or the cost of most long-term care.\",\n",
        "}"
      ]
    },
    {
      "cell_type": "markdown",
      "metadata": {
        "id": "7MvvvtUsok4v"
      },
      "source": [
        "Once again, we use the `encode` method to obtain the embeddings of all the questions."
      ]
    },
    {
      "cell_type": "code",
      "execution_count": 8,
      "metadata": {
        "id": "-IgQfFjhok4v",
        "outputId": "dc54fd89-1342-498e-9efd-3b165e61709d",
        "colab": {
          "base_uri": "https://localhost:8080/"
        }
      },
      "outputs": [
        {
          "output_type": "stream",
          "name": "stdout",
          "text": [
            "(5, 384)\n"
          ]
        }
      ],
      "source": [
        "corpus_embeddings = model.encode(list(faq.keys()))\n",
        "print(corpus_embeddings.shape)"
      ]
    },
    {
      "cell_type": "markdown",
      "metadata": {
        "id": "B-hfeACMok4w"
      },
      "source": [
        "Once a user asks a question, we obtain its embedding. We usually refer to this embedding as the **query embedding.**"
      ]
    },
    {
      "cell_type": "code",
      "execution_count": 9,
      "metadata": {
        "id": "EZvYI72Cok4w",
        "outputId": "52d6eff0-202f-4212-861f-40713ed9c3e9",
        "colab": {
          "base_uri": "https://localhost:8080/"
        }
      },
      "outputs": [
        {
          "output_type": "execute_result",
          "data": {
            "text/plain": [
              "(384,)"
            ]
          },
          "metadata": {},
          "execution_count": 9
        }
      ],
      "source": [
        "user_question = \"Do I need to pay more after a raise?\"\n",
        "query_embedding = model.encode(user_question)\n",
        "query_embedding.shape"
      ]
    },
    {
      "cell_type": "markdown",
      "metadata": {
        "id": "3VTM3RwRok4w"
      },
      "source": [
        "We can now compute the similarity between the corpus embeddings and the query embedding. We could have a loop and use `util.pytorch.cos_sim` as we did before, but Sentence Transformers provides an even friendlier method called `semantic_search` that does all the work for us. It returns the top-k most similar embeddings  and their similarity score. Let's try it out!"
      ]
    },
    {
      "cell_type": "code",
      "execution_count": 11,
      "metadata": {
        "id": "lPRCKSN2ok4w",
        "outputId": "eb89f8e9-d695-4c61-b171-31928639b858",
        "colab": {
          "base_uri": "https://localhost:8080/"
        }
      },
      "outputs": [
        {
          "output_type": "execute_result",
          "data": {
            "text/plain": [
              "[[{'corpus_id': 3, 'score': 0.4642062783241272},\n",
              "  {'corpus_id': 4, 'score': 0.11628521978855133},\n",
              "  {'corpus_id': 2, 'score': 0.09916310757398605},\n",
              "  {'corpus_id': 1, 'score': 0.09463592618703842},\n",
              "  {'corpus_id': 0, 'score': 0.07962207496166229}]]"
            ]
          },
          "metadata": {},
          "execution_count": 11
        }
      ],
      "source": [
        "similarities = util.semantic_search(query_embedding, corpus_embeddings, top_k=5)\n",
        "similarities"
      ]
    },
    {
      "cell_type": "markdown",
      "metadata": {
        "id": "Zs90tgYHok4w"
      },
      "source": [
        "Let’s now look at which questions and answers this corresponds to:"
      ]
    },
    {
      "cell_type": "code",
      "execution_count": 13,
      "metadata": {
        "id": "UCLUP7prok4w",
        "outputId": "67613faf-22f5-43e0-e1f4-a1df6975e8b0",
        "colab": {
          "base_uri": "https://localhost:8080/"
        }
      },
      "outputs": [
        {
          "output_type": "stream",
          "name": "stdout",
          "text": [
            "Top 1 question (p=0.4642062783241272): Will my Medicare premiums be higher because of my higher income?\n",
            "Answer: Some people with higher income may pay a larger percentage of their monthly Medicare Part B and prescription drug costs based on their income. We call the additional amount the income-related monthly adjustment amount.\n",
            "Top 2 question (p=0.11628521978855133): What is Medicare and who can get it?\n",
            "Answer: Medicare is a health insurance program for people age 65 or older. Some younger people are eligible for Medicare including people with disabilities, permanent kidney failure and amyotrophic lateral sclerosis (Lou Gehrig’s disease or ALS). Medicare helps with the cost of health care, but it does not cover all medical expenses or the cost of most long-term care.\n",
            "Top 3 question (p=0.09916310757398605): What are Medicare late enrollment penalties?\n",
            "Answer: In most cases, if you don’t sign up for Medicare when you’re first eligible, you may have to pay a higher monthly premium. Find more information at https://faq.ssa.gov/en-us/Topic/article/KA-02995\n",
            "Top 4 question (p=0.09463592618703842): How do I sign up for Medicare?\n",
            "Answer: If you already get Social Security benefits, you do not need to sign up for Medicare. We will automatically enroll you in Original Medicare (Part A and Part B) when you become eligible. We will mail you the information a few months before you become eligible.\n",
            "Top 5 question (p=0.07962207496166229): How do I get a replacement Medicare card?\n",
            "Answer: If your Medicare card was lost, stolen, or destroyed, you can request a replacement online at Medicare.gov.\n"
          ]
        }
      ],
      "source": [
        "for i, result in enumerate(similarities[0]):\n",
        "    corpus_id = result[\"corpus_id\"]\n",
        "    score = result[\"score\"]\n",
        "    print(f\"Top {i+1} question (p={score}): {list(faq.keys())[corpus_id]}\")\n",
        "    print(f\"Answer: {list(faq.values())[corpus_id]}\")"
      ]
    },
    {
      "cell_type": "markdown",
      "metadata": {
        "id": "ar1hxeSCok4w"
      },
      "source": [
        "Great, so given the question \"Do I need to pay more after a raise?\", we know that the most similar question is \"Will my Medicare premiums be higher because of my higher income?\" and hence we can return the provided answer. In practice, you would likely have thousands to millions of embeddings, but this was a simple yet powerful example of how embeddings can be used to find similar questions."
      ]
    },
    {
      "cell_type": "markdown",
      "metadata": {
        "id": "OEMFvxr5ok4w"
      },
      "source": [
        "Now that we better understand what embeddings are and how they can be used, let’s do a deeper dive into them!"
      ]
    },
    {
      "cell_type": "markdown",
      "metadata": {
        "id": "qvvoQ2OVok4x"
      },
      "source": [
        "## From word embeddings to sentence embeddings\n",
        "\n",
        "### Word2Vec and GloVe\n",
        "\n",
        "It’s time to take a step back and learn more about embeddings and why they are needed. Neural networks, such as BERT, are not able to process words directly; they need numbers. And the way to provide words is to represent them as vectors, also called word embeddings.\n",
        "\n",
        "In the traditional setup, you define a vocabulary (which words are allowed), and then each word in this vocabulary has an assigned embedding. Words not in the vocabulary are mapped to a special token, usually called <UNK> (a standard placeholder for words not found during training). For example, let’s say we have a vocabulary of three words, and we assign each word a vector of size five. We could have the following embeddings:\n",
        "\n",
        "| Word | Embedding |\n",
        "| ---- | --------- |\n",
        "| king    | [0.15, 0.2, 0.2, 0.3, 0.5] |\n",
        "| queen   | [0.12, 0.1, 0.19, 0.3, 0.47] |\n",
        "| potato    | [0.13, 0.4, 0.1, 0.15, 0.01] |\n",
        "| `<UNK>`    | [0.01, 0.02, 0.01, 0.4, 0.11] |\n",
        "\n",
        "The embedding I wrote above are numbers that I wrote somewhat randomly. In practice, **the embeddings are learned**. This is the main idea of methods such as [Word2Vec](https://en.wikipedia.org/wiki/Word2vec) and [GloVe](https://nlp.stanford.edu/pubs/glove.pdf). They learn the embeddings of the words in a corpus in such a way that words that appear in similar contexts have similar embeddings. For example, the embeddings of \"king\" and \"queen\" are similar because they appear in similar contexts.\n",
        "\n",
        "[![Word embeddings](https://github.com/osanseviero/hackerllama/blob/main/nbs/blog/posts/sentence_embeddings/embedding.png?raw=1)](https://huggingface.co/spaces/sentence-transformers/embeddings-semantic-search)\n",
        "\n",
        "Some open-source libraries, such as Gensim and fastText, allow you to obtain pre-trained Word2Vec and GloVe embeddings quickly. In the good ol’ days of NLP (2013), people used these models to compute word embeddings, which were helpful as inputs to other models. For example, you can compute the word embeddings of each word in a sentence and then pass that as input to a sci-kit learn classifier to classify the sentiment of the sentence.\n",
        "\n",
        "**Glove and Word2Vec have fixed representations.** Once they are trained, each word is assigned a fixed vector representation, regardless of their context (so “bank” in “river bank” and “savings bank” would have the same embedding). **Word2vec and GloVe will struggle with words that have multiple meanings.**\n",
        "\n",
        "![The good ol' days of NLP](https://github.com/osanseviero/hackerllama/blob/main/nbs/blog/posts/sentence_embeddings/word2vec_meme.jpeg?raw=1)\n",
        "\n",
        "\n",
        ":::callout\n",
        "\n",
        "Understanding the details of word2vec and GloVe is unnecessary to understand the rest of the blog post and sentence embeddings, so I’ll skip them. I recommend reading this [chapter from the excellent interactive NLP course](https://lena-voita.github.io/nlp_course/word_embeddings.html) if you're interested.\n",
        "\n",
        "As a TL;DR\n",
        "\n",
        "* Word2Vec is trained by passing a very large corpus and training a shallow neural network to predict the surrounding words. Later alternatives predict the center word given the surrounding words.\n",
        "* GloVe is trained by looking at the co-occurrence matrix of words (how often words appear together within a certain distance) and then using that matrix to obtain the embeddings.\n",
        "\n",
        "Word2Vec and GloVe are trained with objectives that ensure that words appearing in similar contexts have similar embeddings.\n",
        "\n",
        ":::"
      ]
    },
    {
      "cell_type": "markdown",
      "metadata": {
        "id": "KgwTF_Hnok4x"
      },
      "source": [
        "### Word Embeddings with Transformers\n",
        "\n",
        "More recently, with the advent of **transformers,** we have **new ways to compute embeddings.**\n",
        "  * The embedding is also learned, but instead of training an embedding model and then another model for the specific task, **transformers learn useful embeddings in the context of their task.**\n",
        "  * For example, BERT, a popular transformer model, learns word embeddings in the context of masked language modeling (predicting which word to fill in the blank) and next sentence prediction (whether sentence B follows sentence A).\n",
        "\n",
        "Transformers are state-of-the-art in many NLP tasks and can capture contextual information that word2vec and GloVe cannot capture, thanks to a mechanism called **attention.** Attention allows the model to weigh other words' importance and capture contextual information.\n",
        "  * For example, in the sentence “I went to the bank to deposit money”, the word “bank” is ambiguous. Is it a river bank or a savings bank? The model can use the word “deposit” to understand that it’s a savings bank. These are **contextualized embeddings** - their word embedding can differ based on their surrounding words."
      ]
    },
    {
      "cell_type": "markdown",
      "metadata": {
        "id": "1av5z7yqok4x"
      },
      "source": [
        "Ok...we talked a lot about word embeddings; time to run some code. Let's use a pre-trained transformer model, [bert-base-uncased](https://huggingface.co/bert-base-uncased), and obtain some word embeddings. We'll use the `transformers` library for this. Let's begin by loading the model and its tokenizer"
      ]
    },
    {
      "cell_type": "code",
      "execution_count": 14,
      "metadata": {
        "id": "wp9z7nG0ok4x",
        "outputId": "e980ce15-c078-4955-f91b-879f95fea5bd",
        "colab": {
          "base_uri": "https://localhost:8080/",
          "height": 177,
          "referenced_widgets": [
            "50a4a73d1d6348b8a6b6a967b9f2812c",
            "54fe6db26387443c93e983cb28a6e28d",
            "2094b2c2f9b044bc98c441869ad74ab5",
            "f5db0988821c42ae937e2a5a646c9937",
            "0f0c2c8a588f43459f6f0c89bd998108",
            "56412abbc5f242d7b9f6f26d57c807fe",
            "71dd9af56ccc48edb750f4655278a41d",
            "243acbfbed7847bb85833ee518552050",
            "1db478c7af4e43be999a6824d2668e48",
            "65c36ddf0e104d01a3119524860f923c",
            "23cb05438ccd44dc8f91ccfb141efd3c",
            "c985b653a09d4021a40125c27b7c0a00",
            "a5aaead8aab84906abc05795fb70f678",
            "93b93489c3924ab4900dad8f5219b90c",
            "6451dc75a04642a9859e25ae261e688d",
            "a3f77e8faeb84d57b8b2ed20bf84421f",
            "f9546cd93c7f4ed0aacb2456432952f7",
            "1a87f764f5dd44d794319d298ef7b1ce",
            "0482bc83d8f54ec1b6be994f3af7e88b",
            "f27eea66410f4e7cbecac9a559ff5781",
            "e67c29b2c20b4fdfb524b598028f470c",
            "9e3c8028cca1409682fc9b2da8843cfc",
            "e9fa0ec7ecd24ffba73fb9dfad2e4877",
            "f762e227127a47cc9862db021115493c",
            "2ca15ce37cd545c5a2ddb799176c92da",
            "9c2be5a6ba41460eabbc739375e2e29d",
            "7d4af6dc87444259b29409332aa9b047",
            "2f985a9ba9d043e490c86d6485a703fd",
            "61fa8523dacf4a97a8d0b8a63c58eca2",
            "6c5ae6fe14424762b78e09952552cb3e",
            "4bba5e78e78240afa12d479979d9a385",
            "bd44a742d6db491c8af0f9fc5aeb0fcc",
            "75dd6229d21441fb9283ee4255c9f7ec",
            "9c4a180e0e3743c686d4e4008e048b79",
            "850120da305049e4b5e22c4fa1b9be18",
            "2795032f876f497a90f4c867eace1c55",
            "a60d3eae9cce4e418c3c4dbf0dc0682f",
            "ea34be8a3e5441e89357b565fc82846d",
            "f0b350c494ce4734a8c6b2a772e3bc0f",
            "257d92925ba24c83acfcdc7ac5e9b7ba",
            "8ed33798608d42098f044ef84e53764f",
            "cef2d7a447fc4348a77d285894cc5035",
            "fd6c85afb1a8453dbafc300eb4558e80",
            "ba19f9a30a834ad1917ec8211269e9b6",
            "dc612da6ee8c4c2da2080d0f1ff51365",
            "8914fc3d858b4ab0ad0be25c1a8fb95c",
            "94667dd8cd954092949dcbcffc1ef9ae",
            "5031cf63e3e0477aa2d767cc86a52d44",
            "6589c92216ee49438f95f6b6005fa6ae",
            "9c7df745b3ea4157943f58cc23404aa8",
            "be559d3fce29476b90ed3f8365fdb2c6",
            "d56e0a9a8db04920a1278d197f559074",
            "1707388fde7d48119e4a906bc2d46739",
            "639971696d0a4f69be3695cb1317a26c",
            "3c6248f94bfe4c229dfd96605e1aa023"
          ]
        }
      },
      "outputs": [
        {
          "output_type": "display_data",
          "data": {
            "text/plain": [
              "tokenizer_config.json:   0%|          | 0.00/48.0 [00:00<?, ?B/s]"
            ],
            "application/vnd.jupyter.widget-view+json": {
              "version_major": 2,
              "version_minor": 0,
              "model_id": "50a4a73d1d6348b8a6b6a967b9f2812c"
            }
          },
          "metadata": {}
        },
        {
          "output_type": "display_data",
          "data": {
            "text/plain": [
              "config.json:   0%|          | 0.00/570 [00:00<?, ?B/s]"
            ],
            "application/vnd.jupyter.widget-view+json": {
              "version_major": 2,
              "version_minor": 0,
              "model_id": "c985b653a09d4021a40125c27b7c0a00"
            }
          },
          "metadata": {}
        },
        {
          "output_type": "display_data",
          "data": {
            "text/plain": [
              "vocab.txt:   0%|          | 0.00/232k [00:00<?, ?B/s]"
            ],
            "application/vnd.jupyter.widget-view+json": {
              "version_major": 2,
              "version_minor": 0,
              "model_id": "e9fa0ec7ecd24ffba73fb9dfad2e4877"
            }
          },
          "metadata": {}
        },
        {
          "output_type": "display_data",
          "data": {
            "text/plain": [
              "tokenizer.json:   0%|          | 0.00/466k [00:00<?, ?B/s]"
            ],
            "application/vnd.jupyter.widget-view+json": {
              "version_major": 2,
              "version_minor": 0,
              "model_id": "9c4a180e0e3743c686d4e4008e048b79"
            }
          },
          "metadata": {}
        },
        {
          "output_type": "display_data",
          "data": {
            "text/plain": [
              "model.safetensors:   0%|          | 0.00/440M [00:00<?, ?B/s]"
            ],
            "application/vnd.jupyter.widget-view+json": {
              "version_major": 2,
              "version_minor": 0,
              "model_id": "dc612da6ee8c4c2da2080d0f1ff51365"
            }
          },
          "metadata": {}
        }
      ],
      "source": [
        "from transformers import AutoModel, AutoTokenizer\n",
        "\n",
        "# Load model and tokenizer from huggingface\n",
        "tokenizer = AutoTokenizer.from_pretrained(\"bert-base-uncased\")\n",
        "model = AutoModel.from_pretrained(\"bert-base-uncased\")"
      ]
    },
    {
      "cell_type": "markdown",
      "metadata": {
        "id": "c_ygE1Nook4x"
      },
      "source": [
        "We haven’t talked about tokenization so far. Until now, we’ve assumed we split data into words. When using transformers, we divided text into tokens. For example, the word “banking” could be split into two tokens, “bank” and “ing”. The tokenizer is responsible for breaking the data into tokens, and the way it splits the data is model-specific and is a deterministic learning process, which means that the same word will always be split into the same tokens. Let’s see what this looks like in code:"
      ]
    },
    {
      "cell_type": "code",
      "execution_count": 15,
      "metadata": {
        "id": "2jlH5BgWok4x",
        "outputId": "d0c4b3cc-ad50-4892-f14c-df8ca14d239e",
        "colab": {
          "base_uri": "https://localhost:8080/"
        }
      },
      "outputs": [
        {
          "output_type": "execute_result",
          "data": {
            "text/plain": [
              "['[CLS]', 'the', 'king', 'and', 'the', 'queen', 'are', 'happy', '.', '[SEP]']"
            ]
          },
          "metadata": {},
          "execution_count": 15
        }
      ],
      "source": [
        "text = \"The king and the queen are happy.\"\n",
        "tokenizer.tokenize(text, add_special_tokens=True)"
      ]
    },
    {
      "cell_type": "markdown",
      "metadata": {
        "id": "96CEXuAaok4x"
      },
      "source": [
        "Alright, in this example, each word was a token! (this is not always the case, as we'll soon see). But we also see two things that might be unexpected: `[CLS]` and `[SEP]`. These are special tokens added to the sentence's beginning and end. These are used because BERT was trained with that format. One of BERT's training objectives is next-sentence prediction, which means that it was trained to predict whether two sentences are consecutive. The `[CLS]` token represents the entire sentence, and the `[SEP]` token separates sentences. This will be interesting later when we talk about sentence embeddings."
      ]
    },
    {
      "cell_type": "markdown",
      "metadata": {
        "id": "nlskpPMMok4y"
      },
      "source": [
        " Let's now obtain the embeddings of each token."
      ]
    },
    {
      "cell_type": "code",
      "execution_count": 16,
      "metadata": {
        "id": "a5bIiTPQok4y",
        "outputId": "e8870b2e-fd8b-4a0f-f92c-186bbab904fd",
        "colab": {
          "base_uri": "https://localhost:8080/"
        }
      },
      "outputs": [
        {
          "output_type": "execute_result",
          "data": {
            "text/plain": [
              "torch.Size([1, 10, 768])"
            ]
          },
          "metadata": {},
          "execution_count": 16
        }
      ],
      "source": [
        "encoded_input = tokenizer(text, return_tensors=\"pt\")\n",
        "output = model(**encoded_input)\n",
        "output[\"last_hidden_state\"].shape"
      ]
    },
    {
      "cell_type": "markdown",
      "metadata": {
        "id": "Prx1G7gkok4y"
      },
      "source": [
        "Great! BERT is giving us an embedding of 768 values for each token. Each of these tokens has semantic information - **they capture the meaning of the word in the context of the sentence**. Let's see if the embedding corresponding to the word \"king\" in this context is similar to the one in \"queen\"."
      ]
    },
    {
      "cell_type": "code",
      "execution_count": 17,
      "metadata": {
        "id": "uJG00qqPok4y",
        "outputId": "f3d75486-2d92-4404-deea-e85261a1c7a5",
        "colab": {
          "base_uri": "https://localhost:8080/"
        }
      },
      "outputs": [
        {
          "output_type": "stream",
          "name": "stdout",
          "text": [
            "Shape of embedding torch.Size([768])\n",
            "Similarity between king and queen embedding 0.7920711040496826\n"
          ]
        }
      ],
      "source": [
        "king_embedding = output[\"last_hidden_state\"][0][2]  # 2 is the position of king\n",
        "queen_embedding = output[\"last_hidden_state\"][0][5]  # 5 is the position of queen\n",
        "print(f\"Shape of embedding {king_embedding.shape}\")\n",
        "print(\n",
        "    f\"Similarity between king and queen embedding {util.pytorch_cos_sim(king_embedding, queen_embedding)[0][0]}\"\n",
        ")"
      ]
    },
    {
      "cell_type": "markdown",
      "metadata": {
        "id": "uob9nIL8ok4y"
      },
      "source": [
        "Ok, it seems they are quite similar in this context! Let’s now look at the word “happy”."
      ]
    },
    {
      "cell_type": "code",
      "execution_count": 18,
      "metadata": {
        "id": "oCY4cl0Xok4y",
        "outputId": "74e4a1cf-effe-4394-8327-59b408bce8af",
        "colab": {
          "base_uri": "https://localhost:8080/"
        }
      },
      "outputs": [
        {
          "output_type": "execute_result",
          "data": {
            "text/plain": [
              "tensor([[0.5239]], grad_fn=<MmBackward0>)"
            ]
          },
          "metadata": {},
          "execution_count": 18
        }
      ],
      "source": [
        "happy_embedding = output.last_hidden_state[0][7]  # happy\n",
        "util.pytorch_cos_sim(king_embedding, happy_embedding)"
      ]
    },
    {
      "cell_type": "markdown",
      "metadata": {
        "id": "ikR1_kProk42"
      },
      "source": [
        "This makes sense; the queen embedding is more similar to the king than the happy embedding.\n",
        "\n",
        "Let's now look at how the same word can have different values depending on the context:"
      ]
    },
    {
      "cell_type": "code",
      "execution_count": 19,
      "metadata": {
        "id": "P2AthhRvok42",
        "outputId": "5cdfc8bf-5669-41a7-bfd7-891d6f501df0",
        "colab": {
          "base_uri": "https://localhost:8080/"
        }
      },
      "outputs": [
        {
          "output_type": "execute_result",
          "data": {
            "text/plain": [
              "torch.Size([1, 7, 768])"
            ]
          },
          "metadata": {},
          "execution_count": 19
        }
      ],
      "source": [
        "text = \"The angry and unhappy king\"\n",
        "encoded_input = tokenizer(text, return_tensors=\"pt\")\n",
        "output = model(**encoded_input)\n",
        "output[\"last_hidden_state\"].shape"
      ]
    },
    {
      "cell_type": "code",
      "execution_count": 20,
      "metadata": {
        "id": "OS9ZkWftok42",
        "outputId": "ac6386c4-f908-473d-901e-43822f76db48",
        "colab": {
          "base_uri": "https://localhost:8080/"
        }
      },
      "outputs": [
        {
          "output_type": "execute_result",
          "data": {
            "text/plain": [
              "['[CLS]', 'the', 'angry', 'and', 'unhappy', 'king', '[SEP]']"
            ]
          },
          "metadata": {},
          "execution_count": 20
        }
      ],
      "source": [
        "tokenizer.tokenize(text, add_special_tokens=True)"
      ]
    },
    {
      "cell_type": "code",
      "execution_count": 21,
      "metadata": {
        "id": "-po1eiF0ok43",
        "outputId": "c271e20d-04e4-466f-b6fb-8edecdc1937c",
        "colab": {
          "base_uri": "https://localhost:8080/"
        }
      },
      "outputs": [
        {
          "output_type": "execute_result",
          "data": {
            "text/plain": [
              "tensor([[0.5740]], grad_fn=<MmBackward0>)"
            ]
          },
          "metadata": {},
          "execution_count": 21
        }
      ],
      "source": [
        "king_embedding_2 = output[\"last_hidden_state\"][0][5]\n",
        "util.pytorch_cos_sim(king_embedding, king_embedding_2)"
      ]
    },
    {
      "cell_type": "markdown",
      "metadata": {
        "id": "Ub2j7ezwok43"
      },
      "source": [
        "Wow! Although both embeddings seem to correspond to the \"king\" embedding, they are pretty different in the vector space. What is going on? Remember that these are contextual embeddings. The context of the first sentence is quite positive, while the second sentence is quite negative. Hence, the embeddings are different."
      ]
    },
    {
      "cell_type": "markdown",
      "metadata": {
        "id": "Va9hDtXJok43"
      },
      "source": [
        "Previously, we discussed how the tokenizer might split a word into multiple tokens. A valid question is how we would obtain the word embedding in such a case. Let’s look at an example with the long word “tokenization.”"
      ]
    },
    {
      "cell_type": "code",
      "execution_count": 22,
      "metadata": {
        "id": "9mXTDqVqok43",
        "outputId": "be9e6b76-a68b-4bf0-e919-8c10d1855d31",
        "colab": {
          "base_uri": "https://localhost:8080/"
        }
      },
      "outputs": [
        {
          "output_type": "execute_result",
          "data": {
            "text/plain": [
              "['token', '##ization']"
            ]
          },
          "metadata": {},
          "execution_count": 22
        }
      ],
      "source": [
        "tokenizer.tokenize(\"tokenization\")"
      ]
    },
    {
      "cell_type": "markdown",
      "metadata": {
        "id": "dW8A45a9ok43"
      },
      "source": [
        "The word \"tokenization\" was split into two tokens, but we care about the embedding of \"tokenization\"! What can we do? We can do a **pooling strategy** in which we obtain the embedding of each token and then average them to obtain the word embedding. Let's try it out!\n",
        "\n",
        "As before, we get started by tokenizing the test and running the token IDs through the model."
      ]
    },
    {
      "cell_type": "code",
      "execution_count": 23,
      "metadata": {
        "id": "uEgJRYarok43"
      },
      "outputs": [],
      "source": [
        "text = \"this is about tokenization\"\n",
        "\n",
        "encoded_input = tokenizer(text, return_tensors=\"pt\")\n",
        "output = model(**encoded_input)"
      ]
    },
    {
      "cell_type": "code",
      "source": [
        "output[0]"
      ],
      "metadata": {
        "id": "Gvgxa55FtzIB",
        "outputId": "3f37a33c-b380-4792-c339-3a194a9efa78",
        "colab": {
          "base_uri": "https://localhost:8080/"
        }
      },
      "execution_count": 25,
      "outputs": [
        {
          "output_type": "execute_result",
          "data": {
            "text/plain": [
              "tensor([[[-0.0118,  0.0277, -0.3202,  ..., -0.3741,  0.0631,  1.0021],\n",
              "         [ 0.0527, -0.5121, -0.9142,  ..., -0.0697,  0.1722,  0.7908],\n",
              "         [ 0.0544, -0.5137, -0.2684,  ...,  0.4412, -0.3999,  1.1182],\n",
              "         ...,\n",
              "         [-0.8735, -0.2365, -0.6487,  ..., -0.0165, -1.0555,  0.8577],\n",
              "         [-0.4949, -0.5812, -0.6471,  ..., -0.0490, -0.2956,  0.5507],\n",
              "         [ 0.7807, -0.1388, -0.6067,  ...,  0.0981, -0.8378, -0.1401]]],\n",
              "       grad_fn=<NativeLayerNormBackward0>)"
            ]
          },
          "metadata": {},
          "execution_count": 25
        }
      ]
    },
    {
      "cell_type": "markdown",
      "metadata": {
        "id": "A39XrlJsok43"
      },
      "source": [
        "Let's look at the tokenization of the sentence:"
      ]
    },
    {
      "cell_type": "code",
      "execution_count": 26,
      "metadata": {
        "id": "0NlPCEBlok43",
        "outputId": "f7ec3283-1bf6-45be-a96f-9b61df6c1738",
        "colab": {
          "base_uri": "https://localhost:8080/"
        }
      },
      "outputs": [
        {
          "output_type": "execute_result",
          "data": {
            "text/plain": [
              "['[CLS]', 'this', 'is', 'about', 'token', '##ization', '[SEP]']"
            ]
          },
          "metadata": {},
          "execution_count": 26
        }
      ],
      "source": [
        "tokenizer.tokenize(text, add_special_tokens=True)"
      ]
    },
    {
      "cell_type": "markdown",
      "metadata": {
        "id": "pypogHfLok44"
      },
      "source": [
        "So we want to pool the embeddings of the tokens 4 and 5 by averaging them. Let's first obtain the embeddings of the tokens."
      ]
    },
    {
      "cell_type": "code",
      "execution_count": 27,
      "metadata": {
        "id": "Xk2Fwh8vok44",
        "outputId": "469f6765-6e6f-43a1-8135-b3b387beea39",
        "colab": {
          "base_uri": "https://localhost:8080/"
        }
      },
      "outputs": [
        {
          "output_type": "execute_result",
          "data": {
            "text/plain": [
              "torch.Size([2, 768])"
            ]
          },
          "metadata": {},
          "execution_count": 27
        }
      ],
      "source": [
        "word_token_indices = [4, 5]\n",
        "word_embeddings = output[\"last_hidden_state\"][0, word_token_indices]\n",
        "word_embeddings.shape"
      ]
    },
    {
      "cell_type": "markdown",
      "metadata": {
        "id": "aweDBCgHok44"
      },
      "source": [
        "And now let's **average** them using `torch.mean`."
      ]
    },
    {
      "cell_type": "code",
      "execution_count": 28,
      "metadata": {
        "id": "y5RQxBCSok44",
        "outputId": "74688cfc-39e4-4336-9895-2ac322461c1e",
        "colab": {
          "base_uri": "https://localhost:8080/"
        }
      },
      "outputs": [
        {
          "output_type": "execute_result",
          "data": {
            "text/plain": [
              "torch.Size([768])"
            ]
          },
          "metadata": {},
          "execution_count": 28
        }
      ],
      "source": [
        "import torch\n",
        "\n",
        "torch.mean(word_embeddings, dim=0).shape"
      ]
    },
    {
      "cell_type": "markdown",
      "metadata": {
        "id": "AHgjpa_nok45"
      },
      "source": [
        "Let's wrap all of it in a function so we can easily use it later."
      ]
    },
    {
      "cell_type": "code",
      "execution_count": 29,
      "metadata": {
        "id": "ThpIm-VSok45"
      },
      "outputs": [],
      "source": [
        "def get_word_embedding(text, word):\n",
        "    # Encode the text and do a forward pass through the model to get the hidden states\n",
        "    encoded_input = tokenizer(text, return_tensors=\"pt\")\n",
        "    with torch.no_grad():  # We don't need gradients for embedding extraction\n",
        "        output = model(**encoded_input)\n",
        "\n",
        "    # Find the indices for the word\n",
        "    word_ids = tokenizer.encode(\n",
        "        word, add_special_tokens=False\n",
        "    )  # No special tokens anymore\n",
        "    word_token_indices = [i for i, token_id in enumerate(encoded_input[\"input_ids\"][0]) if token_id in word_ids]\n",
        "\n",
        "    # Pool the embeddings for the word\n",
        "    word_embeddings = output[\"last_hidden_state\"][0, word_token_indices]\n",
        "    return torch.mean(word_embeddings, dim=0)"
      ]
    },
    {
      "cell_type": "markdown",
      "metadata": {
        "id": "R0ZN2XEook45"
      },
      "source": [
        "**Example 1.** Similarity between king and queen embeddings in the context of both being angry."
      ]
    },
    {
      "cell_type": "code",
      "execution_count": 30,
      "metadata": {
        "id": "lngye722ok45",
        "outputId": "62772897-9e20-4ac3-c3a6-801b17990ec9",
        "colab": {
          "base_uri": "https://localhost:8080/"
        }
      },
      "outputs": [
        {
          "output_type": "execute_result",
          "data": {
            "text/plain": [
              "tensor([[0.8564]])"
            ]
          },
          "metadata": {},
          "execution_count": 30
        }
      ],
      "source": [
        "util.pytorch_cos_sim(\n",
        "    get_word_embedding(\"The king is angry\", \"king\"),\n",
        "    get_word_embedding(\"The queen is angry\", \"queen\"),\n",
        ")"
      ]
    },
    {
      "cell_type": "markdown",
      "metadata": {
        "id": "sWqx2Znbok45"
      },
      "source": [
        "**Example 2.** Similarity between king and queen embeddings in the context of the king being happy and the queen angry. Notice how they are less similar than in the previous example."
      ]
    },
    {
      "cell_type": "code",
      "execution_count": 31,
      "metadata": {
        "id": "-JwHpxq8ok46",
        "outputId": "6681a918-ac81-4627-b774-257287545e34",
        "colab": {
          "base_uri": "https://localhost:8080/"
        }
      },
      "outputs": [
        {
          "output_type": "execute_result",
          "data": {
            "text/plain": [
              "tensor([[0.8273]])"
            ]
          },
          "metadata": {},
          "execution_count": 31
        }
      ],
      "source": [
        "util.pytorch_cos_sim(\n",
        "    get_word_embedding(\"The king is happy\", \"king\"),\n",
        "    get_word_embedding(\"The queen is angry\", \"queen\"),\n",
        ")"
      ]
    },
    {
      "cell_type": "markdown",
      "metadata": {
        "id": "Lg5kg8WNok46"
      },
      "source": [
        "**Example 3**. Similarity between king embeddings in two very different contexts. Even if they are the same word, the different context of the word makes the embeddings very different."
      ]
    },
    {
      "cell_type": "code",
      "execution_count": 32,
      "metadata": {
        "id": "2hDjzq_0ok46",
        "outputId": "a3b09e84-262d-43b9-ef85-1737d161075f",
        "colab": {
          "base_uri": "https://localhost:8080/"
        }
      },
      "outputs": [
        {
          "output_type": "execute_result",
          "data": {
            "text/plain": [
              "tensor([[0.5740]])"
            ]
          },
          "metadata": {},
          "execution_count": 32
        }
      ],
      "source": [
        "# This is same as before\n",
        "util.pytorch_cos_sim(\n",
        "    get_word_embedding(\"The king and the queen are happy.\", \"king\"),\n",
        "    get_word_embedding(\"The angry and unhappy king\", \"king\"),\n",
        ")"
      ]
    },
    {
      "cell_type": "markdown",
      "metadata": {
        "id": "fP8hjmCuok46"
      },
      "source": [
        "**Example 4.** Similarity between a word that has two different meanings. The word \"bank\" is ambiguous, it can be a river bank or a savings bank. The embeddings are different depending on the context."
      ]
    },
    {
      "cell_type": "code",
      "execution_count": 33,
      "metadata": {
        "id": "5d5oN6Ypok46",
        "outputId": "dc7a1fc6-2044-414e-9576-85235e4ff82c",
        "colab": {
          "base_uri": "https://localhost:8080/"
        }
      },
      "outputs": [
        {
          "output_type": "execute_result",
          "data": {
            "text/plain": [
              "tensor([[0.7587]])"
            ]
          },
          "metadata": {},
          "execution_count": 33
        }
      ],
      "source": [
        "util.pytorch_cos_sim(\n",
        "    get_word_embedding(\"The river bank\", \"bank\"),\n",
        "    get_word_embedding(\"The savings bank\", \"bank\"),\n",
        ")"
      ]
    },
    {
      "cell_type": "markdown",
      "metadata": {
        "id": "X2CHz4-Cok47"
      },
      "source": [
        "I hope this gave an idea about what word embeddings are. Now that we understand word embeddings let’s look into sentence embeddings!"
      ]
    },
    {
      "cell_type": "markdown",
      "metadata": {
        "id": "tiCluLAwok47"
      },
      "source": [
        "### Sentence Embeddings\n",
        "\n",
        "Just as word embeddings are vector representations of words, sentence embeddings are vector representations of a sentence. We can also compute embeddings of paragraphs and documents! Let’s look into it.\n",
        "\n",
        "There are **three approaches we can take**: `[CLS]` pooling, max pooling and mean pooling.\n",
        "\n",
        "* Mean pooling means averaging all the word embeddings of the sentence.\n",
        "* Max pooling means taking the maximum value of each dimension of the word embeddings.\n",
        "* `[CLS]` pooling means using the embedding corresponding to the `[CLS]` token as the sentence embedding. Let's look deeper into this last one, which is the least intuitive.\n",
        "\n",
        "#### [CLS] Pooling\n",
        "\n",
        "As we saw before, BERT adds a special token `[CLS]` at the beginning of the sentence.\n",
        "  * This token is used to represent the **entire sentence.**\n",
        "  * For example, when someone wants to fine-tune a BERT model to perform **text classification**, a common approach is to **add a linear layer on top of the `[CLS]` embedding.**\n",
        "  * **The idea is that the `[CLS]` token will capture the meaning of the entire sentence.**\n",
        "\n",
        "![The hidden state/embedding corresponding to the `CLS` token can be used to fine-tune a classification model.](https://github.com/osanseviero/hackerllama/blob/main/nbs/blog/posts/sentence_embeddings/classification.png?raw=1)\n",
        "\n",
        "We can take the same approach and use the embedding of the [CLS] token as the sentence embedding. Let’s see how this works in code. We’ll use the same sentence as before."
      ]
    },
    {
      "cell_type": "code",
      "execution_count": 36,
      "metadata": {
        "id": "tXoWLMSqok47",
        "outputId": "b3d95d14-4a8f-4528-bdaf-9f986656f159",
        "colab": {
          "base_uri": "https://localhost:8080/"
        }
      },
      "outputs": [
        {
          "output_type": "execute_result",
          "data": {
            "text/plain": [
              "torch.Size([1, 768])"
            ]
          },
          "metadata": {},
          "execution_count": 36
        }
      ],
      "source": [
        "encoded_input = tokenizer(\"This is an example sentence\", return_tensors=\"pt\")\n",
        "model_output = model(**encoded_input)\n",
        "sentence_embedding = model_output[\"last_hidden_state\"][:, 0, :]\n",
        "sentence_embedding.shape"
      ]
    },
    {
      "cell_type": "markdown",
      "metadata": {
        "id": "8KONMVsTok47"
      },
      "source": [
        "Great! We obtained the model output's first embedding, corresponding to the [CLS] token. Let’s wrap this code into a function."
      ]
    },
    {
      "cell_type": "code",
      "execution_count": 37,
      "metadata": {
        "id": "2ZlL2x3pok48"
      },
      "outputs": [],
      "source": [
        "def cls_pooling(model_output):\n",
        "    return model_output[\"last_hidden_state\"][:, 0, :]\n",
        "\n",
        "\n",
        "def get_sentence_embedding(text):\n",
        "    encoded_input = tokenizer(text, return_tensors=\"pt\")\n",
        "    with torch.no_grad():\n",
        "        model_output = model(**encoded_input)\n",
        "    return cls_pooling(model_output)"
      ]
    },
    {
      "cell_type": "code",
      "execution_count": 38,
      "metadata": {
        "id": "LBU2ijxXok48",
        "outputId": "2381970c-b9ec-486c-c777-6318b3ae250b",
        "colab": {
          "base_uri": "https://localhost:8080/"
        }
      },
      "outputs": [
        {
          "output_type": "stream",
          "name": "stdout",
          "text": [
            "tensor([[0.9261]]) The weather today is beautiful\n",
            "tensor([[0.8903]]) It's raining!\n",
            "tensor([[0.9317]]) Dogs are awesome\n"
          ]
        }
      ],
      "source": [
        "embeddings = [get_sentence_embedding(sentence) for sentence in sentences]\n",
        "query_embedding = get_sentence_embedding(\"Today is a sunny day\")\n",
        "for embedding, sentence in zip(embeddings, sentences):\n",
        "    similarity = util.pytorch_cos_sim(query_embedding, embedding)\n",
        "    print(similarity, sentence)"
      ]
    },
    {
      "cell_type": "markdown",
      "metadata": {
        "id": "sd4VL1jsok48"
      },
      "source": [
        "Hmm...something looks off here 🤔 One would have expected this to work out of the box.\n",
        "\n",
        "Well, it turns out BERT has an additional trick. As mentioned before, when BERT was trained, the **CLS token was used to predict whether two sentences were consecutive.** To do so, BERT processes the [CLS]-corresponding embedding and passes it through a linear layer and a tanh activation function (see [code here](https://github.com/huggingface/transformers/blob/95754b47a6d4fbdad3440a45762531e8c471c528/src/transformers/models/bert/modeling_bert.py#L652C7-L665)). The idea is that the linear layer and the tanh activation function will learn a better representation of the `[CLS]` token.  This is the `pooler` component of the BERT model and is used to obtain the `model_output.pooler_output`.\n",
        "\n",
        ":::callout\n",
        "\n",
        "This might sound confusing, so let’s repeat what’s happening here.\n",
        "\n",
        "1. BERT outputs the embeddings of each token.\n",
        "2. The first embedding corresponds to the `[CLS]` token.\n",
        "3. The `[CLS]` token is processed through a linear layer and a tanh activation function to obtain the `pooler_output`.\n",
        "\n",
        "**During training, the `pooler_output` is used to predict whether two sentences are consecutive (one of the pre-training tasks of BERT). This makes processing the [CLS] token more meaningful than the raw [CLS] embedding.**\n",
        "\n",
        ":::"
      ]
    },
    {
      "cell_type": "markdown",
      "metadata": {
        "id": "j8yB8Y1wok48"
      },
      "source": [
        "To show that there is no magic going on here, we can either pass the list of word embeddings to `model.pooler` or simply get the `pooler_output` from the model output. Let's try it out!"
      ]
    },
    {
      "cell_type": "code",
      "execution_count": 39,
      "metadata": {
        "id": "CFIzS2dwok49",
        "outputId": "a8c1abaf-587e-4461-d765-2de39cc3d747",
        "colab": {
          "base_uri": "https://localhost:8080/"
        }
      },
      "outputs": [
        {
          "output_type": "execute_result",
          "data": {
            "text/plain": [
              "tensor([-0.9302, -0.4884, -0.4387,  0.8024,  0.3668, -0.3349,  0.9438,  0.3593,\n",
              "        -0.3216, -1.0000], grad_fn=<SliceBackward0>)"
            ]
          },
          "metadata": {},
          "execution_count": 39
        }
      ],
      "source": [
        "model.pooler(model_output[\"last_hidden_state\"])[0][:10]"
      ]
    },
    {
      "cell_type": "code",
      "execution_count": 40,
      "metadata": {
        "id": "fIaNb6nLok49",
        "outputId": "507aee28-96ca-4c65-c028-b2d52d4a5e56",
        "colab": {
          "base_uri": "https://localhost:8080/"
        }
      },
      "outputs": [
        {
          "output_type": "execute_result",
          "data": {
            "text/plain": [
              "tensor([-0.9302, -0.4884, -0.4387,  0.8024,  0.3668, -0.3349,  0.9438,  0.3593,\n",
              "        -0.3216, -1.0000], grad_fn=<SliceBackward0>)"
            ]
          },
          "metadata": {},
          "execution_count": 40
        }
      ],
      "source": [
        "model_output[\"pooler_output\"][0][:10]"
      ]
    },
    {
      "cell_type": "markdown",
      "metadata": {
        "id": "RuJOneMrok49"
      },
      "source": [
        "Yay! As you can see, the first ten elements of the embedding are identical! Let’s now re-compute the distances using this new embedding technique:"
      ]
    },
    {
      "cell_type": "code",
      "execution_count": 41,
      "metadata": {
        "id": "Ls_nl7DMok49",
        "outputId": "95eda919-657f-4f26-f422-9673ea5c5c12",
        "colab": {
          "base_uri": "https://localhost:8080/"
        }
      },
      "outputs": [
        {
          "output_type": "stream",
          "name": "stdout",
          "text": [
            "tensor([[0.9673]], grad_fn=<MmBackward0>) The weather today is beautiful\n",
            "tensor([[0.9029]], grad_fn=<MmBackward0>) It's raining!\n",
            "tensor([[0.8930]], grad_fn=<MmBackward0>) Dogs are awesome\n"
          ]
        }
      ],
      "source": [
        "def cls_pooling(model_output):\n",
        "    return model.pooler(model_output[\"last_hidden_state\"])  # we changed this\n",
        "\n",
        "\n",
        "# This stays the same\n",
        "embeddings = [get_sentence_embedding(sentence) for sentence in sentences]\n",
        "query_embedding = get_sentence_embedding(\"Today is a sunny day\")\n",
        "for embedding, sentence in zip(embeddings, sentences):\n",
        "    similarity = util.pytorch_cos_sim(query_embedding, embedding)\n",
        "    print(similarity, sentence)"
      ]
    },
    {
      "cell_type": "markdown",
      "metadata": {
        "id": "O_Hrf-3vok49"
      },
      "source": [
        "Much, much better! We just obtained the closest sentences to \"Today is a sunny day\"."
      ]
    },
    {
      "cell_type": "markdown",
      "metadata": {
        "id": "MhbXiH1Hok4-"
      },
      "source": [
        "## Sentence Transformers\n",
        "\n",
        "### Using the transformers library\n",
        "\n",
        "This yields some decent results, but in practice, this was not much better than using Word2Vec or GloVe word embeddings and averaging them. The reason is that the [CLS] token is not trained to be a good sentence embedding. It’s trained to be a good sentence embedding for next-sentence prediction!\n",
        "\n",
        "Introducing 🥁🥁🥁 Sentence Transformers! Sentence Sentence Transformers (also known as SBERT) have a special training technique focusing on yielding high-quality sentence embeddings. Just as in the TL;DR section of this blog post, let's use the [all-MiniLM-L6-v2](https://huggingface.co/sentence-transformers/all-MiniLM-L6-v2) model.  In the beginning, we used the `sentence-transformers` library, which is a high-level wrapper library around `transformers`. Let's try to go the hard way first! The process is as follows:\n",
        "\n",
        "1. We tokenize the input sentence.\n",
        "2. We process the tokens through the model.\n",
        "3. We calculate the mean of the token embeddings.\n",
        "4. We normalize the embeddings to ensure the embedding vector has a unit length."
      ]
    },
    {
      "cell_type": "markdown",
      "metadata": {
        "id": "KB6rjKKQok4-"
      },
      "source": [
        "Just as before, we can load the model and the tokenizer, tokenize the sentence and pass it to the model"
      ]
    },
    {
      "cell_type": "code",
      "execution_count": 42,
      "metadata": {
        "id": "fnTw9AVdok4-"
      },
      "outputs": [],
      "source": [
        "# 0a. tokenizer from huggingface model\n",
        "tokenizer = AutoTokenizer.from_pretrained(\"sentence-transformers/all-MiniLM-L6-v2\")\n",
        "\n",
        "# 0b. model from huggingface\n",
        "model = AutoModel.from_pretrained(\"sentence-transformers/all-MiniLM-L6-v2\")\n",
        "\n",
        "# 1a. Tokenize input sentence\n",
        "encoded_input = tokenizer(\"Today is a sunny day\", return_tensors=\"pt\")\n",
        "\n",
        "# 1b. Get the tokenized output\n",
        "model_output = model(**encoded_input)"
      ]
    },
    {
      "cell_type": "markdown",
      "metadata": {
        "id": "6t-iPOTOok4-"
      },
      "source": [
        "* What we’ve done until now is very similar to what we did before, except that we are using a different model.\n",
        "* The next step is to do **pooling.**\n",
        "* While previously we did [CLS] pooling, sentence transformers usually use **mean or max pooling.** Let’s try it out!"
      ]
    },
    {
      "cell_type": "code",
      "execution_count": 43,
      "metadata": {
        "id": "dgW7pN3Pok4-",
        "outputId": "1a64e8be-d51a-43a2-df0a-ed93a653d2ea",
        "colab": {
          "base_uri": "https://localhost:8080/"
        }
      },
      "outputs": [
        {
          "output_type": "execute_result",
          "data": {
            "text/plain": [
              "torch.Size([1, 7, 384])"
            ]
          },
          "metadata": {},
          "execution_count": 43
        }
      ],
      "source": [
        "# get shape of last hidden states\n",
        "token_embeddings = model_output[\"last_hidden_state\"]\n",
        "token_embeddings.shape"
      ]
    },
    {
      "cell_type": "markdown",
      "metadata": {
        "id": "QKNVq5ffok4_"
      },
      "source": [
        "Note how, with this model, each embedding is smaller (384 values rather than 768). We can now compute the mean of the embeddings to obtain the sentence embedding."
      ]
    },
    {
      "cell_type": "code",
      "execution_count": 44,
      "metadata": {
        "id": "gg3TqV1Bok4_",
        "outputId": "81d5d3a4-04aa-42de-dd8f-e3fd567380b9",
        "colab": {
          "base_uri": "https://localhost:8080/"
        }
      },
      "outputs": [
        {
          "output_type": "execute_result",
          "data": {
            "text/plain": [
              "torch.Size([1, 384])"
            ]
          },
          "metadata": {},
          "execution_count": 44
        }
      ],
      "source": [
        "# 3. Calculate Mean\n",
        "mean_embedding = torch.mean(token_embeddings, dim=1)\n",
        "mean_embedding.shape"
      ]
    },
    {
      "cell_type": "markdown",
      "metadata": {
        "id": "UxifPV9mok4_"
      },
      "source": [
        "The last step is to perform normalization. Normalization ensures that the embedding vector has a unit length, which means its length (or magnitude) is 1.\n",
        "\n",
        ":::{.callout-note title=\"What is normalization?\"}\n",
        "\n",
        "To understand why we do normalization, revisiting some vector math is helpful. For a vector v with components (v1, v2, …, vn), it’s length is defined as\n",
        "\n",
        "$$\n",
        "\\| \\mathbf{v} \\| = \\sqrt{v_1^2 + v_2^2 + \\ldots + v_n^2}\n",
        "$$\n",
        "\n",
        "When normalizing a vector, we scale the values so that the vector length is 1. This is done by dividing each vector element by the vector’s magnitude.\n",
        "\n",
        "$$\n",
        "\\mathbf{u} = \\frac{\\mathbf{v}}{\\| \\mathbf{v} \\|}\n",
        "$$\n",
        "\n",
        ":::\n",
        "\n",
        "This is particularly helpful when we want to compare vectors. For example, if we want to compute the cosine similarity between two vectors, we usually compare their direction rather than their magnitude. Normalizing the vectors ensures that each vector contributes equally to the similarity. We’ll talk more about embedding comparisons soon! Let’s try it out!\n",
        "\n",
        ":::{.callout-note}\n",
        "\n",
        "Actually, we are using cosine similarity to compute the similarity between embeddings. As we'll see later in the blog post, the magnitude of the embeddings is not relevant when computing the cosine similarity, but it's still a good think to normalize them in case we want to experiment with other ways to measure distances.\n",
        "\n",
        ":::"
      ]
    },
    {
      "cell_type": "code",
      "execution_count": 45,
      "metadata": {
        "id": "cxiyINpIok4_",
        "outputId": "b18c3919-c55d-4ceb-f00f-c33e94a1be3b",
        "colab": {
          "base_uri": "https://localhost:8080/"
        }
      },
      "outputs": [
        {
          "output_type": "execute_result",
          "data": {
            "text/plain": [
              "torch.Size([1, 384])"
            ]
          },
          "metadata": {},
          "execution_count": 45
        }
      ],
      "source": [
        "import torch.nn.functional as F\n",
        "\n",
        "# 4. Normalization step\n",
        "normalized_embedding = F.normalize(mean_embedding)\n",
        "normalized_embedding.shape"
      ]
    },
    {
      "cell_type": "markdown",
      "metadata": {
        "id": "ZysHylQ8ok4_"
      },
      "source": [
        "Let's wrap this in a function!\n",
        "* These are all the steps from above wrappted in 2 functions\n",
        "1. We tokenize the input sentence.\n",
        "2. We process the tokens through the model.\n",
        "3. We calculate the mean of the token embeddings.\n",
        "4. We normalize the embeddings to ensure the embedding vector has a unit length."
      ]
    },
    {
      "cell_type": "code",
      "execution_count": 47,
      "metadata": {
        "id": "2wruel5zok4_",
        "outputId": "0db4304f-4508-4852-d52d-46cff72bcbab",
        "colab": {
          "base_uri": "https://localhost:8080/"
        }
      },
      "outputs": [
        {
          "output_type": "execute_result",
          "data": {
            "text/plain": [
              "tensor([-0.0163,  0.1041,  0.0974,  0.0742,  0.0375])"
            ]
          },
          "metadata": {},
          "execution_count": 47
        }
      ],
      "source": [
        "def mean_pooling(model_output):\n",
        "    return torch.mean(model_output[\"last_hidden_state\"], dim=1)\n",
        "\n",
        "\n",
        "def get_sentence_embedding(text):\n",
        "    encoded_input = tokenizer(text, return_tensors=\"pt\")\n",
        "    with torch.no_grad():\n",
        "        model_output = model(**encoded_input)\n",
        "    sentence_embeddings = mean_pooling(model_output)\n",
        "    return F.normalize(sentence_embeddings)\n",
        "\n",
        "\n",
        "get_sentence_embedding(\"Today is a sunny day\")[0][:5]"
      ]
    },
    {
      "cell_type": "markdown",
      "metadata": {
        "id": "2gkwkri3ok4_"
      },
      "source": [
        "In practice, you'll likely be encoding batches of sentences, so we need to make some changes\n",
        "\n",
        "* Modify the tokenization so we apply `truncation` (cutting the sentence if it's longer than the maximum length) and `padding` (adding `[PAD]` tokens to the end of the sentence).\n",
        "* Modify the pooling so we take the attention mask into account. The attention mask is a vector of 0s and 1s that indicates which tokens are real and which are padding. **We want to ignore the padding tokens when computing the mean!**"
      ]
    },
    {
      "cell_type": "code",
      "execution_count": 48,
      "metadata": {
        "id": "LnIVdsPhok5A"
      },
      "outputs": [],
      "source": [
        "def mean_pooling(model_output, attention_mask):\n",
        "    token_embeddings = model_output[\"last_hidden_state\"]\n",
        "    input_mask_expanded = (\n",
        "        attention_mask.unsqueeze(-1).expand(token_embeddings.size()).float()\n",
        "    )\n",
        "    return torch.sum(token_embeddings, 1) / torch.clamp(\n",
        "        input_mask_expanded.sum(1), min=1e-9\n",
        "    )\n",
        "\n",
        "\n",
        "# This now receives a list of sentences\n",
        "def get_sentence_embedding(sentences):\n",
        "    encoded_input = tokenizer(\n",
        "        sentences, padding=True, truncation=True, return_tensors=\"pt\"\n",
        "    )\n",
        "    with torch.no_grad():\n",
        "        model_output = model(**encoded_input)\n",
        "    sentence_embeddings = mean_pooling(model_output, encoded_input[\"attention_mask\"])\n",
        "    return F.normalize(sentence_embeddings)"
      ]
    },
    {
      "cell_type": "code",
      "execution_count": 49,
      "metadata": {
        "id": "gJVUK8yrok5A",
        "outputId": "335a21c2-2d81-454d-af1b-8a3bdabd56d0",
        "colab": {
          "base_uri": "https://localhost:8080/"
        }
      },
      "outputs": [
        {
          "output_type": "execute_result",
          "data": {
            "text/plain": [
              "tensor([-0.0163,  0.1041,  0.0974,  0.0742,  0.0375])"
            ]
          },
          "metadata": {},
          "execution_count": 49
        }
      ],
      "source": [
        "query_embedding = get_sentence_embedding(\"Today is a sunny day\")[0]\n",
        "query_embedding[:5]"
      ]
    },
    {
      "cell_type": "markdown",
      "metadata": {
        "id": "-otp9TcDok5A"
      },
      "source": [
        "We got the same result, great! Let's now repeat our search example from before."
      ]
    },
    {
      "cell_type": "code",
      "execution_count": 50,
      "metadata": {
        "id": "VR-lFg5yok5A",
        "outputId": "d1af421f-7118-46c8-80fc-800c7d88c19f",
        "colab": {
          "base_uri": "https://localhost:8080/"
        }
      },
      "outputs": [
        {
          "output_type": "stream",
          "name": "stdout",
          "text": [
            "tensor([[0.7344]]) The weather today is beautiful\n",
            "tensor([[0.4180]]) It's raining!\n",
            "tensor([[0.1060]]) Dogs are awesome\n"
          ]
        }
      ],
      "source": [
        "embeddings = [get_sentence_embedding(sentence) for sentence in sentences]\n",
        "for embedding, sentence in zip(embeddings, sentences):\n",
        "    similarity = util.pytorch_cos_sim(query_embedding, embedding)\n",
        "    print(similarity, sentence)"
      ]
    },
    {
      "cell_type": "markdown",
      "metadata": {
        "id": "1eAFpjNrok5A"
      },
      "source": [
        "Nice! Compared to the vanilla BERT [CLS]-pooled embeddings, the sentence transformer embeddings are more meaningful and have a larger difference between the unrelated vectors!"
      ]
    },
    {
      "cell_type": "markdown",
      "metadata": {
        "id": "jyxWcbufok5A"
      },
      "source": [
        ":::callout\n",
        "\n",
        "When to use each pooling strategy? It depends on the task.\n",
        "\n",
        "* `[CLS]` pooling is usually used when the transformer model has been fine-tuned on a specific downstream task that makes the `[CLS]` token very useful.\n",
        "* Mean pooling is usually more effective on models that have not been fine-tuned on a downstream task. It ensures that all parts of the sentence are represented equally in the embedding and can work for long sentences where the influence of all tokens should be captured.\n",
        "* Max pooling can be useful to capture the most important features in a sentence. This can be very useful if particular keywords are very informative, but it might miss the subtler context.\n",
        "\n",
        "In practice, a pooling method will be stored with the model, and you won’t have to worry about it. If there’s no method specified, mean pooling is usually a good default.\n",
        "\n",
        ":::"
      ]
    },
    {
      "cell_type": "markdown",
      "metadata": {
        "id": "bt6476cQok5A"
      },
      "source": [
        "### Using the sentence-transformers library\n",
        "\n",
        "This was relatively easy, but the `sentence-transformers` library makes it even easier for us to do all of this! Here is the same code as in the TL;DR section."
      ]
    },
    {
      "cell_type": "code",
      "execution_count": 52,
      "metadata": {
        "id": "SObRa3mEok5A",
        "outputId": "c9ec082c-cac3-4050-fa2a-71f6143c16dd",
        "colab": {
          "base_uri": "https://localhost:8080/",
          "height": 101,
          "referenced_widgets": [
            "77392af50bea4238aa6272f9ed0f858a",
            "55c450a87520437bb1c5f6c77264e732",
            "75f07a6e53be4282a8f664a68a2a906a",
            "5d6ec2145a214388a4885b208a23958a",
            "2580e47d684643feaf9106d649a71b0b",
            "f8a853d18ed74fbea091eff33e40c13c",
            "662bb68f044f494f9ac02f71dfcb9eaf",
            "6f46f5ecf7384b4ebf00af9e81b3ff72",
            "67fceec7ac2d4bc6afd35428316bebf0",
            "c90a7e2e85aa42079fd8c98fd5272996",
            "07a2c701394040509ae854aa04d46b1c"
          ]
        }
      },
      "outputs": [
        {
          "output_type": "display_data",
          "data": {
            "text/plain": [
              "Batches:   0%|          | 0/1 [00:00<?, ?it/s]"
            ],
            "application/vnd.jupyter.widget-view+json": {
              "version_major": 2,
              "version_minor": 0,
              "model_id": "77392af50bea4238aa6272f9ed0f858a"
            }
          },
          "metadata": {}
        },
        {
          "output_type": "stream",
          "name": "stdout",
          "text": [
            "tensor([[0.7344]]) The weather today is beautiful\n",
            "tensor([[0.4180]]) It's raining!\n",
            "tensor([[0.1060]]) Dogs are awesome\n"
          ]
        }
      ],
      "source": [
        "from sentence_transformers import SentenceTransformer\n",
        "\n",
        "# We load the model\n",
        "model = SentenceTransformer(\"sentence-transformers/all-MiniLM-L6-v2\")\n",
        "\n",
        "query_embedding = model.encode(\"Today is a sunny day\",show_progress_bar=True)\n",
        "embeddings = model.encode(sentences)\n",
        "\n",
        "for embedding, sentence in zip(embeddings, sentences):\n",
        "    similarity = util.pytorch_cos_sim(query_embedding, embedding)\n",
        "    print(similarity, sentence)"
      ]
    },
    {
      "cell_type": "markdown",
      "metadata": {
        "id": "TTj9w563ok5B"
      },
      "source": [
        "This is quite powerful! If you had to implement a feature to identify duplicate questions without using ML, you would likely have to implement a lexical search system (which looks at exact matches of the input question), a fuzzy search system (which looks at approximate matches of the input question), or a statistical search system (which looks at the frequency of words in the input question).\n",
        "\n",
        "With embeddings, we can easily find similar questions without implementing any of these systems and having excellent results!"
      ]
    },
    {
      "cell_type": "markdown",
      "metadata": {
        "id": "ETUR68Niok5B"
      },
      "source": [
        "The following image is a good example of how embeddings can be used to find code that would answer a user’s question.\n",
        "\n",
        "![Image of code search](https://github.com/osanseviero/hackerllama/blob/main/nbs/blog/posts/sentence_embeddings/search.png?raw=1)"
      ]
    },
    {
      "cell_type": "markdown",
      "metadata": {
        "id": "LgF2tPBeok5B"
      },
      "source": [
        "### Embedding dimensions\n",
        "\n",
        "As you saw before, the model we used, all-MiniLM-L6-v2, generates sentence embeddings of 384 values. This is a hyperparameter of the model and can be changed. The larger the embedding size, the more information the embedding can capture. However, larger embeddings are more expensive to compute and store.\n",
        "\n",
        "The embeddings of popular open-source models go from 384 to 1024. The best current model, as of the time of writing, has embedding dimensions of 4096 values, but the model is much larger (7 billion parameters) compared to other models. In the closed-sourced world, Cohere has APIs that go from 384 to 4096 dimensions, OpenAI has embeddings of 1536, and so on. **Embedding dimension is a trade-off**. If you use very large embeddings, you will potentially get better results, but you will also have to pay more for hosting and inference. If you use vector databases, you will also have to pay more for storage."
      ]
    },
    {
      "cell_type": "markdown",
      "metadata": {
        "id": "BXHYfOhiok5B"
      },
      "source": [
        "### Sequence length\n",
        "\n",
        "One of the **limitations** of transformer models is that they have a **maximum sequence length.** This means that they can only process a certain number of tokens. For example, BERT has a maximum context length of 512 tokens. This means that if you want to encode a sentence with more than 512 tokens, you will have to find ways to work around this limitation.\n",
        "  * For example, you could split the sentence into multiple sentences of 512 tokens and then average the embeddings. This is not ideal because the model will not be able to capture the context of the entire sentence.\n",
        "\n",
        "This is not a problem for most use cases, but it **can be a problem for long documents.** For example, if you want to encode a 1000-word document, you will have to split it into multiple sentences of 512 tokens. This is not ideal because the model will not be able to capture the context of the entire document.\n",
        "  * Another approach can be to first generate a summary of the text and then encode the summary. This is a good approach if you want to encode long documents, but will require a good summarization model that might be too slow.\n",
        "  * Alternatively, you might know if a specific part of the document is good (such as abstracts, introductions, conclusions, etc.) and only encode that part if that's the most meaningful part for your task."
      ]
    },
    {
      "cell_type": "markdown",
      "metadata": {
        "id": "j_Yd1pSSok5B"
      },
      "source": [
        "## Application 1. Finding most similar Quora duplicate"
      ]
    },
    {
      "cell_type": "markdown",
      "metadata": {
        "id": "8KpvUZB1ok5B"
      },
      "source": [
        "We're going to use the open-source [Quora dataset](https://huggingface.co/datasets/quora), which contains 400,000 pairs of questions from Quora. We will not train a model (yet!) and rather just use the embeddings to find similar questions given a new question. Let's get started!\n",
        "\n",
        "Our first step will be to load the data - to do this, we'll use the `datasets` library."
      ]
    },
    {
      "cell_type": "code",
      "execution_count": 58,
      "metadata": {
        "id": "FJTK4r70ok5B"
      },
      "outputs": [],
      "source": [
        "%%capture\n",
        "!pip install datasets\n",
        "!pip install --upgrade pyarrow datasets"
      ]
    },
    {
      "cell_type": "code",
      "execution_count": null,
      "metadata": {
        "id": "ce3i-gvPok5C"
      },
      "outputs": [],
      "source": [
        "from datasets import load_dataset\n",
        "\n",
        "dataset = load_dataset(\"quora\")\n",
        "dataset"
      ]
    },
    {
      "cell_type": "markdown",
      "metadata": {
        "id": "3rAPqipJok5C"
      },
      "source": [
        "To take a quick look at the data within the `Dataset` object, we can convert it to a Pandas `DataFrame` and look at the first rows."
      ]
    },
    {
      "cell_type": "code",
      "execution_count": null,
      "metadata": {
        "id": "6p0mJypGok5C",
        "outputId": "31aaf59b-d79d-49bf-fcc8-48d9d94329c6"
      },
      "outputs": [
        {
          "data": {
            "text/html": [
              "<div>\n",
              "<style scoped>\n",
              "    .dataframe tbody tr th:only-of-type {\n",
              "        vertical-align: middle;\n",
              "    }\n",
              "\n",
              "    .dataframe tbody tr th {\n",
              "        vertical-align: top;\n",
              "    }\n",
              "\n",
              "    .dataframe thead th {\n",
              "        text-align: right;\n",
              "    }\n",
              "</style>\n",
              "<table border=\"1\" class=\"dataframe\">\n",
              "  <thead>\n",
              "    <tr style=\"text-align: right;\">\n",
              "      <th></th>\n",
              "      <th>questions</th>\n",
              "      <th>is_duplicate</th>\n",
              "    </tr>\n",
              "  </thead>\n",
              "  <tbody>\n",
              "    <tr>\n",
              "      <th>0</th>\n",
              "      <td>{'id': [1, 2], 'text': ['What is the step by s...</td>\n",
              "      <td>False</td>\n",
              "    </tr>\n",
              "    <tr>\n",
              "      <th>1</th>\n",
              "      <td>{'id': [3, 4], 'text': ['What is the story of ...</td>\n",
              "      <td>False</td>\n",
              "    </tr>\n",
              "    <tr>\n",
              "      <th>2</th>\n",
              "      <td>{'id': [5, 6], 'text': ['How can I increase th...</td>\n",
              "      <td>False</td>\n",
              "    </tr>\n",
              "    <tr>\n",
              "      <th>3</th>\n",
              "      <td>{'id': [7, 8], 'text': ['Why am I mentally ver...</td>\n",
              "      <td>False</td>\n",
              "    </tr>\n",
              "    <tr>\n",
              "      <th>4</th>\n",
              "      <td>{'id': [9, 10], 'text': ['Which one dissolve i...</td>\n",
              "      <td>False</td>\n",
              "    </tr>\n",
              "  </tbody>\n",
              "</table>\n",
              "</div>"
            ],
            "text/plain": [
              "                                           questions  is_duplicate\n",
              "0  {'id': [1, 2], 'text': ['What is the step by s...         False\n",
              "1  {'id': [3, 4], 'text': ['What is the story of ...         False\n",
              "2  {'id': [5, 6], 'text': ['How can I increase th...         False\n",
              "3  {'id': [7, 8], 'text': ['Why am I mentally ver...         False\n",
              "4  {'id': [9, 10], 'text': ['Which one dissolve i...         False"
            ]
          },
          "execution_count": null,
          "metadata": {},
          "output_type": "execute_result"
        }
      ],
      "source": [
        "dataset.to_pandas().head()"
      ]
    },
    {
      "cell_type": "markdown",
      "metadata": {
        "id": "KtLPetL9ok5C"
      },
      "source": [
        "Ok, so each sample is a dictionary. We do not care about the `is_duplicate` column here. Our goal is to find if any question in this dataset is similar to a new question. Let's process the dataset so we only have a list of questions."
      ]
    },
    {
      "cell_type": "code",
      "execution_count": null,
      "metadata": {
        "id": "Tgr38vjAok5D",
        "outputId": "14002f07-0ae2-406d-9338-0c639614e1de"
      },
      "outputs": [
        {
          "data": {
            "text/plain": [
              "537362"
            ]
          },
          "execution_count": null,
          "metadata": {},
          "output_type": "execute_result"
        }
      ],
      "source": [
        "corpus_questions = []\n",
        "for d in dataset:\n",
        "    corpus_questions.append(d[\"questions\"][\"text\"][0])\n",
        "    corpus_questions.append(d[\"questions\"][\"text\"][1])\n",
        "corpus_questions = list(set(corpus_questions))  # Remove duplicates\n",
        "len(corpus_questions)"
      ]
    },
    {
      "cell_type": "markdown",
      "metadata": {
        "id": "FMS8SCVBok5D"
      },
      "source": [
        "The next step is to embed all the questions. We'll use the `sentence-transformers` library for this. We'll use the [`quora-distilbert-multilingual` model](https://huggingface.co/sentence-transformers/quora-distilbert-multilingual), which is a model trained for 100 languages and is trained specifically for Quora-style questions. This is a larger model, and hence will be slightly slower. It will also generate larger embeddings of 768 values.\n",
        "\n",
        "To get some quick results without having to wait five minutes for the model to process all the questions, we'll only process the first 100000 questions. In practice, you would process all the questions or shuffle the questions and process a random subset of them when experimenting."
      ]
    },
    {
      "cell_type": "code",
      "execution_count": null,
      "metadata": {
        "id": "cX-0aZq9ok5D",
        "outputId": "298aefd0-74ee-4dc8-baae-0ff7537cc55c",
        "colab": {
          "referenced_widgets": [
            "30cc6aa1ede9402ea9cd36fb9aed9376"
          ]
        }
      },
      "outputs": [
        {
          "data": {
            "application/vnd.jupyter.widget-view+json": {
              "model_id": "30cc6aa1ede9402ea9cd36fb9aed9376",
              "version_major": 2,
              "version_minor": 0
            },
            "text/plain": [
              "Batches:   0%|          | 0/3125 [00:00<?, ?it/s]"
            ]
          },
          "metadata": {},
          "output_type": "display_data"
        }
      ],
      "source": [
        "model = SentenceTransformer(\"quora-distilbert-multilingual\")\n",
        "questions_to_embed = 100000\n",
        "corpus_embeddings = model.encode(\n",
        "    corpus_questions[:questions_to_embed],\n",
        "    show_progress_bar=True,\n",
        "    convert_to_tensor=True,\n",
        ")"
      ]
    },
    {
      "cell_type": "code",
      "execution_count": null,
      "metadata": {
        "id": "dFDXfPH2ok5D",
        "outputId": "d7be6bbc-78f3-41a8-d262-54533807e146"
      },
      "outputs": [
        {
          "data": {
            "text/plain": [
              "torch.Size([100000, 768])"
            ]
          },
          "execution_count": null,
          "metadata": {},
          "output_type": "execute_result"
        }
      ],
      "source": [
        "corpus_embeddings.shape"
      ]
    },
    {
      "cell_type": "markdown",
      "metadata": {
        "id": "Fsc7nYURok5D"
      },
      "source": [
        "We just obtained 100,000 embddings in 20 seconds, even when this Sentence Transformer model is not tiny and I'm running this on my GPU-Poor computer. Unlike generative models, which are autoregressive and usually much slower, BERT-based models are super fast!"
      ]
    },
    {
      "cell_type": "markdown",
      "metadata": {
        "id": "GWnzNJJKok5E"
      },
      "source": [
        "Let's now write a function that searches the corpus for the most similar question."
      ]
    },
    {
      "cell_type": "code",
      "execution_count": null,
      "metadata": {
        "id": "NxZoYQMnok5E"
      },
      "outputs": [],
      "source": [
        "import time\n",
        "\n",
        "\n",
        "def search(query):\n",
        "    start_time = time.time()\n",
        "    query_embedding = model.encode(query, convert_to_tensor=True)\n",
        "    results = util.semantic_search(query_embedding, corpus_embeddings)\n",
        "    end_time = time.time()\n",
        "\n",
        "    print(\"Results (after {:.3f} seconds):\".format(end_time - start_time))\n",
        "    # We look at top 5 results\n",
        "    for result in results[0][:5]:\n",
        "        print(\n",
        "            \"{:.3f}\\t{}\".format(result[\"score\"], corpus_questions[result[\"corpus_id\"]])\n",
        "        )"
      ]
    },
    {
      "cell_type": "code",
      "execution_count": null,
      "metadata": {
        "id": "WNxz0N0Sok5E",
        "outputId": "1ae76be8-a24b-45f8-8914-733883394a93"
      },
      "outputs": [
        {
          "name": "stdout",
          "output_type": "stream",
          "text": [
            "Results (after 0.612 seconds):\n",
            "0.982\tWhat is the best online resource to learn Python?\n",
            "0.980\tWhere I should learn Python?\n",
            "0.980\tWhat's the best way to learn Python?\n",
            "0.980\tHow do I learn Python in easy way?\n",
            "0.979\tHow do I learn Python systematically?\n"
          ]
        }
      ],
      "source": [
        "search(\"How can I learn Python online?\")"
      ]
    },
    {
      "cell_type": "markdown",
      "metadata": {
        "id": "zdpHVJPiok5E"
      },
      "source": [
        "Let's try in Spanish!"
      ]
    },
    {
      "cell_type": "code",
      "execution_count": null,
      "metadata": {
        "id": "oI-zzizHok5E",
        "outputId": "27b1633b-8951-4b9c-8cb6-41f915fa5dcc"
      },
      "outputs": [
        {
          "name": "stdout",
          "output_type": "stream",
          "text": [
            "Results (after 0.016 seconds):\n",
            "0.980\tWhat are the best websites to learn Python?\n",
            "0.980\tHow can I start learning the developing of websites using Python?\n",
            "0.979\tHow do I learn Python in easy way?\n",
            "0.976\tHow can I learn Python faster and effectively?\n",
            "0.976\tHow can I learn advanced Python?\n"
          ]
        }
      ],
      "source": [
        "search(\"Como puedo aprender Python online?\")"
      ]
    },
    {
      "cell_type": "markdown",
      "metadata": {
        "id": "J1WEYwgkok5E"
      },
      "source": [
        "It seems to be working quite well! Note that although our model can process queries in other languages, such as Spanish in the example above, the embeddings were generated for English questions. This means that the model will not be able to find similar questions in other languages."
      ]
    },
    {
      "cell_type": "markdown",
      "metadata": {
        "id": "OFhqXZMWok5F"
      },
      "source": [
        "## Distance between embeddings\n",
        "\n",
        "### Cosine similarity\n",
        "\n",
        "Until now we've been computing the cosine similarity between embeddings. This is a number between 0 and 1 that indicates how similar two embeddings are. A value of 1 means that the embeddings are identical, while 0 means that the embeddings are entirely different. So far we've used it as a black-box, so let's look into it a bit more.\n",
        "\n",
        "The cosine similarity allows us to compare how similar two vectors are regardless of their magnitude. For example, if we have two vectors, [1, 2, 3] and [2, 4, 6], they are very similar in terms of direction, but their magnitude is different. The cosine similarity will be close to 1, indicating that they are very similar.\n"
      ]
    },
    {
      "cell_type": "code",
      "execution_count": 62,
      "metadata": {
        "id": "vianQ5rYok5F",
        "outputId": "8da26022-1acf-477d-d7c4-6ec7935d9bee",
        "colab": {
          "base_uri": "https://localhost:8080/"
        }
      },
      "outputs": [
        {
          "output_type": "execute_result",
          "data": {
            "text/plain": [
              "tensor([[0.9926]])"
            ]
          },
          "metadata": {},
          "execution_count": 62
        }
      ],
      "source": [
        "a = torch.FloatTensor([1, 2, 3])\n",
        "b = torch.FloatTensor([2, 3, 4])\n",
        "util.cos_sim(a, b)"
      ]
    },
    {
      "cell_type": "markdown",
      "metadata": {
        "id": "a3AtsAxyok5F"
      },
      "source": [
        "Let's plot both vectors. As you can see, they are very similar in terms of direction, but their magnitude is different."
      ]
    },
    {
      "cell_type": "code",
      "execution_count": 63,
      "metadata": {
        "id": "x3lWScu4ok5F",
        "outputId": "35ac3c85-570b-4e73-c485-4359a43a156a",
        "colab": {
          "base_uri": "https://localhost:8080/"
        }
      },
      "outputs": [
        {
          "output_type": "execute_result",
          "data": {
            "text/plain": [
              "tensor([1., 2., 3.])"
            ]
          },
          "metadata": {},
          "execution_count": 63
        }
      ],
      "source": [
        "a"
      ]
    },
    {
      "cell_type": "code",
      "execution_count": 64,
      "metadata": {
        "id": "AsJeTPaNok5F",
        "outputId": "092d6d1a-584f-4f45-ecaf-b9633fb7c1d9",
        "colab": {
          "base_uri": "https://localhost:8080/",
          "height": 430
        }
      },
      "outputs": [
        {
          "output_type": "display_data",
          "data": {
            "text/plain": [
              "<Figure size 640x480 with 1 Axes>"
            ],
            "image/png": "[encoded data removed]"
          },
          "metadata": {}
        }
      ],
      "source": [
        "import matplotlib.pyplot as plt\n",
        "import numpy as np\n",
        "\n",
        "V = np.array([a.tolist(), b.tolist()])\n",
        "origin = np.array([[0, 0], [0, 0]])  # origin point\n",
        "\n",
        "plt.quiver(*origin, V[:, 0], V[:, 1], color=[\"r\", \"b\", \"g\"], scale=10)\n",
        "plt.show()"
      ]
    },
    {
      "cell_type": "markdown",
      "metadata": {
        "id": "K46G81E5ok5F"
      },
      "source": [
        "Let's dive into its math. Cosine similarity is defined as the:\n",
        "  * dot product of the vectors divided by the product of their magnitudes:\n",
        "\n",
        "$$\n",
        "\\text{cosine similarity}(\\mathbf{A}, \\mathbf{B}) = \\frac{\\mathbf{A} \\cdot \\mathbf{B}}{\\|\\mathbf{A}\\| \\|\\mathbf{B}\\|}\n",
        "$$"
      ]
    },
    {
      "cell_type": "markdown",
      "metadata": {
        "id": "Yr5saLrfok5F"
      },
      "source": [
        "We already discussed magnitudes at the beginning of the blog post. We need to compute the square root of the sum of the squares of a vector component\n",
        "\n",
        "$$\n",
        "\\|\\mathbf{A}\\| = \\sqrt{1^2 + 2^2 + 3^2} = \\sqrt{14}\n",
        "$$\n",
        "\n",
        "$$\n",
        "\\|\\mathbf{B}\\| = \\sqrt{2^2 + 3^2 + 4^2} = \\sqrt{29}\n",
        "$$"
      ]
    },
    {
      "cell_type": "markdown",
      "metadata": {
        "id": "kiKvGMdLok5F"
      },
      "source": [
        "We also need to compute the dot product of the vectors. The dot product is defined as the sum of the products of the corresponding vector components\n",
        "\n",
        "$$\n",
        "\\mathbf{A} \\cdot \\mathbf{B} = \\sum_{i=1}^{n} A_i B_i\n",
        "$$\n",
        "\n",
        "In this case, the dot product for A and B would look as follows\n",
        "\n",
        "$$\n",
        "\\mathbf{A} \\cdot \\mathbf{B} = 1 \\times 2 + 2 \\times 3 + 3 \\times 4 = 2 + 6 + 12 = 20\n",
        "$$\n",
        "\n",
        "Finally, we can compute the cosine similarity by doing\n",
        "\n",
        "$$\n",
        "\\text{cosine similarity}(\\mathbf{A}, \\mathbf{B}) = \\frac{20}{\\sqrt{14} \\sqrt{29}} = 0.992583\n",
        "$$\n",
        "\n",
        "which matches our result above."
      ]
    },
    {
      "cell_type": "markdown",
      "metadata": {
        "id": "n_n-ipTiok5G"
      },
      "source": [
        ":::{.callout-note}\n",
        "\n",
        "Can you think of two vectors with cosine similarity of 1? Think of vectors with same direction but different magnitude.\n",
        "\n",
        ":::"
      ]
    },
    {
      "cell_type": "markdown",
      "metadata": {
        "id": "1qGOyrPTok5G"
      },
      "source": [
        "### Dot product\n",
        "\n",
        "**Cosine similarity does not take magnitude into account, but there might be use cases where the magnitude is meaningful.** In those cases, **dot product** is a better metric. This means that longer or more verbose sentences with similar content could have a higher similarity score than shorter sentences with similar content due to their magnitude.\n",
        "\n",
        "The dot product is defined as the sum of the products of the corresponding vector components (it's what we did before!)\n",
        "\n",
        "$$\n",
        "\\mathbf{A} \\cdot \\mathbf{B} = \\sum_{i=1}^{n} A_i B_i\n",
        "$$\n",
        "\n",
        "If you look at the cosine similarity formula, if you assume the vectors are normalized (that is, their magnitude is 1), the cosine similarity is equivalent to the dot product. This means that the cosine similarity is a normalized dot product.\n",
        "\n",
        "Let's create a new vector, [4, 6, 8]. This vector has the same direction as [2, 3, 4], but it's twice as long. Let's compute the dot product of [1, 2, 3] with [2, 3, 4] and [4, 6, 8]."
      ]
    },
    {
      "cell_type": "code",
      "execution_count": 65,
      "metadata": {
        "id": "NjthQi0vok5G",
        "outputId": "00e9407b-7cd5-4d74-c945-1815146dfe67",
        "colab": {
          "base_uri": "https://localhost:8080/"
        }
      },
      "outputs": [
        {
          "output_type": "stream",
          "name": "stdout",
          "text": [
            "Cosine Similarity between a and b: tensor([[0.9926]])\n",
            "Cosine Similarity between a and c: tensor([[0.9926]])\n",
            "Dot product between a and b: 20.0\n",
            "Dot product between a and c: 40.0\n"
          ]
        }
      ],
      "source": [
        "c = torch.FloatTensor([4, 6, 8])\n",
        "\n",
        "print(f\"Cosine Similarity between a and b: {util.cos_sim(a, b)}\")\n",
        "print(f\"Cosine Similarity between a and c: {util.cos_sim(a, c)}\")\n",
        "\n",
        "print(f\"Dot product between a and b: {torch.dot(a, b)}\")\n",
        "print(f\"Dot product between a and c: {torch.dot(a, c)}\")"
      ]
    },
    {
      "cell_type": "markdown",
      "metadata": {
        "id": "yPf8uXyLok5G"
      },
      "source": [
        "This makes sense! As b and c have the same angle, the cosine similarity is the same between a and b and a and c. However, the dot product is higher for a and c because c is longer than b."
      ]
    },
    {
      "cell_type": "code",
      "execution_count": 66,
      "metadata": {
        "id": "wmsqeNJKok5G",
        "outputId": "08c4f995-2ade-4a97-c23f-8f358bdc7f62",
        "colab": {
          "base_uri": "https://localhost:8080/",
          "height": 430
        }
      },
      "outputs": [
        {
          "output_type": "display_data",
          "data": {
            "text/plain": [
              "<Figure size 640x480 with 1 Axes>"
            ],
            "image/png": "[encoded data removed]"
          },
          "metadata": {}
        }
      ],
      "source": [
        "V = np.array([a.tolist(), b.tolist(), c.tolist()])\n",
        "origin = np.array([[0, 0, 0], [0, 0, 0]])  # origin point\n",
        "\n",
        "plt.quiver(*origin, V[:, 0], V[:, 1], color=[\"r\", \"b\", \"g\"], scale=20)\n",
        "plt.show()"
      ]
    },
    {
      "cell_type": "markdown",
      "metadata": {
        "id": "jnr2zEzNok5G"
      },
      "source": [
        "### Euclidean Distance\n",
        "\n",
        "The Euclidean Distance is the distance between two vectors by measuring a straight line between them. Just as the dot product, the Euclidean distance takes **magnitude into account.** I won't dive too much into interpreting both metrics, but the main idea is that the Dot Product measures how much one vector extends into the direction of another vector, while the Euclidean Distance measures the straight-line distance between two vectors. It is defined as the square root of the sum of the squared differences between the vector components. It's defined as\n",
        "\n",
        "$$\n",
        "\\text{Euclidean Distance}(\\mathbf{A}, \\mathbf{B}) = \\sqrt{\\sum_{i=1}^{n} (A_i - B_i)^2}\n",
        "$$\n",
        "\n",
        "In practice, you can use the Squared Euclidean (L2-Squared)\n",
        "\n",
        "$$\n",
        "\\text{Squared Euclidean}(\\mathbf{A}, \\mathbf{B}) = \\sum_{i=1}^{n} (A_i - B_i)^2\n",
        "$$"
      ]
    },
    {
      "cell_type": "markdown",
      "metadata": {
        "id": "soph7cj4ok5G"
      },
      "source": [
        "### Picking a score function\n",
        "\n",
        "We just learned about dot-product, cosine similarity, and euclidean distance. When to use which?\n",
        "\n",
        "It depends on the model! Some models will be trained in a way that they produce normalized embeddings. In this case, dot-product, cosine similarity and euclidean distance will all produce the same results.\n",
        "\n",
        "Other models are not trained in a way that they produce normalized embeddings - they are tuned for dot-product. In this case, dot-product will be the best function to find the closest items in a vector space. Even then, if the magnitude is not important, we can normalize as we did in the previous sections. **You can use different distance functions depending on your use case**. Models with normalized embeddings will prefer shorter sentences, while models with non-normalized embeddings will prefer longer sentences. This is because the magnitude of the embeddings will be larger for longer sentences.\n",
        "\n",
        "| Distance function | Values | When to use |\n",
        "| ----------------- | ------ | ----------- |\n",
        "| Cosine similarity | [-1, 1] | When the magnitude is not important |\n",
        "| Dot product       | [-inf, inf] | When the magnitude is important |\n",
        "| Euclidean distance | [0, inf] | When the magnitude is important |\n",
        "\n",
        "To recap:\n",
        "\n",
        "* **Cosine similarity** focuses on the angle between vectors. It's a normalized dot product.\n",
        "* **Dot product** focused on both magnitude and angle.\n",
        "* **Euclidean distance** measures spatial distance between vectors.\n",
        "\n",
        "There are other distance functions, such as Manhattan distance, but these are common ones and useful for our use cases!"
      ]
    },
    {
      "cell_type": "markdown",
      "metadata": {
        "id": "HPWwxmUmok5G"
      },
      "source": [
        "## Scaling Up\n",
        "\n",
        "Until now we've been working with just a couple of sentences. In practice, you might have to deal with millions of embeddings, and we cannot always compute the distance to all of them (this is called brute-force search).\n",
        "\n",
        "One approach is to use an approximate nearest neighbor algorithm. These algorithms partition the data into buckets of similar embeddings. This allows us to quickly find the closest embeddings without having to compute the distance to all of them. This is not exact, as some vectors with high similarity might still be missed. There are different libraries you can use to do this, such as Spotify's [Annoy](https://github.com/spotify/annoy) and Facebook's [Faiss](https://github.com/facebookresearch/faiss). Vector databases such as Pinecone and Weaviate also use nearest neighbor techniques to be able to search millions of objects in milliseconds.\n",
        "\n",
        "For now, let's look at an interesting application where the scaling issues become more apparent."
      ]
    },
    {
      "cell_type": "markdown",
      "metadata": {
        "id": "Usmwenpqok5H"
      },
      "source": [
        "### Application 2. Paraphrase Mining\n",
        "\n",
        "Until now, with semantic search, we've been looking for the sentence most similar to a query sentence. In **paraphrase mining**, the goal is to find texts with similar meaning in a very large corpus. Let's take our Quora dataset and see if we can find similar questions."
      ]
    },
    {
      "cell_type": "code",
      "execution_count": null,
      "metadata": {
        "id": "CUTFnWkhok5H",
        "outputId": "29620916-52a7-4b3e-e867-6d80f9022198"
      },
      "outputs": [
        {
          "data": {
            "text/plain": [
              "['',\n",
              " 'What are the Nostradamus Predictions for the 2017?',\n",
              " 'Is it expensive to take music lessons?',\n",
              " 'what are the differences between first world and third world countries? Are there any second world countries?',\n",
              " 'How much is a 1963 2 dollar bill with a red seal worth?',\n",
              " 'What is the capital of Finland?',\n",
              " 'Which is the best project management app for accounting companies?',\n",
              " \"What is Dire Straits' best album ever?\",\n",
              " 'How does Weapon Silencers work?',\n",
              " 'How should we study in medical school?']"
            ]
          },
          "execution_count": null,
          "metadata": {},
          "output_type": "execute_result"
        }
      ],
      "source": [
        "questions_to_embed = 10\n",
        "short_corpus_questions = corpus_questions[:questions_to_embed]\n",
        "short_corpus_questions"
      ]
    },
    {
      "cell_type": "code",
      "execution_count": null,
      "metadata": {
        "id": "m3TrDxbzok5H",
        "outputId": "a996080a-8aff-414e-ae48-702cc2045c37"
      },
      "outputs": [
        {
          "name": "stdout",
          "output_type": "stream",
          "text": [
            "Results (after 0.000 seconds):\n"
          ]
        },
        {
          "data": {
            "text/plain": [
              "tensor([[1.0000, 0.7863, 0.6348, 0.7524, 0.7128, 0.7620, 0.6928, 0.7316, 0.6973,\n",
              "         0.6602],\n",
              "        [0.7863, 1.0000, 0.7001, 0.8369, 0.8229, 0.8093, 0.7694, 0.8111, 0.7849,\n",
              "         0.7157],\n",
              "        [0.6348, 0.7001, 1.0000, 0.6682, 0.7346, 0.7228, 0.7257, 0.7434, 0.7529,\n",
              "         0.7616],\n",
              "        [0.7524, 0.8369, 0.6682, 1.0000, 0.7484, 0.8042, 0.6713, 0.7560, 0.7336,\n",
              "         0.6901],\n",
              "        [0.7128, 0.8229, 0.7346, 0.7484, 1.0000, 0.7222, 0.7419, 0.7603, 0.8080,\n",
              "         0.7145],\n",
              "        [0.7620, 0.8093, 0.7228, 0.8042, 0.7222, 1.0000, 0.7327, 0.7542, 0.7349,\n",
              "         0.6992],\n",
              "        [0.6928, 0.7694, 0.7257, 0.6713, 0.7419, 0.7327, 1.0000, 0.7820, 0.7270,\n",
              "         0.7513],\n",
              "        [0.7316, 0.8111, 0.7434, 0.7560, 0.7603, 0.7542, 0.7820, 1.0000, 0.7432,\n",
              "         0.7151],\n",
              "        [0.6973, 0.7849, 0.7529, 0.7336, 0.8080, 0.7349, 0.7270, 0.7432, 1.0000,\n",
              "         0.7243],\n",
              "        [0.6602, 0.7157, 0.7616, 0.6901, 0.7145, 0.6992, 0.7513, 0.7151, 0.7243,\n",
              "         1.0000]], device='cuda:0')"
            ]
          },
          "execution_count": null,
          "metadata": {},
          "output_type": "execute_result"
        }
      ],
      "source": [
        "model = SentenceTransformer(\"quora-distilbert-multilingual\")\n",
        "embeddings = model.encode(short_corpus_questions, convert_to_tensor=True)\n",
        "\n",
        "# Compute distance btween all embeddings\n",
        "start_time = time.time()\n",
        "distances = util.pytorch_cos_sim(embeddings, embeddings)\n",
        "end_time = time.time()\n",
        "\n",
        "print(\"Results (after {:.3f} seconds):\".format(end_time - start_time))\n",
        "distances"
      ]
    },
    {
      "cell_type": "markdown",
      "metadata": {
        "id": "j5t1Akykok5H"
      },
      "source": [
        "Awesome! We just computed the distances of 10 embeddings vs 10 embeddings. It was quite fast. Let's try now with 1000 queries."
      ]
    },
    {
      "cell_type": "code",
      "execution_count": null,
      "metadata": {
        "id": "XSmmF0maok5H",
        "outputId": "bbeb5367-0f25-4d23-b21d-d97347736191",
        "colab": {
          "referenced_widgets": [
            "90f929bf62b04c5180c9573320320d4e"
          ]
        }
      },
      "outputs": [
        {
          "data": {
            "application/vnd.jupyter.widget-view+json": {
              "model_id": "90f929bf62b04c5180c9573320320d4e",
              "version_major": 2,
              "version_minor": 0
            },
            "text/plain": [
              "Batches:   0%|          | 0/625 [00:00<?, ?it/s]"
            ]
          },
          "metadata": {},
          "output_type": "display_data"
        },
        {
          "name": "stdout",
          "output_type": "stream",
          "text": [
            "Results (after 0.000 seconds):\n"
          ]
        }
      ],
      "source": [
        "def compute_embeddings_slow(questions, n=10):\n",
        "    embeddings = model.encode(\n",
        "        questions[:n], show_progress_bar=True, convert_to_tensor=True\n",
        "    )\n",
        "\n",
        "    # Compute distance btween all embeddings\n",
        "    start_time = time.time()\n",
        "    distances = util.pytorch_cos_sim(embeddings, embeddings)\n",
        "    end_time = time.time()\n",
        "\n",
        "    return distances, end_time - start_time\n",
        "\n",
        "\n",
        "_, s = compute_embeddings_slow(corpus_questions, 20000)\n",
        "print(\"Results (after {:.3f} seconds):\".format(s))"
      ]
    },
    {
      "cell_type": "markdown",
      "metadata": {
        "id": "uDt99bXLok5H"
      },
      "source": [
        "Ok, that's still fast! Let's look at some other values"
      ]
    },
    {
      "cell_type": "code",
      "execution_count": null,
      "metadata": {
        "id": "cfq_P9cDok5H",
        "outputId": "bbe5f578-6e4c-4723-fbc8-54e57bcac1ce",
        "colab": {
          "referenced_widgets": [
            "bc00ef68a4dd45ec822cb736f62f0c6d",
            "7ca7ff71b91f48aa9c5776803dabc406",
            "e6de0384bb7e4c5eb497cc1d847f364d",
            "1bcf39b41a744a2da167afeab7359ae7"
          ]
        }
      },
      "outputs": [
        {
          "data": {
            "application/vnd.jupyter.widget-view+json": {
              "model_id": "bc00ef68a4dd45ec822cb736f62f0c6d",
              "version_major": 2,
              "version_minor": 0
            },
            "text/plain": [
              "Batches:   0%|          | 0/1 [00:00<?, ?it/s]"
            ]
          },
          "metadata": {},
          "output_type": "display_data"
        },
        {
          "data": {
            "application/vnd.jupyter.widget-view+json": {
              "model_id": "7ca7ff71b91f48aa9c5776803dabc406",
              "version_major": 2,
              "version_minor": 0
            },
            "text/plain": [
              "Batches:   0%|          | 0/313 [00:00<?, ?it/s]"
            ]
          },
          "metadata": {},
          "output_type": "display_data"
        },
        {
          "data": {
            "application/vnd.jupyter.widget-view+json": {
              "model_id": "e6de0384bb7e4c5eb497cc1d847f364d",
              "version_major": 2,
              "version_minor": 0
            },
            "text/plain": [
              "Batches:   0%|          | 0/626 [00:00<?, ?it/s]"
            ]
          },
          "metadata": {},
          "output_type": "display_data"
        },
        {
          "data": {
            "application/vnd.jupyter.widget-view+json": {
              "model_id": "1bcf39b41a744a2da167afeab7359ae7",
              "version_major": 2,
              "version_minor": 0
            },
            "text/plain": [
              "Batches:   0%|          | 0/938 [00:00<?, ?it/s]"
            ]
          },
          "metadata": {},
          "output_type": "display_data"
        },
        {
          "data": {
            "text/plain": [
              "Text(0, 0.5, 'Time (seconds)')"
            ]
          },
          "execution_count": null,
          "metadata": {},
          "output_type": "execute_result"
        },
        {
          "data": {
            "image/png": "[encoded data removed]",
            "text/plain": [
              "<Figure size 640x480 with 1 Axes>"
            ]
          },
          "metadata": {},
          "output_type": "display_data"
        }
      ],
      "source": [
        "import matplotlib.pyplot as plt\n",
        "\n",
        "n_queries = [1, 10001, 20001, 30001]  # If I keep going my computer explodes\n",
        "times = []\n",
        "\n",
        "for n in n_queries:\n",
        "    _, s = compute_embeddings_slow(corpus_questions, n)\n",
        "    times.append(s)\n",
        "    torch.cuda.empty_cache()  # Clear GPU cache\n",
        "\n",
        "plt.plot(n_queries, times)\n",
        "plt.xlabel(\"Number of queries\")\n",
        "plt.ylabel(\"Time (seconds)\")"
      ]
    },
    {
      "cell_type": "markdown",
      "metadata": {
        "id": "WpP9ZqEGok5H"
      },
      "source": [
        "The algorithm above has a quadratic runtime, so it won't scale up well if we keep increasing the number of queries. For larger collections, we can use the [paraphrase mining technique](https://www.sbert.net/examples/applications/paraphrase-mining/README.html), which is more complex and efficient."
      ]
    },
    {
      "cell_type": "code",
      "execution_count": null,
      "metadata": {
        "id": "KZrfTnrLok5I",
        "outputId": "cc120e2f-5b08-4ca2-c5a2-d2510ddc9c42",
        "colab": {
          "referenced_widgets": [
            "207c7cf4d03543b9ab3f5edc276cb7fd"
          ]
        }
      },
      "outputs": [
        {
          "data": {
            "application/vnd.jupyter.widget-view+json": {
              "model_id": "207c7cf4d03543b9ab3f5edc276cb7fd",
              "version_major": 2,
              "version_minor": 0
            },
            "text/plain": [
              "Batches:   0%|          | 0/3125 [00:00<?, ?it/s]"
            ]
          },
          "metadata": {},
          "output_type": "display_data"
        }
      ],
      "source": [
        "start_time = time.time()\n",
        "paraphrases = util.paraphrase_mining(\n",
        "    model, corpus_questions[:100000], show_progress_bar=True\n",
        ")\n",
        "end_time = time.time()"
      ]
    },
    {
      "cell_type": "code",
      "execution_count": null,
      "metadata": {
        "id": "J827eOMRok5I",
        "outputId": "0abf9629-6df1-473e-d7f1-115b33139660"
      },
      "outputs": [
        {
          "data": {
            "text/plain": [
              "250976"
            ]
          },
          "execution_count": null,
          "metadata": {},
          "output_type": "execute_result"
        }
      ],
      "source": [
        "len(paraphrases)"
      ]
    },
    {
      "cell_type": "code",
      "execution_count": null,
      "metadata": {
        "id": "BeLZfgv7ok5I",
        "outputId": "bd2cf973-dda9-4efe-b091-a51d8d3a86b1"
      },
      "outputs": [
        {
          "data": {
            "text/plain": [
              "[[0.999999463558197, 18862, 24292],\n",
              " [0.9999779462814331, 10915, 61354],\n",
              " [0.9999630451202393, 60527, 86890]]"
            ]
          },
          "execution_count": null,
          "metadata": {},
          "output_type": "execute_result"
        }
      ],
      "source": [
        "paraphrases[:3]"
      ]
    },
    {
      "cell_type": "markdown",
      "metadata": {
        "id": "P_vg5bc2ok5I"
      },
      "source": [
        "The first value is the score, the second is the index of a corpus question, and the third is another index to a corpus question. The score indicates how similar the two questions are.\n",
        "\n",
        "Nice! We just\n",
        "1. Computed the embeddings of 100,000 questions\n",
        "2. Obtained the most similar sentences, and\n",
        "3. Sorted them\n",
        "\n",
        "All of this in 20 seconds! Let's look at the 5 matches with the highest similariy"
      ]
    },
    {
      "cell_type": "code",
      "execution_count": null,
      "metadata": {
        "id": "Y-oTa5V3ok5I",
        "outputId": "f77252ac-6461-4c30-bad9-0f418d58f070"
      },
      "outputs": [
        {
          "name": "stdout",
          "output_type": "stream",
          "text": [
            "1.000\tHow do I  increase traffic on my site? and How do I increase traffic on my site?\n",
            "1.000\twho is the best rapper of all time? and Who is the best rapper of all time?\n",
            "1.000\tHow can I become an automobile engineer? and How can I become a automobile engineer?\n",
            "1.000\tI made a plasma vortex at my home, but why doesn't it produce a zapping sound like at time when we see sparks and does the air nearby it ionizes? and I made a plasma vortex at my home, but why doesn't it produce a zapping sound like at time when we see sparks and does the air nearby it, ionizes?\n",
            "1.000\tWhy was Cyrus Mistry removed as the chairman of Tata Sons? and Why was Cyrus Mistry removed as the Chairman of Tata Sons?\n"
          ]
        }
      ],
      "source": [
        "for score, i, j in paraphrases[:5]:\n",
        "    print(\"{:.3f}\\t{} and {}\".format(score, corpus_questions[i], corpus_questions[j]))"
      ]
    },
    {
      "cell_type": "markdown",
      "metadata": {
        "id": "PYl7SjTtok5I"
      },
      "source": [
        "How does this method work? The corpus is divided into smaller chunks, which allows us to manage the memory and compute usage. There are two ways in which the chunking happens:\n",
        "\n",
        "* **Query Chunk Size:** Determines how many sentences are considered as potential paraphrases. This is the number of sentences that are compared to the query sentence and controlled with `query_chunk_size` (5000 by default).\n",
        "* **Corpus Chunk Size:** Determines how many chunks of the corpus are being compared simultaneously. This is controlled with `corpus_chunk_size` (100000 by default).\n",
        "\n",
        "For example, with the default parameters, the algorithm processes 5000 sentences at a time, comparing each of these against chunks of 100000 sentences from the rest of the corpus. The algorithm is focused on getting the **top matches** - using `top_k`, for each sentence in a query chunk, the algorithm just selects the top k matches from the corpus chunk. This means that the algorithm will not find all the matches, but it will find the top matches. This is a good trade-off as we usually don't need all the matches, but just the top ones.\n",
        "\n",
        "Both parameters make the process more efficient as it's computationally easier to handle smaller subsets of the data. It also helps use less memory as we don't have to load the entire corpus into memory to compute the similarity. Finding the right values for these parameters is a trade-off between speed and accuracy. The larger the values, the more accurate the results, but the slower the algorithm.\n",
        "\n",
        ":::{.callout-note}\n",
        "\n",
        "You can use `max_pairs` to limit the number of pairs returned.\n",
        "\n",
        ":::\n",
        "\n",
        "Here is some pseudocode of the algorithm:\n",
        "\n",
        "```python\n",
        "# Initialize an empty list to store the results\n",
        "results = []\n",
        "\n",
        "for query_chunk in query_chunks:\n",
        "    for corpus_chunk in corpus_chunks:\n",
        "        # Compute the similarity between the query chunk and the corpus chunk\n",
        "        similarity = compute_similarity(query_chunk, corpus_chunk)\n",
        "        # Get the top k matches in the other chunk\n",
        "        top_k_matches = similarity.top_k(top_k)\n",
        "        # Add the top k matches to the results\n",
        "        results.add(top_k_matches)\n",
        "```"
      ]
    },
    {
      "cell_type": "markdown",
      "metadata": {
        "id": "WogT395Fok5I"
      },
      "source": [
        "## Selecting and evaluating models"
      ]
    },
    {
      "cell_type": "markdown",
      "metadata": {
        "id": "f-y-3T33ok5I"
      },
      "source": [
        "You should have a pretty good understanding of sentence embeddings and what we can do with them. Today, we used two different models, `all-MiniLM-L6-v2` and `quora-distilbert-multilingual`. How do we know which one to use? How do we know if a model is good or not?\n",
        "\n",
        "The first step is to know where to discover sentence embedding models. If you're using open-source ones, the Hugging Face Hub allows you to [filter for them](https://huggingface.co/models?library=sentence-transformers). The community has shared over 4000 models! Although looking at the trending models on Hugging Face is a good indicator (e.g., I can see the Microsoft Multilingual 5 Large model, a decent one), we need more information to pick a model.\n",
        "\n",
        "[MTEB](https://huggingface.co/spaces/mteb/leaderboard) has us covered. This leaderboard contains multiple evaluation datasets for various tasks. Let's quickly look at some criteria we're interested in when picking a model.\n",
        "\n",
        "* **Sequence length.** As discussed before, you might need to encode longer sequences depending on the expected user inputs. For example, if you're encoding long documents, you might need to use a model with a larger sequence length. Another alternative is to split the document into multiple sentences and encode each sentence separately.\n",
        "* **Language.** The leaderboard contains mostly English or multilingual models, but you can also find models for other languages such as Chinese, Polish, Danish, Swedish, German, etc.\n",
        "* **Embedding dimension.** As discussed before, the larger the embedding dimension, the more information the embedding can capture. However, larger embeddings are more expensive to compute and store.\n",
        "* **Average metrics across tasks.** The leaderboard contains multiple tasks, such as clustering, re-ranking, and retrieval. You can look at the average performance across all tasks to get a sense of how good the model is.\n",
        "* **Task-specific metrics.** You can also look at the model's performance in specific tasks. For example, if you're interested in clustering, you can look at the model's performance in the clustering task.\n",
        "\n",
        "Knowing the purpose of the model is also essential. Some models will be generalist models. Others, such as [Specter 2](https://huggingface.co/allenai/specter2), are focused on specific tasks, such as scientific papers. I won't dive too much into all the tasks in the leaderboard, but you can look at the [MTEB paper](https://arxiv.org/abs/2210.07316) for more information. Let me give a brief summary of MTEB.\n",
        "\n",
        "[![MTEB tasks image from the paper](https://github.com/osanseviero/hackerllama/blob/main/nbs/blog/posts/sentence_embeddings/mteb.png?raw=1)](https://arxiv.org/abs/2210.07316)\n",
        "\n",
        "MTEB provides a benchmark of 56 datasets across eight tasks and contains 112 languages. It's easily extensible to add your datasets and models to the leaderboard. Overall, it's a straightforward tool to find the suitable speed-accuracy trade-off for your use case.\n",
        "\n",
        "Today's (Jan 7th, 2024) top model is a large model, E5-Mistral-7B-instruct, which is 14.22Gb in size and an average of 66.63 over the 56 datasets. One of the next best open-source models is BGE-Large-en-v1.5, which is just 1.34Gb and performs an average of 64.23. And the base model for BGE, which is even smaller (0.44Gb), has a quality of 63.55! As a comparison, text-embedding-ada-002, even if it provides larger embeddings of 1536 dimensions, performs with a quality of 60.99. That's number 23 in the MTEB benchmark! Cohere provides better embeddings, with a quality of 64.47 and embeddings of 1024 dimensions.\n",
        "\n",
        "I recommend looking at this [Twitter thread from 2022](https://twitter.com/Nils_Reimers/status/1487014195568775173), in which OpenAI embeddings were compared against other embeddings. The results are quite interesting! The costs were many orders of magnitude higher, and the quality was considerably lower than smaller models.\n",
        "\n",
        "**All of this said, don't overfixate on a single number. You should always look at the specific metrics of your task and the particular resource and speed requirements**\n",
        "\n",
        "It's interesting to look at the different tasks covered in MTEB to understand potential sentence embedding applications better.\n",
        "\n",
        "* **Bitext Mining.** This task involves finding the most similar sentences in two sets of sentences, each in a different language. It is essential for machine translation and cross-lingual search.\n",
        "* **Classification.** In this application, a logistic regression classifier is trained using sentence embeddings for text classification tasks.\n",
        "* **Clustering.** Here, a k-means model is trained on sentence embeddings to group similar sentences together, useful in unsupervised learning tasks.\n",
        "* **Pair Classification.** This task entails predicting whether a pair of sentences are similar, such as determining if they are duplicates or paraphrases, aiding in paraphrase detection.\n",
        "* **Re-ranking.** In this scenario, a list of reference texts is re-ranked based on their similarity to a query sentence, improving search and recommendation systems.\n",
        "* **Retrieval.** This application involves embedding queries and associated documents to find the most similar documents to a given query, crucial in search-related tasks.\n",
        "* **Semantic Similarity.** This task focuses on determining the similarity between a pair of sentences, outputting a continuous similarity score, useful in paraphrase detection and related tasks.\n",
        "* **Summarization.** This involves scoring a set of summaries by computing the similarity between them and a reference (human-written) summary, important in summarization evaluation."
      ]
    },
    {
      "cell_type": "markdown",
      "metadata": {
        "id": "WK7-lOFRok5J"
      },
      "source": [
        "## Showcase Application: Real-time Embeddings in your browser\n",
        "\n",
        "We won't do the hands-on for this one, but I wanted to show you a cool application of embeddings. Lee Butterman built a [cool app](https://leebutterman.com/wikipedia-search-by-vibes/) where users can search among millions of Wikipedia articles by using embeddings. **What is extra nice here is that this is offline: the embeddings are stored in the browser and the model is running directly in your browser as well - nothing is being sent to a server!** 🤯\n",
        "\n",
        "Preparing the data\n",
        "\n",
        "* We first pre-compute an embedding database. The author used a small yet effective model, all-minilm-l6-v2.\n",
        "* The database of 6 million pages * 384 dimensions * 4 bytes per float = 9.2 GB. This is quite large to have users download that.\n",
        "* The author used a technique called [product quantization](https://en.wikipedia.org/wiki/Vector_quantization) to reduce the size of the database.\n",
        "* The data is then exported to a format called Arrow, which is very compact!\n",
        "\n",
        ":::{.callout-note}\n",
        "\n",
        "Do not worry too much about the specifics here. Our main goal is to understand the high-level idea of this project; so don't be scared if this is the first time you hear the word \"quantization\"!\n",
        "\n",
        ":::\n",
        "\n",
        "At inference time\n",
        "\n",
        "* Lee used [transformers.js](https://github.com/xenova/transformers.js), a library that allows to run transformers models in the browser with JavaScript. This requires having quantized models. Here is an example\n",
        "\n",
        "```js\n",
        "const extractor = await pipeline('feature-extraction', 'Xenova/all-MiniLM-L6-v2');\n",
        "const output = await extractor('This is a simple test.', { pooling: 'mean', normalize: true });\n",
        "// Tensor {\n",
        "//   type: 'float32',\n",
        "//   data: Float32Array [0.09094982594251633, -0.014774246141314507, ...],\n",
        "//   dims: [1, 384]\n",
        "// }\n",
        "```\n",
        "\n",
        "* `transformers.js` downloads the all-MiniLM-L6-v2 model to the browser and is used to compute the embeddings in the browser.\n",
        "* The distance is then computed using [pq.js](https://github.com/lsb/pq.js).\n",
        "\n",
        "Read more about this project in [Lee's blog post](https://www.leebutterman.com/2023/06/01/offline-realtime-embedding-search.html).This is a great example of how embeddings can be used in the browser!"
      ]
    },
    {
      "cell_type": "markdown",
      "metadata": {
        "id": "-zPU5Mmzok5J"
      },
      "source": [
        "## The State of the Ecosystem\n",
        "\n",
        "The ecosystem around embeddings is quite large.\n",
        "\n",
        "### Building on top of embeddings:\n",
        "\n",
        "* There are cool tools such as `top2vec` and `bertopic` designed for buildimg topic embeddings.\n",
        "* `keybert` is a library that allows extracting keywords and keyphrases similar to a document using BERT embeddings.\n",
        "* `setfit` is a library that allows doing efficient few-shot fine-tuning of Sentence Transformers to use them for text classification.\n",
        "\n",
        "### Embedding databases\n",
        "\n",
        "2023 has been the year of embedding databases. [LangChain Integrations Section](https://integrations.langchain.com/vectorstores) show 65 vector stores. From Weaviate, Pinecone, and Chroma to Redis, ElasticSearch, and Postgres. Embedding databases are specialized to accelerate similarity search on embeddings, usually using approximate search algorithms. The new wave of embedding database startups has lead to a big amount of money being invested in it. At the same time, classical existing database companies have integrated vector indexes into their products, such as Cassandra and MongoDB.\n",
        "\n",
        "### Research\n",
        "\n",
        "The research around embeddings is also quite active. If you follow the MTEB benchmark, it changes every few weeks. Some of the players in this are are Microsoft (E5 models), Cohere, BAAI (BGE), Alibaba (GTE), NLP Group of The University of Hong Kong (Instructor), and Jina, among many others."
      ]
    },
    {
      "cell_type": "markdown",
      "metadata": {
        "id": "B8BHNJ6Dok5J"
      },
      "source": [
        "## Conclusion\n",
        "\n",
        "What a journey! We just went from 0 to 1 in sentence embeddings. We learned about what they are, how to compute them, how to compare them, and how to scale them. We also saw some cool applications of embeddings, such as semantic search and paraphrase mining. I hope this blog post gave you a good understanding of what sentence embeddings are and how to use them. This is the first part of a series. What's left to learn?\n",
        "\n",
        "* The role of vector databases\n",
        "* How to use embeddings for more complex ranking systems\n",
        "* Topic modeling\n",
        "* Multimodality\n",
        "* How to train your own embedding models\n",
        "* All about RAGs\n",
        "\n",
        "There will be a time for each of those! For now, I suggest to take a break to check your knowledge. Don't hesitate to change the code and play with it! If you like this blog post, don't hesitate to [leave a GitHub Star](https://github.com/osanseviero/hackerllama) or share it!"
      ]
    },
    {
      "cell_type": "markdown",
      "metadata": {
        "id": "bSZrN_SHok5J"
      },
      "source": [
        "## Knowledge Check\n",
        "\n",
        "1. What make transformer models more useful than GloVe or Word2Vec for computing embeddings?\n",
        "2. What is the role of the `[CLS]` token in BERT and how does it help for computing sentence embeddings?\n",
        "3. What's the difference between `pooler_output` and the `[CLS]` token embedding?\n",
        "4. What's the difference between `[CLS]` pooling, max pooling, and mean pooling?\n",
        "5. What is the sequence length limitation of transformer models and how can we work around it?\n",
        "6. When do we need to normalize the embeddings?\n",
        "7. Which two vectors would give a cosine similarity of -1? What about 0?\n",
        "8. Explain the different parameters of the `paraphrase_mining` function.\n",
        "9. How would you choose the best model for your use case?"
      ]
    },
    {
      "cell_type": "markdown",
      "metadata": {
        "id": "O4Il3GU9ok5J"
      },
      "source": [
        "## Resources\n",
        "\n",
        "Here are some useful resources:\n",
        "\n",
        "* [Sentence Transformers](https://www.sbert.net/)\n",
        "* [Hugging Face Hub](https://huggingface.co/models?library=sentence-transformers)\n",
        "* [MTEB Leaderboard](https://huggingface.co/blog/mteb)\n"
      ]
    },
    {
      "cell_type": "markdown",
      "metadata": {
        "id": "vg6t4H3gok5J"
      },
      "source": []
    }
  ],
  "metadata": {
    "kernelspec": {
      "display_name": "python3",
      "language": "python",
      "name": "python3"
    },
    "colab": {
      "provenance": []
    },
    "widgets": {
      "application/vnd.jupyter.widget-state+json": {
        "06d5b4ffb8604f0ca41337382855a552": {
          "model_module": "@jupyter-widgets/controls",
          "model_name": "HBoxModel",
          "model_module_version": "1.5.0",
          "state": {
            "_dom_classes": [],
            "_model_module": "@jupyter-widgets/controls",
            "_model_module_version": "1.5.0",
            "_model_name": "HBoxModel",
            "_view_count": null,
            "_view_module": "@jupyter-widgets/controls",
            "_view_module_version": "1.5.0",
            "_view_name": "HBoxView",
            "box_style": "",
            "children": [
              "IPY_MODEL_32930f2fff354dffbbd8be94fa8d3dcc",
              "IPY_MODEL_7d325b84971449a9b9e7621af8784d58",
              "IPY_MODEL_39cf61197cfa477d95274b8d75ada693"
            ],
            "layout": "IPY_MODEL_8c0688daa97c465ca76ee96a16a6f6f9"
          }
        },
        "32930f2fff354dffbbd8be94fa8d3dcc": {
          "model_module": "@jupyter-widgets/controls",
          "model_name": "HTMLModel",
          "model_module_version": "1.5.0",
          "state": {
            "_dom_classes": [],
            "_model_module": "@jupyter-widgets/controls",
            "_model_module_version": "1.5.0",
            "_model_name": "HTMLModel",
            "_view_count": null,
            "_view_module": "@jupyter-widgets/controls",
            "_view_module_version": "1.5.0",
            "_view_name": "HTMLView",
            "description": "",
            "description_tooltip": null,
            "layout": "IPY_MODEL_84306b46e2924cb0b58a29144e5fad1d",
            "placeholder": "​",
            "style": "IPY_MODEL_4cc92b63f3a44396958af3dc6dfcd7f1",
            "value": "modules.json: 100%"
          }
        },
        "7d325b84971449a9b9e7621af8784d58": {
          "model_module": "@jupyter-widgets/controls",
          "model_name": "FloatProgressModel",
          "model_module_version": "1.5.0",
          "state": {
            "_dom_classes": [],
            "_model_module": "@jupyter-widgets/controls",
            "_model_module_version": "1.5.0",
            "_model_name": "FloatProgressModel",
            "_view_count": null,
            "_view_module": "@jupyter-widgets/controls",
            "_view_module_version": "1.5.0",
            "_view_name": "ProgressView",
            "bar_style": "success",
            "description": "",
            "description_tooltip": null,
            "layout": "IPY_MODEL_30355804d1dd439fa71b0bde5faf4bd0",
            "max": 349,
            "min": 0,
            "orientation": "horizontal",
            "style": "IPY_MODEL_a83e71e164ab4bb6a88162380a9fe6ac",
            "value": 349
          }
        },
        "39cf61197cfa477d95274b8d75ada693": {
          "model_module": "@jupyter-widgets/controls",
          "model_name": "HTMLModel",
          "model_module_version": "1.5.0",
          "state": {
            "_dom_classes": [],
            "_model_module": "@jupyter-widgets/controls",
            "_model_module_version": "1.5.0",
            "_model_name": "HTMLModel",
            "_view_count": null,
            "_view_module": "@jupyter-widgets/controls",
            "_view_module_version": "1.5.0",
            "_view_name": "HTMLView",
            "description": "",
            "description_tooltip": null,
            "layout": "IPY_MODEL_05922f3aba0743cd8eb47b1bbfda374c",
            "placeholder": "​",
            "style": "IPY_MODEL_455947b80e7c4da3844262f3eed23b59",
            "value": " 349/349 [00:00&lt;00:00, 16.8kB/s]"
          }
        },
        "8c0688daa97c465ca76ee96a16a6f6f9": {
          "model_module": "@jupyter-widgets/base",
          "model_name": "LayoutModel",
          "model_module_version": "1.2.0",
          "state": {
            "_model_module": "@jupyter-widgets/base",
            "_model_module_version": "1.2.0",
            "_model_name": "LayoutModel",
            "_view_count": null,
            "_view_module": "@jupyter-widgets/base",
            "_view_module_version": "1.2.0",
            "_view_name": "LayoutView",
            "align_content": null,
            "align_items": null,
            "align_self": null,
            "border": null,
            "bottom": null,
            "display": null,
            "flex": null,
            "flex_flow": null,
            "grid_area": null,
            "grid_auto_columns": null,
            "grid_auto_flow": null,
            "grid_auto_rows": null,
            "grid_column": null,
            "grid_gap": null,
            "grid_row": null,
            "grid_template_areas": null,
            "grid_template_columns": null,
            "grid_template_rows": null,
            "height": null,
            "justify_content": null,
            "justify_items": null,
            "left": null,
            "margin": null,
            "max_height": null,
            "max_width": null,
            "min_height": null,
            "min_width": null,
            "object_fit": null,
            "object_position": null,
            "order": null,
            "overflow": null,
            "overflow_x": null,
            "overflow_y": null,
            "padding": null,
            "right": null,
            "top": null,
            "visibility": null,
            "width": null
          }
        },
        "84306b46e2924cb0b58a29144e5fad1d": {
          "model_module": "@jupyter-widgets/base",
          "model_name": "LayoutModel",
          "model_module_version": "1.2.0",
          "state": {
            "_model_module": "@jupyter-widgets/base",
            "_model_module_version": "1.2.0",
            "_model_name": "LayoutModel",
            "_view_count": null,
            "_view_module": "@jupyter-widgets/base",
            "_view_module_version": "1.2.0",
            "_view_name": "LayoutView",
            "align_content": null,
            "align_items": null,
            "align_self": null,
            "border": null,
            "bottom": null,
            "display": null,
            "flex": null,
            "flex_flow": null,
            "grid_area": null,
            "grid_auto_columns": null,
            "grid_auto_flow": null,
            "grid_auto_rows": null,
            "grid_column": null,
            "grid_gap": null,
            "grid_row": null,
            "grid_template_areas": null,
            "grid_template_columns": null,
            "grid_template_rows": null,
            "height": null,
            "justify_content": null,
            "justify_items": null,
            "left": null,
            "margin": null,
            "max_height": null,
            "max_width": null,
            "min_height": null,
            "min_width": null,
            "object_fit": null,
            "object_position": null,
            "order": null,
            "overflow": null,
            "overflow_x": null,
            "overflow_y": null,
            "padding": null,
            "right": null,
            "top": null,
            "visibility": null,
            "width": null
          }
        },
        "4cc92b63f3a44396958af3dc6dfcd7f1": {
          "model_module": "@jupyter-widgets/controls",
          "model_name": "DescriptionStyleModel",
          "model_module_version": "1.5.0",
          "state": {
            "_model_module": "@jupyter-widgets/controls",
            "_model_module_version": "1.5.0",
            "_model_name": "DescriptionStyleModel",
            "_view_count": null,
            "_view_module": "@jupyter-widgets/base",
            "_view_module_version": "1.2.0",
            "_view_name": "StyleView",
            "description_width": ""
          }
        },
        "30355804d1dd439fa71b0bde5faf4bd0": {
          "model_module": "@jupyter-widgets/base",
          "model_name": "LayoutModel",
          "model_module_version": "1.2.0",
          "state": {
            "_model_module": "@jupyter-widgets/base",
            "_model_module_version": "1.2.0",
            "_model_name": "LayoutModel",
            "_view_count": null,
            "_view_module": "@jupyter-widgets/base",
            "_view_module_version": "1.2.0",
            "_view_name": "LayoutView",
            "align_content": null,
            "align_items": null,
            "align_self": null,
            "border": null,
            "bottom": null,
            "display": null,
            "flex": null,
            "flex_flow": null,
            "grid_area": null,
            "grid_auto_columns": null,
            "grid_auto_flow": null,
            "grid_auto_rows": null,
            "grid_column": null,
            "grid_gap": null,
            "grid_row": null,
            "grid_template_areas": null,
            "grid_template_columns": null,
            "grid_template_rows": null,
            "height": null,
            "justify_content": null,
            "justify_items": null,
            "left": null,
            "margin": null,
            "max_height": null,
            "max_width": null,
            "min_height": null,
            "min_width": null,
            "object_fit": null,
            "object_position": null,
            "order": null,
            "overflow": null,
            "overflow_x": null,
            "overflow_y": null,
            "padding": null,
            "right": null,
            "top": null,
            "visibility": null,
            "width": null
          }
        },
        "a83e71e164ab4bb6a88162380a9fe6ac": {
          "model_module": "@jupyter-widgets/controls",
          "model_name": "ProgressStyleModel",
          "model_module_version": "1.5.0",
          "state": {
            "_model_module": "@jupyter-widgets/controls",
            "_model_module_version": "1.5.0",
            "_model_name": "ProgressStyleModel",
            "_view_count": null,
            "_view_module": "@jupyter-widgets/base",
            "_view_module_version": "1.2.0",
            "_view_name": "StyleView",
            "bar_color": null,
            "description_width": ""
          }
        },
        "05922f3aba0743cd8eb47b1bbfda374c": {
          "model_module": "@jupyter-widgets/base",
          "model_name": "LayoutModel",
          "model_module_version": "1.2.0",
          "state": {
            "_model_module": "@jupyter-widgets/base",
            "_model_module_version": "1.2.0",
            "_model_name": "LayoutModel",
            "_view_count": null,
            "_view_module": "@jupyter-widgets/base",
            "_view_module_version": "1.2.0",
            "_view_name": "LayoutView",
            "align_content": null,
            "align_items": null,
            "align_self": null,
            "border": null,
            "bottom": null,
            "display": null,
            "flex": null,
            "flex_flow": null,
            "grid_area": null,
            "grid_auto_columns": null,
            "grid_auto_flow": null,
            "grid_auto_rows": null,
            "grid_column": null,
            "grid_gap": null,
            "grid_row": null,
            "grid_template_areas": null,
            "grid_template_columns": null,
            "grid_template_rows": null,
            "height": null,
            "justify_content": null,
            "justify_items": null,
            "left": null,
            "margin": null,
            "max_height": null,
            "max_width": null,
            "min_height": null,
            "min_width": null,
            "object_fit": null,
            "object_position": null,
            "order": null,
            "overflow": null,
            "overflow_x": null,
            "overflow_y": null,
            "padding": null,
            "right": null,
            "top": null,
            "visibility": null,
            "width": null
          }
        },
        "455947b80e7c4da3844262f3eed23b59": {
          "model_module": "@jupyter-widgets/controls",
          "model_name": "DescriptionStyleModel",
          "model_module_version": "1.5.0",
          "state": {
            "_model_module": "@jupyter-widgets/controls",
            "_model_module_version": "1.5.0",
            "_model_name": "DescriptionStyleModel",
            "_view_count": null,
            "_view_module": "@jupyter-widgets/base",
            "_view_module_version": "1.2.0",
            "_view_name": "StyleView",
            "description_width": ""
          }
        },
        "c7d4f802a6b54e08b5c2c6c94fabb4c8": {
          "model_module": "@jupyter-widgets/controls",
          "model_name": "HBoxModel",
          "model_module_version": "1.5.0",
          "state": {
            "_dom_classes": [],
            "_model_module": "@jupyter-widgets/controls",
            "_model_module_version": "1.5.0",
            "_model_name": "HBoxModel",
            "_view_count": null,
            "_view_module": "@jupyter-widgets/controls",
            "_view_module_version": "1.5.0",
            "_view_name": "HBoxView",
            "box_style": "",
            "children": [
              "IPY_MODEL_ba086116a8d345909f647568061222b7",
              "IPY_MODEL_4a364d48fc1046b39b7d05acdcbd402f",
              "IPY_MODEL_381cf05796414af5b386014730feebc5"
            ],
            "layout": "IPY_MODEL_0685dfa52f4f47ea87b23bdab781f7b8"
          }
        },
        "ba086116a8d345909f647568061222b7": {
          "model_module": "@jupyter-widgets/controls",
          "model_name": "HTMLModel",
          "model_module_version": "1.5.0",
          "state": {
            "_dom_classes": [],
            "_model_module": "@jupyter-widgets/controls",
            "_model_module_version": "1.5.0",
            "_model_name": "HTMLModel",
            "_view_count": null,
            "_view_module": "@jupyter-widgets/controls",
            "_view_module_version": "1.5.0",
            "_view_name": "HTMLView",
            "description": "",
            "description_tooltip": null,
            "layout": "IPY_MODEL_1e94dcd4074e4c758f5f21d73e5c2dc7",
            "placeholder": "​",
            "style": "IPY_MODEL_17e7916d25e546b684c459f3426f8b18",
            "value": "config_sentence_transformers.json: 100%"
          }
        },
        "4a364d48fc1046b39b7d05acdcbd402f": {
          "model_module": "@jupyter-widgets/controls",
          "model_name": "FloatProgressModel",
          "model_module_version": "1.5.0",
          "state": {
            "_dom_classes": [],
            "_model_module": "@jupyter-widgets/controls",
            "_model_module_version": "1.5.0",
            "_model_name": "FloatProgressModel",
            "_view_count": null,
            "_view_module": "@jupyter-widgets/controls",
            "_view_module_version": "1.5.0",
            "_view_name": "ProgressView",
            "bar_style": "success",
            "description": "",
            "description_tooltip": null,
            "layout": "IPY_MODEL_b1c18382e14546b38d23743b81569e86",
            "max": 116,
            "min": 0,
            "orientation": "horizontal",
            "style": "IPY_MODEL_bb48656781744983ad3336b3b86c23b4",
            "value": 116
          }
        },
        "381cf05796414af5b386014730feebc5": {
          "model_module": "@jupyter-widgets/controls",
          "model_name": "HTMLModel",
          "model_module_version": "1.5.0",
          "state": {
            "_dom_classes": [],
            "_model_module": "@jupyter-widgets/controls",
            "_model_module_version": "1.5.0",
            "_model_name": "HTMLModel",
            "_view_count": null,
            "_view_module": "@jupyter-widgets/controls",
            "_view_module_version": "1.5.0",
            "_view_name": "HTMLView",
            "description": "",
            "description_tooltip": null,
            "layout": "IPY_MODEL_42ea5bcd2ba34308af186b1aabf6995c",
            "placeholder": "​",
            "style": "IPY_MODEL_a731e3215c6d4be7a5bc6bc28f9eb37d",
            "value": " 116/116 [00:00&lt;00:00, 5.73kB/s]"
          }
        },
        "0685dfa52f4f47ea87b23bdab781f7b8": {
          "model_module": "@jupyter-widgets/base",
          "model_name": "LayoutModel",
          "model_module_version": "1.2.0",
          "state": {
            "_model_module": "@jupyter-widgets/base",
            "_model_module_version": "1.2.0",
            "_model_name": "LayoutModel",
            "_view_count": null,
            "_view_module": "@jupyter-widgets/base",
            "_view_module_version": "1.2.0",
            "_view_name": "LayoutView",
            "align_content": null,
            "align_items": null,
            "align_self": null,
            "border": null,
            "bottom": null,
            "display": null,
            "flex": null,
            "flex_flow": null,
            "grid_area": null,
            "grid_auto_columns": null,
            "grid_auto_flow": null,
            "grid_auto_rows": null,
            "grid_column": null,
            "grid_gap": null,
            "grid_row": null,
            "grid_template_areas": null,
            "grid_template_columns": null,
            "grid_template_rows": null,
            "height": null,
            "justify_content": null,
            "justify_items": null,
            "left": null,
            "margin": null,
            "max_height": null,
            "max_width": null,
            "min_height": null,
            "min_width": null,
            "object_fit": null,
            "object_position": null,
            "order": null,
            "overflow": null,
            "overflow_x": null,
            "overflow_y": null,
            "padding": null,
            "right": null,
            "top": null,
            "visibility": null,
            "width": null
          }
        },
        "1e94dcd4074e4c758f5f21d73e5c2dc7": {
          "model_module": "@jupyter-widgets/base",
          "model_name": "LayoutModel",
          "model_module_version": "1.2.0",
          "state": {
            "_model_module": "@jupyter-widgets/base",
            "_model_module_version": "1.2.0",
            "_model_name": "LayoutModel",
            "_view_count": null,
            "_view_module": "@jupyter-widgets/base",
            "_view_module_version": "1.2.0",
            "_view_name": "LayoutView",
            "align_content": null,
            "align_items": null,
            "align_self": null,
            "border": null,
            "bottom": null,
            "display": null,
            "flex": null,
            "flex_flow": null,
            "grid_area": null,
            "grid_auto_columns": null,
            "grid_auto_flow": null,
            "grid_auto_rows": null,
            "grid_column": null,
            "grid_gap": null,
            "grid_row": null,
            "grid_template_areas": null,
            "grid_template_columns": null,
            "grid_template_rows": null,
            "height": null,
            "justify_content": null,
            "justify_items": null,
            "left": null,
            "margin": null,
            "max_height": null,
            "max_width": null,
            "min_height": null,
            "min_width": null,
            "object_fit": null,
            "object_position": null,
            "order": null,
            "overflow": null,
            "overflow_x": null,
            "overflow_y": null,
            "padding": null,
            "right": null,
            "top": null,
            "visibility": null,
            "width": null
          }
        },
        "17e7916d25e546b684c459f3426f8b18": {
          "model_module": "@jupyter-widgets/controls",
          "model_name": "DescriptionStyleModel",
          "model_module_version": "1.5.0",
          "state": {
            "_model_module": "@jupyter-widgets/controls",
            "_model_module_version": "1.5.0",
            "_model_name": "DescriptionStyleModel",
            "_view_count": null,
            "_view_module": "@jupyter-widgets/base",
            "_view_module_version": "1.2.0",
            "_view_name": "StyleView",
            "description_width": ""
          }
        },
        "b1c18382e14546b38d23743b81569e86": {
          "model_module": "@jupyter-widgets/base",
          "model_name": "LayoutModel",
          "model_module_version": "1.2.0",
          "state": {
            "_model_module": "@jupyter-widgets/base",
            "_model_module_version": "1.2.0",
            "_model_name": "LayoutModel",
            "_view_count": null,
            "_view_module": "@jupyter-widgets/base",
            "_view_module_version": "1.2.0",
            "_view_name": "LayoutView",
            "align_content": null,
            "align_items": null,
            "align_self": null,
            "border": null,
            "bottom": null,
            "display": null,
            "flex": null,
            "flex_flow": null,
            "grid_area": null,
            "grid_auto_columns": null,
            "grid_auto_flow": null,
            "grid_auto_rows": null,
            "grid_column": null,
            "grid_gap": null,
            "grid_row": null,
            "grid_template_areas": null,
            "grid_template_columns": null,
            "grid_template_rows": null,
            "height": null,
            "justify_content": null,
            "justify_items": null,
            "left": null,
            "margin": null,
            "max_height": null,
            "max_width": null,
            "min_height": null,
            "min_width": null,
            "object_fit": null,
            "object_position": null,
            "order": null,
            "overflow": null,
            "overflow_x": null,
            "overflow_y": null,
            "padding": null,
            "right": null,
            "top": null,
            "visibility": null,
            "width": null
          }
        },
        "bb48656781744983ad3336b3b86c23b4": {
          "model_module": "@jupyter-widgets/controls",
          "model_name": "ProgressStyleModel",
          "model_module_version": "1.5.0",
          "state": {
            "_model_module": "@jupyter-widgets/controls",
            "_model_module_version": "1.5.0",
            "_model_name": "ProgressStyleModel",
            "_view_count": null,
            "_view_module": "@jupyter-widgets/base",
            "_view_module_version": "1.2.0",
            "_view_name": "StyleView",
            "bar_color": null,
            "description_width": ""
          }
        },
        "42ea5bcd2ba34308af186b1aabf6995c": {
          "model_module": "@jupyter-widgets/base",
          "model_name": "LayoutModel",
          "model_module_version": "1.2.0",
          "state": {
            "_model_module": "@jupyter-widgets/base",
            "_model_module_version": "1.2.0",
            "_model_name": "LayoutModel",
            "_view_count": null,
            "_view_module": "@jupyter-widgets/base",
            "_view_module_version": "1.2.0",
            "_view_name": "LayoutView",
            "align_content": null,
            "align_items": null,
            "align_self": null,
            "border": null,
            "bottom": null,
            "display": null,
            "flex": null,
            "flex_flow": null,
            "grid_area": null,
            "grid_auto_columns": null,
            "grid_auto_flow": null,
            "grid_auto_rows": null,
            "grid_column": null,
            "grid_gap": null,
            "grid_row": null,
            "grid_template_areas": null,
            "grid_template_columns": null,
            "grid_template_rows": null,
            "height": null,
            "justify_content": null,
            "justify_items": null,
            "left": null,
            "margin": null,
            "max_height": null,
            "max_width": null,
            "min_height": null,
            "min_width": null,
            "object_fit": null,
            "object_position": null,
            "order": null,
            "overflow": null,
            "overflow_x": null,
            "overflow_y": null,
            "padding": null,
            "right": null,
            "top": null,
            "visibility": null,
            "width": null
          }
        },
        "a731e3215c6d4be7a5bc6bc28f9eb37d": {
          "model_module": "@jupyter-widgets/controls",
          "model_name": "DescriptionStyleModel",
          "model_module_version": "1.5.0",
          "state": {
            "_model_module": "@jupyter-widgets/controls",
            "_model_module_version": "1.5.0",
            "_model_name": "DescriptionStyleModel",
            "_view_count": null,
            "_view_module": "@jupyter-widgets/base",
            "_view_module_version": "1.2.0",
            "_view_name": "StyleView",
            "description_width": ""
          }
        },
        "80ff035d4cfc40b3972112ee19bd30be": {
          "model_module": "@jupyter-widgets/controls",
          "model_name": "HBoxModel",
          "model_module_version": "1.5.0",
          "state": {
            "_dom_classes": [],
            "_model_module": "@jupyter-widgets/controls",
            "_model_module_version": "1.5.0",
            "_model_name": "HBoxModel",
            "_view_count": null,
            "_view_module": "@jupyter-widgets/controls",
            "_view_module_version": "1.5.0",
            "_view_name": "HBoxView",
            "box_style": "",
            "children": [
              "IPY_MODEL_6f83b78457674f0caa7dc36934a2e129",
              "IPY_MODEL_1fbcf721d6394517bf7f5339c76e8038",
              "IPY_MODEL_65aef9f570c14e00b4b740c8854e471e"
            ],
            "layout": "IPY_MODEL_d984c56f49584d20a4338d755a3f501b"
          }
        },
        "6f83b78457674f0caa7dc36934a2e129": {
          "model_module": "@jupyter-widgets/controls",
          "model_name": "HTMLModel",
          "model_module_version": "1.5.0",
          "state": {
            "_dom_classes": [],
            "_model_module": "@jupyter-widgets/controls",
            "_model_module_version": "1.5.0",
            "_model_name": "HTMLModel",
            "_view_count": null,
            "_view_module": "@jupyter-widgets/controls",
            "_view_module_version": "1.5.0",
            "_view_name": "HTMLView",
            "description": "",
            "description_tooltip": null,
            "layout": "IPY_MODEL_392a2635409a487c9d353772b454e9bc",
            "placeholder": "​",
            "style": "IPY_MODEL_22fa7a1236d5441286ae65ce8abf7c46",
            "value": "README.md: 100%"
          }
        },
        "1fbcf721d6394517bf7f5339c76e8038": {
          "model_module": "@jupyter-widgets/controls",
          "model_name": "FloatProgressModel",
          "model_module_version": "1.5.0",
          "state": {
            "_dom_classes": [],
            "_model_module": "@jupyter-widgets/controls",
            "_model_module_version": "1.5.0",
            "_model_name": "FloatProgressModel",
            "_view_count": null,
            "_view_module": "@jupyter-widgets/controls",
            "_view_module_version": "1.5.0",
            "_view_name": "ProgressView",
            "bar_style": "success",
            "description": "",
            "description_tooltip": null,
            "layout": "IPY_MODEL_e5f7d40316364dc882f931075c6457be",
            "max": 10659,
            "min": 0,
            "orientation": "horizontal",
            "style": "IPY_MODEL_5c98294ef29a41b9bf3373a39d812b4a",
            "value": 10659
          }
        },
        "65aef9f570c14e00b4b740c8854e471e": {
          "model_module": "@jupyter-widgets/controls",
          "model_name": "HTMLModel",
          "model_module_version": "1.5.0",
          "state": {
            "_dom_classes": [],
            "_model_module": "@jupyter-widgets/controls",
            "_model_module_version": "1.5.0",
            "_model_name": "HTMLModel",
            "_view_count": null,
            "_view_module": "@jupyter-widgets/controls",
            "_view_module_version": "1.5.0",
            "_view_name": "HTMLView",
            "description": "",
            "description_tooltip": null,
            "layout": "IPY_MODEL_80844b00cdbe432893169ad50558aaf0",
            "placeholder": "​",
            "style": "IPY_MODEL_372793eafb69445d810e9902917f6aab",
            "value": " 10.7k/10.7k [00:00&lt;00:00, 374kB/s]"
          }
        },
        "d984c56f49584d20a4338d755a3f501b": {
          "model_module": "@jupyter-widgets/base",
          "model_name": "LayoutModel",
          "model_module_version": "1.2.0",
          "state": {
            "_model_module": "@jupyter-widgets/base",
            "_model_module_version": "1.2.0",
            "_model_name": "LayoutModel",
            "_view_count": null,
            "_view_module": "@jupyter-widgets/base",
            "_view_module_version": "1.2.0",
            "_view_name": "LayoutView",
            "align_content": null,
            "align_items": null,
            "align_self": null,
            "border": null,
            "bottom": null,
            "display": null,
            "flex": null,
            "flex_flow": null,
            "grid_area": null,
            "grid_auto_columns": null,
            "grid_auto_flow": null,
            "grid_auto_rows": null,
            "grid_column": null,
            "grid_gap": null,
            "grid_row": null,
            "grid_template_areas": null,
            "grid_template_columns": null,
            "grid_template_rows": null,
            "height": null,
            "justify_content": null,
            "justify_items": null,
            "left": null,
            "margin": null,
            "max_height": null,
            "max_width": null,
            "min_height": null,
            "min_width": null,
            "object_fit": null,
            "object_position": null,
            "order": null,
            "overflow": null,
            "overflow_x": null,
            "overflow_y": null,
            "padding": null,
            "right": null,
            "top": null,
            "visibility": null,
            "width": null
          }
        },
        "392a2635409a487c9d353772b454e9bc": {
          "model_module": "@jupyter-widgets/base",
          "model_name": "LayoutModel",
          "model_module_version": "1.2.0",
          "state": {
            "_model_module": "@jupyter-widgets/base",
            "_model_module_version": "1.2.0",
            "_model_name": "LayoutModel",
            "_view_count": null,
            "_view_module": "@jupyter-widgets/base",
            "_view_module_version": "1.2.0",
            "_view_name": "LayoutView",
            "align_content": null,
            "align_items": null,
            "align_self": null,
            "border": null,
            "bottom": null,
            "display": null,
            "flex": null,
            "flex_flow": null,
            "grid_area": null,
            "grid_auto_columns": null,
            "grid_auto_flow": null,
            "grid_auto_rows": null,
            "grid_column": null,
            "grid_gap": null,
            "grid_row": null,
            "grid_template_areas": null,
            "grid_template_columns": null,
            "grid_template_rows": null,
            "height": null,
            "justify_content": null,
            "justify_items": null,
            "left": null,
            "margin": null,
            "max_height": null,
            "max_width": null,
            "min_height": null,
            "min_width": null,
            "object_fit": null,
            "object_position": null,
            "order": null,
            "overflow": null,
            "overflow_x": null,
            "overflow_y": null,
            "padding": null,
            "right": null,
            "top": null,
            "visibility": null,
            "width": null
          }
        },
        "22fa7a1236d5441286ae65ce8abf7c46": {
          "model_module": "@jupyter-widgets/controls",
          "model_name": "DescriptionStyleModel",
          "model_module_version": "1.5.0",
          "state": {
            "_model_module": "@jupyter-widgets/controls",
            "_model_module_version": "1.5.0",
            "_model_name": "DescriptionStyleModel",
            "_view_count": null,
            "_view_module": "@jupyter-widgets/base",
            "_view_module_version": "1.2.0",
            "_view_name": "StyleView",
            "description_width": ""
          }
        },
        "e5f7d40316364dc882f931075c6457be": {
          "model_module": "@jupyter-widgets/base",
          "model_name": "LayoutModel",
          "model_module_version": "1.2.0",
          "state": {
            "_model_module": "@jupyter-widgets/base",
            "_model_module_version": "1.2.0",
            "_model_name": "LayoutModel",
            "_view_count": null,
            "_view_module": "@jupyter-widgets/base",
            "_view_module_version": "1.2.0",
            "_view_name": "LayoutView",
            "align_content": null,
            "align_items": null,
            "align_self": null,
            "border": null,
            "bottom": null,
            "display": null,
            "flex": null,
            "flex_flow": null,
            "grid_area": null,
            "grid_auto_columns": null,
            "grid_auto_flow": null,
            "grid_auto_rows": null,
            "grid_column": null,
            "grid_gap": null,
            "grid_row": null,
            "grid_template_areas": null,
            "grid_template_columns": null,
            "grid_template_rows": null,
            "height": null,
            "justify_content": null,
            "justify_items": null,
            "left": null,
            "margin": null,
            "max_height": null,
            "max_width": null,
            "min_height": null,
            "min_width": null,
            "object_fit": null,
            "object_position": null,
            "order": null,
            "overflow": null,
            "overflow_x": null,
            "overflow_y": null,
            "padding": null,
            "right": null,
            "top": null,
            "visibility": null,
            "width": null
          }
        },
        "5c98294ef29a41b9bf3373a39d812b4a": {
          "model_module": "@jupyter-widgets/controls",
          "model_name": "ProgressStyleModel",
          "model_module_version": "1.5.0",
          "state": {
            "_model_module": "@jupyter-widgets/controls",
            "_model_module_version": "1.5.0",
            "_model_name": "ProgressStyleModel",
            "_view_count": null,
            "_view_module": "@jupyter-widgets/base",
            "_view_module_version": "1.2.0",
            "_view_name": "StyleView",
            "bar_color": null,
            "description_width": ""
          }
        },
        "80844b00cdbe432893169ad50558aaf0": {
          "model_module": "@jupyter-widgets/base",
          "model_name": "LayoutModel",
          "model_module_version": "1.2.0",
          "state": {
            "_model_module": "@jupyter-widgets/base",
            "_model_module_version": "1.2.0",
            "_model_name": "LayoutModel",
            "_view_count": null,
            "_view_module": "@jupyter-widgets/base",
            "_view_module_version": "1.2.0",
            "_view_name": "LayoutView",
            "align_content": null,
            "align_items": null,
            "align_self": null,
            "border": null,
            "bottom": null,
            "display": null,
            "flex": null,
            "flex_flow": null,
            "grid_area": null,
            "grid_auto_columns": null,
            "grid_auto_flow": null,
            "grid_auto_rows": null,
            "grid_column": null,
            "grid_gap": null,
            "grid_row": null,
            "grid_template_areas": null,
            "grid_template_columns": null,
            "grid_template_rows": null,
            "height": null,
            "justify_content": null,
            "justify_items": null,
            "left": null,
            "margin": null,
            "max_height": null,
            "max_width": null,
            "min_height": null,
            "min_width": null,
            "object_fit": null,
            "object_position": null,
            "order": null,
            "overflow": null,
            "overflow_x": null,
            "overflow_y": null,
            "padding": null,
            "right": null,
            "top": null,
            "visibility": null,
            "width": null
          }
        },
        "372793eafb69445d810e9902917f6aab": {
          "model_module": "@jupyter-widgets/controls",
          "model_name": "DescriptionStyleModel",
          "model_module_version": "1.5.0",
          "state": {
            "_model_module": "@jupyter-widgets/controls",
            "_model_module_version": "1.5.0",
            "_model_name": "DescriptionStyleModel",
            "_view_count": null,
            "_view_module": "@jupyter-widgets/base",
            "_view_module_version": "1.2.0",
            "_view_name": "StyleView",
            "description_width": ""
          }
        },
        "3f0bb869a956454a9b3515afe1dd6a0b": {
          "model_module": "@jupyter-widgets/controls",
          "model_name": "HBoxModel",
          "model_module_version": "1.5.0",
          "state": {
            "_dom_classes": [],
            "_model_module": "@jupyter-widgets/controls",
            "_model_module_version": "1.5.0",
            "_model_name": "HBoxModel",
            "_view_count": null,
            "_view_module": "@jupyter-widgets/controls",
            "_view_module_version": "1.5.0",
            "_view_name": "HBoxView",
            "box_style": "",
            "children": [
              "IPY_MODEL_6c83ae9cd87d495b9fa9ee5dcfde1b20",
              "IPY_MODEL_f282507e67ab4d35806a8a182b37939d",
              "IPY_MODEL_a7d7b628289e4064b44ac682d4f46b75"
            ],
            "layout": "IPY_MODEL_22094f6510bf4d0894ca695aac325052"
          }
        },
        "6c83ae9cd87d495b9fa9ee5dcfde1b20": {
          "model_module": "@jupyter-widgets/controls",
          "model_name": "HTMLModel",
          "model_module_version": "1.5.0",
          "state": {
            "_dom_classes": [],
            "_model_module": "@jupyter-widgets/controls",
            "_model_module_version": "1.5.0",
            "_model_name": "HTMLModel",
            "_view_count": null,
            "_view_module": "@jupyter-widgets/controls",
            "_view_module_version": "1.5.0",
            "_view_name": "HTMLView",
            "description": "",
            "description_tooltip": null,
            "layout": "IPY_MODEL_408f443891b445fea15b9278fcae7ee4",
            "placeholder": "​",
            "style": "IPY_MODEL_b28a49e491664dda9f12a06e8b715b38",
            "value": "sentence_bert_config.json: 100%"
          }
        },
        "f282507e67ab4d35806a8a182b37939d": {
          "model_module": "@jupyter-widgets/controls",
          "model_name": "FloatProgressModel",
          "model_module_version": "1.5.0",
          "state": {
            "_dom_classes": [],
            "_model_module": "@jupyter-widgets/controls",
            "_model_module_version": "1.5.0",
            "_model_name": "FloatProgressModel",
            "_view_count": null,
            "_view_module": "@jupyter-widgets/controls",
            "_view_module_version": "1.5.0",
            "_view_name": "ProgressView",
            "bar_style": "success",
            "description": "",
            "description_tooltip": null,
            "layout": "IPY_MODEL_bf8b1c9b5c8c4f2ea2f55a9026ee1aaf",
            "max": 53,
            "min": 0,
            "orientation": "horizontal",
            "style": "IPY_MODEL_cf0a81b49e9e4767b77d1fbf496f5fea",
            "value": 53
          }
        },
        "a7d7b628289e4064b44ac682d4f46b75": {
          "model_module": "@jupyter-widgets/controls",
          "model_name": "HTMLModel",
          "model_module_version": "1.5.0",
          "state": {
            "_dom_classes": [],
            "_model_module": "@jupyter-widgets/controls",
            "_model_module_version": "1.5.0",
            "_model_name": "HTMLModel",
            "_view_count": null,
            "_view_module": "@jupyter-widgets/controls",
            "_view_module_version": "1.5.0",
            "_view_name": "HTMLView",
            "description": "",
            "description_tooltip": null,
            "layout": "IPY_MODEL_27af025e19914f4a8226000a52d06e03",
            "placeholder": "​",
            "style": "IPY_MODEL_e79a725beffd4d0ab68c05244d416b30",
            "value": " 53.0/53.0 [00:00&lt;00:00, 2.55kB/s]"
          }
        },
        "22094f6510bf4d0894ca695aac325052": {
          "model_module": "@jupyter-widgets/base",
          "model_name": "LayoutModel",
          "model_module_version": "1.2.0",
          "state": {
            "_model_module": "@jupyter-widgets/base",
            "_model_module_version": "1.2.0",
            "_model_name": "LayoutModel",
            "_view_count": null,
            "_view_module": "@jupyter-widgets/base",
            "_view_module_version": "1.2.0",
            "_view_name": "LayoutView",
            "align_content": null,
            "align_items": null,
            "align_self": null,
            "border": null,
            "bottom": null,
            "display": null,
            "flex": null,
            "flex_flow": null,
            "grid_area": null,
            "grid_auto_columns": null,
            "grid_auto_flow": null,
            "grid_auto_rows": null,
            "grid_column": null,
            "grid_gap": null,
            "grid_row": null,
            "grid_template_areas": null,
            "grid_template_columns": null,
            "grid_template_rows": null,
            "height": null,
            "justify_content": null,
            "justify_items": null,
            "left": null,
            "margin": null,
            "max_height": null,
            "max_width": null,
            "min_height": null,
            "min_width": null,
            "object_fit": null,
            "object_position": null,
            "order": null,
            "overflow": null,
            "overflow_x": null,
            "overflow_y": null,
            "padding": null,
            "right": null,
            "top": null,
            "visibility": null,
            "width": null
          }
        },
        "408f443891b445fea15b9278fcae7ee4": {
          "model_module": "@jupyter-widgets/base",
          "model_name": "LayoutModel",
          "model_module_version": "1.2.0",
          "state": {
            "_model_module": "@jupyter-widgets/base",
            "_model_module_version": "1.2.0",
            "_model_name": "LayoutModel",
            "_view_count": null,
            "_view_module": "@jupyter-widgets/base",
            "_view_module_version": "1.2.0",
            "_view_name": "LayoutView",
            "align_content": null,
            "align_items": null,
            "align_self": null,
            "border": null,
            "bottom": null,
            "display": null,
            "flex": null,
            "flex_flow": null,
            "grid_area": null,
            "grid_auto_columns": null,
            "grid_auto_flow": null,
            "grid_auto_rows": null,
            "grid_column": null,
            "grid_gap": null,
            "grid_row": null,
            "grid_template_areas": null,
            "grid_template_columns": null,
            "grid_template_rows": null,
            "height": null,
            "justify_content": null,
            "justify_items": null,
            "left": null,
            "margin": null,
            "max_height": null,
            "max_width": null,
            "min_height": null,
            "min_width": null,
            "object_fit": null,
            "object_position": null,
            "order": null,
            "overflow": null,
            "overflow_x": null,
            "overflow_y": null,
            "padding": null,
            "right": null,
            "top": null,
            "visibility": null,
            "width": null
          }
        },
        "b28a49e491664dda9f12a06e8b715b38": {
          "model_module": "@jupyter-widgets/controls",
          "model_name": "DescriptionStyleModel",
          "model_module_version": "1.5.0",
          "state": {
            "_model_module": "@jupyter-widgets/controls",
            "_model_module_version": "1.5.0",
            "_model_name": "DescriptionStyleModel",
            "_view_count": null,
            "_view_module": "@jupyter-widgets/base",
            "_view_module_version": "1.2.0",
            "_view_name": "StyleView",
            "description_width": ""
          }
        },
        "bf8b1c9b5c8c4f2ea2f55a9026ee1aaf": {
          "model_module": "@jupyter-widgets/base",
          "model_name": "LayoutModel",
          "model_module_version": "1.2.0",
          "state": {
            "_model_module": "@jupyter-widgets/base",
            "_model_module_version": "1.2.0",
            "_model_name": "LayoutModel",
            "_view_count": null,
            "_view_module": "@jupyter-widgets/base",
            "_view_module_version": "1.2.0",
            "_view_name": "LayoutView",
            "align_content": null,
            "align_items": null,
            "align_self": null,
            "border": null,
            "bottom": null,
            "display": null,
            "flex": null,
            "flex_flow": null,
            "grid_area": null,
            "grid_auto_columns": null,
            "grid_auto_flow": null,
            "grid_auto_rows": null,
            "grid_column": null,
            "grid_gap": null,
            "grid_row": null,
            "grid_template_areas": null,
            "grid_template_columns": null,
            "grid_template_rows": null,
            "height": null,
            "justify_content": null,
            "justify_items": null,
            "left": null,
            "margin": null,
            "max_height": null,
            "max_width": null,
            "min_height": null,
            "min_width": null,
            "object_fit": null,
            "object_position": null,
            "order": null,
            "overflow": null,
            "overflow_x": null,
            "overflow_y": null,
            "padding": null,
            "right": null,
            "top": null,
            "visibility": null,
            "width": null
          }
        },
        "cf0a81b49e9e4767b77d1fbf496f5fea": {
          "model_module": "@jupyter-widgets/controls",
          "model_name": "ProgressStyleModel",
          "model_module_version": "1.5.0",
          "state": {
            "_model_module": "@jupyter-widgets/controls",
            "_model_module_version": "1.5.0",
            "_model_name": "ProgressStyleModel",
            "_view_count": null,
            "_view_module": "@jupyter-widgets/base",
            "_view_module_version": "1.2.0",
            "_view_name": "StyleView",
            "bar_color": null,
            "description_width": ""
          }
        },
        "27af025e19914f4a8226000a52d06e03": {
          "model_module": "@jupyter-widgets/base",
          "model_name": "LayoutModel",
          "model_module_version": "1.2.0",
          "state": {
            "_model_module": "@jupyter-widgets/base",
            "_model_module_version": "1.2.0",
            "_model_name": "LayoutModel",
            "_view_count": null,
            "_view_module": "@jupyter-widgets/base",
            "_view_module_version": "1.2.0",
            "_view_name": "LayoutView",
            "align_content": null,
            "align_items": null,
            "align_self": null,
            "border": null,
            "bottom": null,
            "display": null,
            "flex": null,
            "flex_flow": null,
            "grid_area": null,
            "grid_auto_columns": null,
            "grid_auto_flow": null,
            "grid_auto_rows": null,
            "grid_column": null,
            "grid_gap": null,
            "grid_row": null,
            "grid_template_areas": null,
            "grid_template_columns": null,
            "grid_template_rows": null,
            "height": null,
            "justify_content": null,
            "justify_items": null,
            "left": null,
            "margin": null,
            "max_height": null,
            "max_width": null,
            "min_height": null,
            "min_width": null,
            "object_fit": null,
            "object_position": null,
            "order": null,
            "overflow": null,
            "overflow_x": null,
            "overflow_y": null,
            "padding": null,
            "right": null,
            "top": null,
            "visibility": null,
            "width": null
          }
        },
        "e79a725beffd4d0ab68c05244d416b30": {
          "model_module": "@jupyter-widgets/controls",
          "model_name": "DescriptionStyleModel",
          "model_module_version": "1.5.0",
          "state": {
            "_model_module": "@jupyter-widgets/controls",
            "_model_module_version": "1.5.0",
            "_model_name": "DescriptionStyleModel",
            "_view_count": null,
            "_view_module": "@jupyter-widgets/base",
            "_view_module_version": "1.2.0",
            "_view_name": "StyleView",
            "description_width": ""
          }
        },
        "51c9ca6a29e64c90aca37c19ee9bf1a4": {
          "model_module": "@jupyter-widgets/controls",
          "model_name": "HBoxModel",
          "model_module_version": "1.5.0",
          "state": {
            "_dom_classes": [],
            "_model_module": "@jupyter-widgets/controls",
            "_model_module_version": "1.5.0",
            "_model_name": "HBoxModel",
            "_view_count": null,
            "_view_module": "@jupyter-widgets/controls",
            "_view_module_version": "1.5.0",
            "_view_name": "HBoxView",
            "box_style": "",
            "children": [
              "IPY_MODEL_8884727e83244e0286f426a4eabc3a05",
              "IPY_MODEL_c73820d51edd4ea68d37984c7ee0e102",
              "IPY_MODEL_fbc8b34795fe476f943c4f174afbf3f3"
            ],
            "layout": "IPY_MODEL_e9f5d98172aa47099eb709880cf1dc80"
          }
        },
        "8884727e83244e0286f426a4eabc3a05": {
          "model_module": "@jupyter-widgets/controls",
          "model_name": "HTMLModel",
          "model_module_version": "1.5.0",
          "state": {
            "_dom_classes": [],
            "_model_module": "@jupyter-widgets/controls",
            "_model_module_version": "1.5.0",
            "_model_name": "HTMLModel",
            "_view_count": null,
            "_view_module": "@jupyter-widgets/controls",
            "_view_module_version": "1.5.0",
            "_view_name": "HTMLView",
            "description": "",
            "description_tooltip": null,
            "layout": "IPY_MODEL_25316026b6834f6fa39aa0e5c1086652",
            "placeholder": "​",
            "style": "IPY_MODEL_0f60048f6d56424497b34372dfe4b19e",
            "value": "config.json: 100%"
          }
        },
        "c73820d51edd4ea68d37984c7ee0e102": {
          "model_module": "@jupyter-widgets/controls",
          "model_name": "FloatProgressModel",
          "model_module_version": "1.5.0",
          "state": {
            "_dom_classes": [],
            "_model_module": "@jupyter-widgets/controls",
            "_model_module_version": "1.5.0",
            "_model_name": "FloatProgressModel",
            "_view_count": null,
            "_view_module": "@jupyter-widgets/controls",
            "_view_module_version": "1.5.0",
            "_view_name": "ProgressView",
            "bar_style": "success",
            "description": "",
            "description_tooltip": null,
            "layout": "IPY_MODEL_450579d33be046c296a64fcb6a45fc83",
            "max": 612,
            "min": 0,
            "orientation": "horizontal",
            "style": "IPY_MODEL_8d5b1720931f48c4b4ecce99b8b5d533",
            "value": 612
          }
        },
        "fbc8b34795fe476f943c4f174afbf3f3": {
          "model_module": "@jupyter-widgets/controls",
          "model_name": "HTMLModel",
          "model_module_version": "1.5.0",
          "state": {
            "_dom_classes": [],
            "_model_module": "@jupyter-widgets/controls",
            "_model_module_version": "1.5.0",
            "_model_name": "HTMLModel",
            "_view_count": null,
            "_view_module": "@jupyter-widgets/controls",
            "_view_module_version": "1.5.0",
            "_view_name": "HTMLView",
            "description": "",
            "description_tooltip": null,
            "layout": "IPY_MODEL_0d54176714de426eb15c6f9b650ff19b",
            "placeholder": "​",
            "style": "IPY_MODEL_43610ea2a40a482ca4af90320185bc64",
            "value": " 612/612 [00:00&lt;00:00, 19.1kB/s]"
          }
        },
        "e9f5d98172aa47099eb709880cf1dc80": {
          "model_module": "@jupyter-widgets/base",
          "model_name": "LayoutModel",
          "model_module_version": "1.2.0",
          "state": {
            "_model_module": "@jupyter-widgets/base",
            "_model_module_version": "1.2.0",
            "_model_name": "LayoutModel",
            "_view_count": null,
            "_view_module": "@jupyter-widgets/base",
            "_view_module_version": "1.2.0",
            "_view_name": "LayoutView",
            "align_content": null,
            "align_items": null,
            "align_self": null,
            "border": null,
            "bottom": null,
            "display": null,
            "flex": null,
            "flex_flow": null,
            "grid_area": null,
            "grid_auto_columns": null,
            "grid_auto_flow": null,
            "grid_auto_rows": null,
            "grid_column": null,
            "grid_gap": null,
            "grid_row": null,
            "grid_template_areas": null,
            "grid_template_columns": null,
            "grid_template_rows": null,
            "height": null,
            "justify_content": null,
            "justify_items": null,
            "left": null,
            "margin": null,
            "max_height": null,
            "max_width": null,
            "min_height": null,
            "min_width": null,
            "object_fit": null,
            "object_position": null,
            "order": null,
            "overflow": null,
            "overflow_x": null,
            "overflow_y": null,
            "padding": null,
            "right": null,
            "top": null,
            "visibility": null,
            "width": null
          }
        },
        "25316026b6834f6fa39aa0e5c1086652": {
          "model_module": "@jupyter-widgets/base",
          "model_name": "LayoutModel",
          "model_module_version": "1.2.0",
          "state": {
            "_model_module": "@jupyter-widgets/base",
            "_model_module_version": "1.2.0",
            "_model_name": "LayoutModel",
            "_view_count": null,
            "_view_module": "@jupyter-widgets/base",
            "_view_module_version": "1.2.0",
            "_view_name": "LayoutView",
            "align_content": null,
            "align_items": null,
            "align_self": null,
            "border": null,
            "bottom": null,
            "display": null,
            "flex": null,
            "flex_flow": null,
            "grid_area": null,
            "grid_auto_columns": null,
            "grid_auto_flow": null,
            "grid_auto_rows": null,
            "grid_column": null,
            "grid_gap": null,
            "grid_row": null,
            "grid_template_areas": null,
            "grid_template_columns": null,
            "grid_template_rows": null,
            "height": null,
            "justify_content": null,
            "justify_items": null,
            "left": null,
            "margin": null,
            "max_height": null,
            "max_width": null,
            "min_height": null,
            "min_width": null,
            "object_fit": null,
            "object_position": null,
            "order": null,
            "overflow": null,
            "overflow_x": null,
            "overflow_y": null,
            "padding": null,
            "right": null,
            "top": null,
            "visibility": null,
            "width": null
          }
        },
        "0f60048f6d56424497b34372dfe4b19e": {
          "model_module": "@jupyter-widgets/controls",
          "model_name": "DescriptionStyleModel",
          "model_module_version": "1.5.0",
          "state": {
            "_model_module": "@jupyter-widgets/controls",
            "_model_module_version": "1.5.0",
            "_model_name": "DescriptionStyleModel",
            "_view_count": null,
            "_view_module": "@jupyter-widgets/base",
            "_view_module_version": "1.2.0",
            "_view_name": "StyleView",
            "description_width": ""
          }
        },
        "450579d33be046c296a64fcb6a45fc83": {
          "model_module": "@jupyter-widgets/base",
          "model_name": "LayoutModel",
          "model_module_version": "1.2.0",
          "state": {
            "_model_module": "@jupyter-widgets/base",
            "_model_module_version": "1.2.0",
            "_model_name": "LayoutModel",
            "_view_count": null,
            "_view_module": "@jupyter-widgets/base",
            "_view_module_version": "1.2.0",
            "_view_name": "LayoutView",
            "align_content": null,
            "align_items": null,
            "align_self": null,
            "border": null,
            "bottom": null,
            "display": null,
            "flex": null,
            "flex_flow": null,
            "grid_area": null,
            "grid_auto_columns": null,
            "grid_auto_flow": null,
            "grid_auto_rows": null,
            "grid_column": null,
            "grid_gap": null,
            "grid_row": null,
            "grid_template_areas": null,
            "grid_template_columns": null,
            "grid_template_rows": null,
            "height": null,
            "justify_content": null,
            "justify_items": null,
            "left": null,
            "margin": null,
            "max_height": null,
            "max_width": null,
            "min_height": null,
            "min_width": null,
            "object_fit": null,
            "object_position": null,
            "order": null,
            "overflow": null,
            "overflow_x": null,
            "overflow_y": null,
            "padding": null,
            "right": null,
            "top": null,
            "visibility": null,
            "width": null
          }
        },
        "8d5b1720931f48c4b4ecce99b8b5d533": {
          "model_module": "@jupyter-widgets/controls",
          "model_name": "ProgressStyleModel",
          "model_module_version": "1.5.0",
          "state": {
            "_model_module": "@jupyter-widgets/controls",
            "_model_module_version": "1.5.0",
            "_model_name": "ProgressStyleModel",
            "_view_count": null,
            "_view_module": "@jupyter-widgets/base",
            "_view_module_version": "1.2.0",
            "_view_name": "StyleView",
            "bar_color": null,
            "description_width": ""
          }
        },
        "0d54176714de426eb15c6f9b650ff19b": {
          "model_module": "@jupyter-widgets/base",
          "model_name": "LayoutModel",
          "model_module_version": "1.2.0",
          "state": {
            "_model_module": "@jupyter-widgets/base",
            "_model_module_version": "1.2.0",
            "_model_name": "LayoutModel",
            "_view_count": null,
            "_view_module": "@jupyter-widgets/base",
            "_view_module_version": "1.2.0",
            "_view_name": "LayoutView",
            "align_content": null,
            "align_items": null,
            "align_self": null,
            "border": null,
            "bottom": null,
            "display": null,
            "flex": null,
            "flex_flow": null,
            "grid_area": null,
            "grid_auto_columns": null,
            "grid_auto_flow": null,
            "grid_auto_rows": null,
            "grid_column": null,
            "grid_gap": null,
            "grid_row": null,
            "grid_template_areas": null,
            "grid_template_columns": null,
            "grid_template_rows": null,
            "height": null,
            "justify_content": null,
            "justify_items": null,
            "left": null,
            "margin": null,
            "max_height": null,
            "max_width": null,
            "min_height": null,
            "min_width": null,
            "object_fit": null,
            "object_position": null,
            "order": null,
            "overflow": null,
            "overflow_x": null,
            "overflow_y": null,
            "padding": null,
            "right": null,
            "top": null,
            "visibility": null,
            "width": null
          }
        },
        "43610ea2a40a482ca4af90320185bc64": {
          "model_module": "@jupyter-widgets/controls",
          "model_name": "DescriptionStyleModel",
          "model_module_version": "1.5.0",
          "state": {
            "_model_module": "@jupyter-widgets/controls",
            "_model_module_version": "1.5.0",
            "_model_name": "DescriptionStyleModel",
            "_view_count": null,
            "_view_module": "@jupyter-widgets/base",
            "_view_module_version": "1.2.0",
            "_view_name": "StyleView",
            "description_width": ""
          }
        },
        "eb0619c58231446a8a66636e30d26200": {
          "model_module": "@jupyter-widgets/controls",
          "model_name": "HBoxModel",
          "model_module_version": "1.5.0",
          "state": {
            "_dom_classes": [],
            "_model_module": "@jupyter-widgets/controls",
            "_model_module_version": "1.5.0",
            "_model_name": "HBoxModel",
            "_view_count": null,
            "_view_module": "@jupyter-widgets/controls",
            "_view_module_version": "1.5.0",
            "_view_name": "HBoxView",
            "box_style": "",
            "children": [
              "IPY_MODEL_cb5b9b0850ed4045b84fbe3230148464",
              "IPY_MODEL_1b9dc58c6ea64d628f767eda528c408e",
              "IPY_MODEL_0281f6587a414cde9eb67220615da4bf"
            ],
            "layout": "IPY_MODEL_b67c9663d45343999b6a6f518551f0eb"
          }
        },
        "cb5b9b0850ed4045b84fbe3230148464": {
          "model_module": "@jupyter-widgets/controls",
          "model_name": "HTMLModel",
          "model_module_version": "1.5.0",
          "state": {
            "_dom_classes": [],
            "_model_module": "@jupyter-widgets/controls",
            "_model_module_version": "1.5.0",
            "_model_name": "HTMLModel",
            "_view_count": null,
            "_view_module": "@jupyter-widgets/controls",
            "_view_module_version": "1.5.0",
            "_view_name": "HTMLView",
            "description": "",
            "description_tooltip": null,
            "layout": "IPY_MODEL_5a6de830b9b34110950a32fd3f536d5d",
            "placeholder": "​",
            "style": "IPY_MODEL_1384743edf744f77b56be94b995d1d38",
            "value": "model.safetensors: 100%"
          }
        },
        "1b9dc58c6ea64d628f767eda528c408e": {
          "model_module": "@jupyter-widgets/controls",
          "model_name": "FloatProgressModel",
          "model_module_version": "1.5.0",
          "state": {
            "_dom_classes": [],
            "_model_module": "@jupyter-widgets/controls",
            "_model_module_version": "1.5.0",
            "_model_name": "FloatProgressModel",
            "_view_count": null,
            "_view_module": "@jupyter-widgets/controls",
            "_view_module_version": "1.5.0",
            "_view_name": "ProgressView",
            "bar_style": "success",
            "description": "",
            "description_tooltip": null,
            "layout": "IPY_MODEL_3d99c15706e145aa98fb068e0d50589a",
            "max": 90868376,
            "min": 0,
            "orientation": "horizontal",
            "style": "IPY_MODEL_b8dc838f8d7749959d4866be3357ab98",
            "value": 90868376
          }
        },
        "0281f6587a414cde9eb67220615da4bf": {
          "model_module": "@jupyter-widgets/controls",
          "model_name": "HTMLModel",
          "model_module_version": "1.5.0",
          "state": {
            "_dom_classes": [],
            "_model_module": "@jupyter-widgets/controls",
            "_model_module_version": "1.5.0",
            "_model_name": "HTMLModel",
            "_view_count": null,
            "_view_module": "@jupyter-widgets/controls",
            "_view_module_version": "1.5.0",
            "_view_name": "HTMLView",
            "description": "",
            "description_tooltip": null,
            "layout": "IPY_MODEL_c404920cf1234134ac0c0445b636a9ca",
            "placeholder": "​",
            "style": "IPY_MODEL_13d88aba31b2410489bd8e999bb1eac8",
            "value": " 90.9M/90.9M [00:00&lt;00:00, 291MB/s]"
          }
        },
        "b67c9663d45343999b6a6f518551f0eb": {
          "model_module": "@jupyter-widgets/base",
          "model_name": "LayoutModel",
          "model_module_version": "1.2.0",
          "state": {
            "_model_module": "@jupyter-widgets/base",
            "_model_module_version": "1.2.0",
            "_model_name": "LayoutModel",
            "_view_count": null,
            "_view_module": "@jupyter-widgets/base",
            "_view_module_version": "1.2.0",
            "_view_name": "LayoutView",
            "align_content": null,
            "align_items": null,
            "align_self": null,
            "border": null,
            "bottom": null,
            "display": null,
            "flex": null,
            "flex_flow": null,
            "grid_area": null,
            "grid_auto_columns": null,
            "grid_auto_flow": null,
            "grid_auto_rows": null,
            "grid_column": null,
            "grid_gap": null,
            "grid_row": null,
            "grid_template_areas": null,
            "grid_template_columns": null,
            "grid_template_rows": null,
            "height": null,
            "justify_content": null,
            "justify_items": null,
            "left": null,
            "margin": null,
            "max_height": null,
            "max_width": null,
            "min_height": null,
            "min_width": null,
            "object_fit": null,
            "object_position": null,
            "order": null,
            "overflow": null,
            "overflow_x": null,
            "overflow_y": null,
            "padding": null,
            "right": null,
            "top": null,
            "visibility": null,
            "width": null
          }
        },
        "5a6de830b9b34110950a32fd3f536d5d": {
          "model_module": "@jupyter-widgets/base",
          "model_name": "LayoutModel",
          "model_module_version": "1.2.0",
          "state": {
            "_model_module": "@jupyter-widgets/base",
            "_model_module_version": "1.2.0",
            "_model_name": "LayoutModel",
            "_view_count": null,
            "_view_module": "@jupyter-widgets/base",
            "_view_module_version": "1.2.0",
            "_view_name": "LayoutView",
            "align_content": null,
            "align_items": null,
            "align_self": null,
            "border": null,
            "bottom": null,
            "display": null,
            "flex": null,
            "flex_flow": null,
            "grid_area": null,
            "grid_auto_columns": null,
            "grid_auto_flow": null,
            "grid_auto_rows": null,
            "grid_column": null,
            "grid_gap": null,
            "grid_row": null,
            "grid_template_areas": null,
            "grid_template_columns": null,
            "grid_template_rows": null,
            "height": null,
            "justify_content": null,
            "justify_items": null,
            "left": null,
            "margin": null,
            "max_height": null,
            "max_width": null,
            "min_height": null,
            "min_width": null,
            "object_fit": null,
            "object_position": null,
            "order": null,
            "overflow": null,
            "overflow_x": null,
            "overflow_y": null,
            "padding": null,
            "right": null,
            "top": null,
            "visibility": null,
            "width": null
          }
        },
        "1384743edf744f77b56be94b995d1d38": {
          "model_module": "@jupyter-widgets/controls",
          "model_name": "DescriptionStyleModel",
          "model_module_version": "1.5.0",
          "state": {
            "_model_module": "@jupyter-widgets/controls",
            "_model_module_version": "1.5.0",
            "_model_name": "DescriptionStyleModel",
            "_view_count": null,
            "_view_module": "@jupyter-widgets/base",
            "_view_module_version": "1.2.0",
            "_view_name": "StyleView",
            "description_width": ""
          }
        },
        "3d99c15706e145aa98fb068e0d50589a": {
          "model_module": "@jupyter-widgets/base",
          "model_name": "LayoutModel",
          "model_module_version": "1.2.0",
          "state": {
            "_model_module": "@jupyter-widgets/base",
            "_model_module_version": "1.2.0",
            "_model_name": "LayoutModel",
            "_view_count": null,
            "_view_module": "@jupyter-widgets/base",
            "_view_module_version": "1.2.0",
            "_view_name": "LayoutView",
            "align_content": null,
            "align_items": null,
            "align_self": null,
            "border": null,
            "bottom": null,
            "display": null,
            "flex": null,
            "flex_flow": null,
            "grid_area": null,
            "grid_auto_columns": null,
            "grid_auto_flow": null,
            "grid_auto_rows": null,
            "grid_column": null,
            "grid_gap": null,
            "grid_row": null,
            "grid_template_areas": null,
            "grid_template_columns": null,
            "grid_template_rows": null,
            "height": null,
            "justify_content": null,
            "justify_items": null,
            "left": null,
            "margin": null,
            "max_height": null,
            "max_width": null,
            "min_height": null,
            "min_width": null,
            "object_fit": null,
            "object_position": null,
            "order": null,
            "overflow": null,
            "overflow_x": null,
            "overflow_y": null,
            "padding": null,
            "right": null,
            "top": null,
            "visibility": null,
            "width": null
          }
        },
        "b8dc838f8d7749959d4866be3357ab98": {
          "model_module": "@jupyter-widgets/controls",
          "model_name": "ProgressStyleModel",
          "model_module_version": "1.5.0",
          "state": {
            "_model_module": "@jupyter-widgets/controls",
            "_model_module_version": "1.5.0",
            "_model_name": "ProgressStyleModel",
            "_view_count": null,
            "_view_module": "@jupyter-widgets/base",
            "_view_module_version": "1.2.0",
            "_view_name": "StyleView",
            "bar_color": null,
            "description_width": ""
          }
        },
        "c404920cf1234134ac0c0445b636a9ca": {
          "model_module": "@jupyter-widgets/base",
          "model_name": "LayoutModel",
          "model_module_version": "1.2.0",
          "state": {
            "_model_module": "@jupyter-widgets/base",
            "_model_module_version": "1.2.0",
            "_model_name": "LayoutModel",
            "_view_count": null,
            "_view_module": "@jupyter-widgets/base",
            "_view_module_version": "1.2.0",
            "_view_name": "LayoutView",
            "align_content": null,
            "align_items": null,
            "align_self": null,
            "border": null,
            "bottom": null,
            "display": null,
            "flex": null,
            "flex_flow": null,
            "grid_area": null,
            "grid_auto_columns": null,
            "grid_auto_flow": null,
            "grid_auto_rows": null,
            "grid_column": null,
            "grid_gap": null,
            "grid_row": null,
            "grid_template_areas": null,
            "grid_template_columns": null,
            "grid_template_rows": null,
            "height": null,
            "justify_content": null,
            "justify_items": null,
            "left": null,
            "margin": null,
            "max_height": null,
            "max_width": null,
            "min_height": null,
            "min_width": null,
            "object_fit": null,
            "object_position": null,
            "order": null,
            "overflow": null,
            "overflow_x": null,
            "overflow_y": null,
            "padding": null,
            "right": null,
            "top": null,
            "visibility": null,
            "width": null
          }
        },
        "13d88aba31b2410489bd8e999bb1eac8": {
          "model_module": "@jupyter-widgets/controls",
          "model_name": "DescriptionStyleModel",
          "model_module_version": "1.5.0",
          "state": {
            "_model_module": "@jupyter-widgets/controls",
            "_model_module_version": "1.5.0",
            "_model_name": "DescriptionStyleModel",
            "_view_count": null,
            "_view_module": "@jupyter-widgets/base",
            "_view_module_version": "1.2.0",
            "_view_name": "StyleView",
            "description_width": ""
          }
        },
        "e37fb84b54f845f3933d66742762a222": {
          "model_module": "@jupyter-widgets/controls",
          "model_name": "HBoxModel",
          "model_module_version": "1.5.0",
          "state": {
            "_dom_classes": [],
            "_model_module": "@jupyter-widgets/controls",
            "_model_module_version": "1.5.0",
            "_model_name": "HBoxModel",
            "_view_count": null,
            "_view_module": "@jupyter-widgets/controls",
            "_view_module_version": "1.5.0",
            "_view_name": "HBoxView",
            "box_style": "",
            "children": [
              "IPY_MODEL_6ee8f4859eee4e3bb515b49d03ee8681",
              "IPY_MODEL_0ff980b397474f208d4320c74cff2331",
              "IPY_MODEL_19bf76b3d0b542d5ac02c5b9d3d896a4"
            ],
            "layout": "IPY_MODEL_dfc104f962a8446b8c7fe7d16d45b139"
          }
        },
        "6ee8f4859eee4e3bb515b49d03ee8681": {
          "model_module": "@jupyter-widgets/controls",
          "model_name": "HTMLModel",
          "model_module_version": "1.5.0",
          "state": {
            "_dom_classes": [],
            "_model_module": "@jupyter-widgets/controls",
            "_model_module_version": "1.5.0",
            "_model_name": "HTMLModel",
            "_view_count": null,
            "_view_module": "@jupyter-widgets/controls",
            "_view_module_version": "1.5.0",
            "_view_name": "HTMLView",
            "description": "",
            "description_tooltip": null,
            "layout": "IPY_MODEL_390eb149dfac4ac4ba1cde4c1a6db277",
            "placeholder": "​",
            "style": "IPY_MODEL_d28f5aec4b154eca9ff96cfa4ed3510a",
            "value": "tokenizer_config.json: 100%"
          }
        },
        "0ff980b397474f208d4320c74cff2331": {
          "model_module": "@jupyter-widgets/controls",
          "model_name": "FloatProgressModel",
          "model_module_version": "1.5.0",
          "state": {
            "_dom_classes": [],
            "_model_module": "@jupyter-widgets/controls",
            "_model_module_version": "1.5.0",
            "_model_name": "FloatProgressModel",
            "_view_count": null,
            "_view_module": "@jupyter-widgets/controls",
            "_view_module_version": "1.5.0",
            "_view_name": "ProgressView",
            "bar_style": "success",
            "description": "",
            "description_tooltip": null,
            "layout": "IPY_MODEL_1ae463301b1b4f63b5d6d4fca453a215",
            "max": 350,
            "min": 0,
            "orientation": "horizontal",
            "style": "IPY_MODEL_4b54bcc618f84acc907e112bdf6cf0a8",
            "value": 350
          }
        },
        "19bf76b3d0b542d5ac02c5b9d3d896a4": {
          "model_module": "@jupyter-widgets/controls",
          "model_name": "HTMLModel",
          "model_module_version": "1.5.0",
          "state": {
            "_dom_classes": [],
            "_model_module": "@jupyter-widgets/controls",
            "_model_module_version": "1.5.0",
            "_model_name": "HTMLModel",
            "_view_count": null,
            "_view_module": "@jupyter-widgets/controls",
            "_view_module_version": "1.5.0",
            "_view_name": "HTMLView",
            "description": "",
            "description_tooltip": null,
            "layout": "IPY_MODEL_16396fa48d9146d8b661002b3311fe44",
            "placeholder": "​",
            "style": "IPY_MODEL_a5b641b92b8d4843a60696d07966ff79",
            "value": " 350/350 [00:00&lt;00:00, 17.7kB/s]"
          }
        },
        "dfc104f962a8446b8c7fe7d16d45b139": {
          "model_module": "@jupyter-widgets/base",
          "model_name": "LayoutModel",
          "model_module_version": "1.2.0",
          "state": {
            "_model_module": "@jupyter-widgets/base",
            "_model_module_version": "1.2.0",
            "_model_name": "LayoutModel",
            "_view_count": null,
            "_view_module": "@jupyter-widgets/base",
            "_view_module_version": "1.2.0",
            "_view_name": "LayoutView",
            "align_content": null,
            "align_items": null,
            "align_self": null,
            "border": null,
            "bottom": null,
            "display": null,
            "flex": null,
            "flex_flow": null,
            "grid_area": null,
            "grid_auto_columns": null,
            "grid_auto_flow": null,
            "grid_auto_rows": null,
            "grid_column": null,
            "grid_gap": null,
            "grid_row": null,
            "grid_template_areas": null,
            "grid_template_columns": null,
            "grid_template_rows": null,
            "height": null,
            "justify_content": null,
            "justify_items": null,
            "left": null,
            "margin": null,
            "max_height": null,
            "max_width": null,
            "min_height": null,
            "min_width": null,
            "object_fit": null,
            "object_position": null,
            "order": null,
            "overflow": null,
            "overflow_x": null,
            "overflow_y": null,
            "padding": null,
            "right": null,
            "top": null,
            "visibility": null,
            "width": null
          }
        },
        "390eb149dfac4ac4ba1cde4c1a6db277": {
          "model_module": "@jupyter-widgets/base",
          "model_name": "LayoutModel",
          "model_module_version": "1.2.0",
          "state": {
            "_model_module": "@jupyter-widgets/base",
            "_model_module_version": "1.2.0",
            "_model_name": "LayoutModel",
            "_view_count": null,
            "_view_module": "@jupyter-widgets/base",
            "_view_module_version": "1.2.0",
            "_view_name": "LayoutView",
            "align_content": null,
            "align_items": null,
            "align_self": null,
            "border": null,
            "bottom": null,
            "display": null,
            "flex": null,
            "flex_flow": null,
            "grid_area": null,
            "grid_auto_columns": null,
            "grid_auto_flow": null,
            "grid_auto_rows": null,
            "grid_column": null,
            "grid_gap": null,
            "grid_row": null,
            "grid_template_areas": null,
            "grid_template_columns": null,
            "grid_template_rows": null,
            "height": null,
            "justify_content": null,
            "justify_items": null,
            "left": null,
            "margin": null,
            "max_height": null,
            "max_width": null,
            "min_height": null,
            "min_width": null,
            "object_fit": null,
            "object_position": null,
            "order": null,
            "overflow": null,
            "overflow_x": null,
            "overflow_y": null,
            "padding": null,
            "right": null,
            "top": null,
            "visibility": null,
            "width": null
          }
        },
        "d28f5aec4b154eca9ff96cfa4ed3510a": {
          "model_module": "@jupyter-widgets/controls",
          "model_name": "DescriptionStyleModel",
          "model_module_version": "1.5.0",
          "state": {
            "_model_module": "@jupyter-widgets/controls",
            "_model_module_version": "1.5.0",
            "_model_name": "DescriptionStyleModel",
            "_view_count": null,
            "_view_module": "@jupyter-widgets/base",
            "_view_module_version": "1.2.0",
            "_view_name": "StyleView",
            "description_width": ""
          }
        },
        "1ae463301b1b4f63b5d6d4fca453a215": {
          "model_module": "@jupyter-widgets/base",
          "model_name": "LayoutModel",
          "model_module_version": "1.2.0",
          "state": {
            "_model_module": "@jupyter-widgets/base",
            "_model_module_version": "1.2.0",
            "_model_name": "LayoutModel",
            "_view_count": null,
            "_view_module": "@jupyter-widgets/base",
            "_view_module_version": "1.2.0",
            "_view_name": "LayoutView",
            "align_content": null,
            "align_items": null,
            "align_self": null,
            "border": null,
            "bottom": null,
            "display": null,
            "flex": null,
            "flex_flow": null,
            "grid_area": null,
            "grid_auto_columns": null,
            "grid_auto_flow": null,
            "grid_auto_rows": null,
            "grid_column": null,
            "grid_gap": null,
            "grid_row": null,
            "grid_template_areas": null,
            "grid_template_columns": null,
            "grid_template_rows": null,
            "height": null,
            "justify_content": null,
            "justify_items": null,
            "left": null,
            "margin": null,
            "max_height": null,
            "max_width": null,
            "min_height": null,
            "min_width": null,
            "object_fit": null,
            "object_position": null,
            "order": null,
            "overflow": null,
            "overflow_x": null,
            "overflow_y": null,
            "padding": null,
            "right": null,
            "top": null,
            "visibility": null,
            "width": null
          }
        },
        "4b54bcc618f84acc907e112bdf6cf0a8": {
          "model_module": "@jupyter-widgets/controls",
          "model_name": "ProgressStyleModel",
          "model_module_version": "1.5.0",
          "state": {
            "_model_module": "@jupyter-widgets/controls",
            "_model_module_version": "1.5.0",
            "_model_name": "ProgressStyleModel",
            "_view_count": null,
            "_view_module": "@jupyter-widgets/base",
            "_view_module_version": "1.2.0",
            "_view_name": "StyleView",
            "bar_color": null,
            "description_width": ""
          }
        },
        "16396fa48d9146d8b661002b3311fe44": {
          "model_module": "@jupyter-widgets/base",
          "model_name": "LayoutModel",
          "model_module_version": "1.2.0",
          "state": {
            "_model_module": "@jupyter-widgets/base",
            "_model_module_version": "1.2.0",
            "_model_name": "LayoutModel",
            "_view_count": null,
            "_view_module": "@jupyter-widgets/base",
            "_view_module_version": "1.2.0",
            "_view_name": "LayoutView",
            "align_content": null,
            "align_items": null,
            "align_self": null,
            "border": null,
            "bottom": null,
            "display": null,
            "flex": null,
            "flex_flow": null,
            "grid_area": null,
            "grid_auto_columns": null,
            "grid_auto_flow": null,
            "grid_auto_rows": null,
            "grid_column": null,
            "grid_gap": null,
            "grid_row": null,
            "grid_template_areas": null,
            "grid_template_columns": null,
            "grid_template_rows": null,
            "height": null,
            "justify_content": null,
            "justify_items": null,
            "left": null,
            "margin": null,
            "max_height": null,
            "max_width": null,
            "min_height": null,
            "min_width": null,
            "object_fit": null,
            "object_position": null,
            "order": null,
            "overflow": null,
            "overflow_x": null,
            "overflow_y": null,
            "padding": null,
            "right": null,
            "top": null,
            "visibility": null,
            "width": null
          }
        },
        "a5b641b92b8d4843a60696d07966ff79": {
          "model_module": "@jupyter-widgets/controls",
          "model_name": "DescriptionStyleModel",
          "model_module_version": "1.5.0",
          "state": {
            "_model_module": "@jupyter-widgets/controls",
            "_model_module_version": "1.5.0",
            "_model_name": "DescriptionStyleModel",
            "_view_count": null,
            "_view_module": "@jupyter-widgets/base",
            "_view_module_version": "1.2.0",
            "_view_name": "StyleView",
            "description_width": ""
          }
        },
        "6de2fe8478cc467f8f1e0a2706d6d04d": {
          "model_module": "@jupyter-widgets/controls",
          "model_name": "HBoxModel",
          "model_module_version": "1.5.0",
          "state": {
            "_dom_classes": [],
            "_model_module": "@jupyter-widgets/controls",
            "_model_module_version": "1.5.0",
            "_model_name": "HBoxModel",
            "_view_count": null,
            "_view_module": "@jupyter-widgets/controls",
            "_view_module_version": "1.5.0",
            "_view_name": "HBoxView",
            "box_style": "",
            "children": [
              "IPY_MODEL_222230f5a1a245c9a107f6ed10fbbc2d",
              "IPY_MODEL_30ca190887de4bf093f041e8dfb4bfe6",
              "IPY_MODEL_fffe242d889042f2b204f04ac7ac1117"
            ],
            "layout": "IPY_MODEL_3163377ad7fa40c4ae122ec3e147d3cb"
          }
        },
        "222230f5a1a245c9a107f6ed10fbbc2d": {
          "model_module": "@jupyter-widgets/controls",
          "model_name": "HTMLModel",
          "model_module_version": "1.5.0",
          "state": {
            "_dom_classes": [],
            "_model_module": "@jupyter-widgets/controls",
            "_model_module_version": "1.5.0",
            "_model_name": "HTMLModel",
            "_view_count": null,
            "_view_module": "@jupyter-widgets/controls",
            "_view_module_version": "1.5.0",
            "_view_name": "HTMLView",
            "description": "",
            "description_tooltip": null,
            "layout": "IPY_MODEL_3510625a020a49d4ab0fd3ae85236e91",
            "placeholder": "​",
            "style": "IPY_MODEL_aaf1d30179b849d488535aad17b3de87",
            "value": "vocab.txt: 100%"
          }
        },
        "30ca190887de4bf093f041e8dfb4bfe6": {
          "model_module": "@jupyter-widgets/controls",
          "model_name": "FloatProgressModel",
          "model_module_version": "1.5.0",
          "state": {
            "_dom_classes": [],
            "_model_module": "@jupyter-widgets/controls",
            "_model_module_version": "1.5.0",
            "_model_name": "FloatProgressModel",
            "_view_count": null,
            "_view_module": "@jupyter-widgets/controls",
            "_view_module_version": "1.5.0",
            "_view_name": "ProgressView",
            "bar_style": "success",
            "description": "",
            "description_tooltip": null,
            "layout": "IPY_MODEL_248b3d59bda7414899f781381d4f5c1c",
            "max": 231508,
            "min": 0,
            "orientation": "horizontal",
            "style": "IPY_MODEL_1bdbfa558400469ea8a927e54fc1e45c",
            "value": 231508
          }
        },
        "fffe242d889042f2b204f04ac7ac1117": {
          "model_module": "@jupyter-widgets/controls",
          "model_name": "HTMLModel",
          "model_module_version": "1.5.0",
          "state": {
            "_dom_classes": [],
            "_model_module": "@jupyter-widgets/controls",
            "_model_module_version": "1.5.0",
            "_model_name": "HTMLModel",
            "_view_count": null,
            "_view_module": "@jupyter-widgets/controls",
            "_view_module_version": "1.5.0",
            "_view_name": "HTMLView",
            "description": "",
            "description_tooltip": null,
            "layout": "IPY_MODEL_e025a905db764660ad681d1eefff9c87",
            "placeholder": "​",
            "style": "IPY_MODEL_f981e83a19b6436799a7df54958cd8e7",
            "value": " 232k/232k [00:00&lt;00:00, 7.26MB/s]"
          }
        },
        "3163377ad7fa40c4ae122ec3e147d3cb": {
          "model_module": "@jupyter-widgets/base",
          "model_name": "LayoutModel",
          "model_module_version": "1.2.0",
          "state": {
            "_model_module": "@jupyter-widgets/base",
            "_model_module_version": "1.2.0",
            "_model_name": "LayoutModel",
            "_view_count": null,
            "_view_module": "@jupyter-widgets/base",
            "_view_module_version": "1.2.0",
            "_view_name": "LayoutView",
            "align_content": null,
            "align_items": null,
            "align_self": null,
            "border": null,
            "bottom": null,
            "display": null,
            "flex": null,
            "flex_flow": null,
            "grid_area": null,
            "grid_auto_columns": null,
            "grid_auto_flow": null,
            "grid_auto_rows": null,
            "grid_column": null,
            "grid_gap": null,
            "grid_row": null,
            "grid_template_areas": null,
            "grid_template_columns": null,
            "grid_template_rows": null,
            "height": null,
            "justify_content": null,
            "justify_items": null,
            "left": null,
            "margin": null,
            "max_height": null,
            "max_width": null,
            "min_height": null,
            "min_width": null,
            "object_fit": null,
            "object_position": null,
            "order": null,
            "overflow": null,
            "overflow_x": null,
            "overflow_y": null,
            "padding": null,
            "right": null,
            "top": null,
            "visibility": null,
            "width": null
          }
        },
        "3510625a020a49d4ab0fd3ae85236e91": {
          "model_module": "@jupyter-widgets/base",
          "model_name": "LayoutModel",
          "model_module_version": "1.2.0",
          "state": {
            "_model_module": "@jupyter-widgets/base",
            "_model_module_version": "1.2.0",
            "_model_name": "LayoutModel",
            "_view_count": null,
            "_view_module": "@jupyter-widgets/base",
            "_view_module_version": "1.2.0",
            "_view_name": "LayoutView",
            "align_content": null,
            "align_items": null,
            "align_self": null,
            "border": null,
            "bottom": null,
            "display": null,
            "flex": null,
            "flex_flow": null,
            "grid_area": null,
            "grid_auto_columns": null,
            "grid_auto_flow": null,
            "grid_auto_rows": null,
            "grid_column": null,
            "grid_gap": null,
            "grid_row": null,
            "grid_template_areas": null,
            "grid_template_columns": null,
            "grid_template_rows": null,
            "height": null,
            "justify_content": null,
            "justify_items": null,
            "left": null,
            "margin": null,
            "max_height": null,
            "max_width": null,
            "min_height": null,
            "min_width": null,
            "object_fit": null,
            "object_position": null,
            "order": null,
            "overflow": null,
            "overflow_x": null,
            "overflow_y": null,
            "padding": null,
            "right": null,
            "top": null,
            "visibility": null,
            "width": null
          }
        },
        "aaf1d30179b849d488535aad17b3de87": {
          "model_module": "@jupyter-widgets/controls",
          "model_name": "DescriptionStyleModel",
          "model_module_version": "1.5.0",
          "state": {
            "_model_module": "@jupyter-widgets/controls",
            "_model_module_version": "1.5.0",
            "_model_name": "DescriptionStyleModel",
            "_view_count": null,
            "_view_module": "@jupyter-widgets/base",
            "_view_module_version": "1.2.0",
            "_view_name": "StyleView",
            "description_width": ""
          }
        },
        "248b3d59bda7414899f781381d4f5c1c": {
          "model_module": "@jupyter-widgets/base",
          "model_name": "LayoutModel",
          "model_module_version": "1.2.0",
          "state": {
            "_model_module": "@jupyter-widgets/base",
            "_model_module_version": "1.2.0",
            "_model_name": "LayoutModel",
            "_view_count": null,
            "_view_module": "@jupyter-widgets/base",
            "_view_module_version": "1.2.0",
            "_view_name": "LayoutView",
            "align_content": null,
            "align_items": null,
            "align_self": null,
            "border": null,
            "bottom": null,
            "display": null,
            "flex": null,
            "flex_flow": null,
            "grid_area": null,
            "grid_auto_columns": null,
            "grid_auto_flow": null,
            "grid_auto_rows": null,
            "grid_column": null,
            "grid_gap": null,
            "grid_row": null,
            "grid_template_areas": null,
            "grid_template_columns": null,
            "grid_template_rows": null,
            "height": null,
            "justify_content": null,
            "justify_items": null,
            "left": null,
            "margin": null,
            "max_height": null,
            "max_width": null,
            "min_height": null,
            "min_width": null,
            "object_fit": null,
            "object_position": null,
            "order": null,
            "overflow": null,
            "overflow_x": null,
            "overflow_y": null,
            "padding": null,
            "right": null,
            "top": null,
            "visibility": null,
            "width": null
          }
        },
        "1bdbfa558400469ea8a927e54fc1e45c": {
          "model_module": "@jupyter-widgets/controls",
          "model_name": "ProgressStyleModel",
          "model_module_version": "1.5.0",
          "state": {
            "_model_module": "@jupyter-widgets/controls",
            "_model_module_version": "1.5.0",
            "_model_name": "ProgressStyleModel",
            "_view_count": null,
            "_view_module": "@jupyter-widgets/base",
            "_view_module_version": "1.2.0",
            "_view_name": "StyleView",
            "bar_color": null,
            "description_width": ""
          }
        },
        "e025a905db764660ad681d1eefff9c87": {
          "model_module": "@jupyter-widgets/base",
          "model_name": "LayoutModel",
          "model_module_version": "1.2.0",
          "state": {
            "_model_module": "@jupyter-widgets/base",
            "_model_module_version": "1.2.0",
            "_model_name": "LayoutModel",
            "_view_count": null,
            "_view_module": "@jupyter-widgets/base",
            "_view_module_version": "1.2.0",
            "_view_name": "LayoutView",
            "align_content": null,
            "align_items": null,
            "align_self": null,
            "border": null,
            "bottom": null,
            "display": null,
            "flex": null,
            "flex_flow": null,
            "grid_area": null,
            "grid_auto_columns": null,
            "grid_auto_flow": null,
            "grid_auto_rows": null,
            "grid_column": null,
            "grid_gap": null,
            "grid_row": null,
            "grid_template_areas": null,
            "grid_template_columns": null,
            "grid_template_rows": null,
            "height": null,
            "justify_content": null,
            "justify_items": null,
            "left": null,
            "margin": null,
            "max_height": null,
            "max_width": null,
            "min_height": null,
            "min_width": null,
            "object_fit": null,
            "object_position": null,
            "order": null,
            "overflow": null,
            "overflow_x": null,
            "overflow_y": null,
            "padding": null,
            "right": null,
            "top": null,
            "visibility": null,
            "width": null
          }
        },
        "f981e83a19b6436799a7df54958cd8e7": {
          "model_module": "@jupyter-widgets/controls",
          "model_name": "DescriptionStyleModel",
          "model_module_version": "1.5.0",
          "state": {
            "_model_module": "@jupyter-widgets/controls",
            "_model_module_version": "1.5.0",
            "_model_name": "DescriptionStyleModel",
            "_view_count": null,
            "_view_module": "@jupyter-widgets/base",
            "_view_module_version": "1.2.0",
            "_view_name": "StyleView",
            "description_width": ""
          }
        },
        "042d3c2203c04e368bc4147a2c236eaa": {
          "model_module": "@jupyter-widgets/controls",
          "model_name": "HBoxModel",
          "model_module_version": "1.5.0",
          "state": {
            "_dom_classes": [],
            "_model_module": "@jupyter-widgets/controls",
            "_model_module_version": "1.5.0",
            "_model_name": "HBoxModel",
            "_view_count": null,
            "_view_module": "@jupyter-widgets/controls",
            "_view_module_version": "1.5.0",
            "_view_name": "HBoxView",
            "box_style": "",
            "children": [
              "IPY_MODEL_731ee0039aae450facc5747e1f19b781",
              "IPY_MODEL_0444d2b751454423ad1fb8d3035b75df",
              "IPY_MODEL_c06fd9cb47ad4eeabba070d8456de80e"
            ],
            "layout": "IPY_MODEL_6556f7677b5d4e448a889e2c8d4c5d9f"
          }
        },
        "731ee0039aae450facc5747e1f19b781": {
          "model_module": "@jupyter-widgets/controls",
          "model_name": "HTMLModel",
          "model_module_version": "1.5.0",
          "state": {
            "_dom_classes": [],
            "_model_module": "@jupyter-widgets/controls",
            "_model_module_version": "1.5.0",
            "_model_name": "HTMLModel",
            "_view_count": null,
            "_view_module": "@jupyter-widgets/controls",
            "_view_module_version": "1.5.0",
            "_view_name": "HTMLView",
            "description": "",
            "description_tooltip": null,
            "layout": "IPY_MODEL_b8304f8e5b0246efa3041366d295d1a0",
            "placeholder": "​",
            "style": "IPY_MODEL_b77f7c0ab05347a0ad5cb3a068af47c1",
            "value": "tokenizer.json: 100%"
          }
        },
        "0444d2b751454423ad1fb8d3035b75df": {
          "model_module": "@jupyter-widgets/controls",
          "model_name": "FloatProgressModel",
          "model_module_version": "1.5.0",
          "state": {
            "_dom_classes": [],
            "_model_module": "@jupyter-widgets/controls",
            "_model_module_version": "1.5.0",
            "_model_name": "FloatProgressModel",
            "_view_count": null,
            "_view_module": "@jupyter-widgets/controls",
            "_view_module_version": "1.5.0",
            "_view_name": "ProgressView",
            "bar_style": "success",
            "description": "",
            "description_tooltip": null,
            "layout": "IPY_MODEL_eec135f280ba40759f6f37e559ec38b5",
            "max": 466247,
            "min": 0,
            "orientation": "horizontal",
            "style": "IPY_MODEL_8e3637655f874e968eee9f28ba42197f",
            "value": 466247
          }
        },
        "c06fd9cb47ad4eeabba070d8456de80e": {
          "model_module": "@jupyter-widgets/controls",
          "model_name": "HTMLModel",
          "model_module_version": "1.5.0",
          "state": {
            "_dom_classes": [],
            "_model_module": "@jupyter-widgets/controls",
            "_model_module_version": "1.5.0",
            "_model_name": "HTMLModel",
            "_view_count": null,
            "_view_module": "@jupyter-widgets/controls",
            "_view_module_version": "1.5.0",
            "_view_name": "HTMLView",
            "description": "",
            "description_tooltip": null,
            "layout": "IPY_MODEL_89310a833b054a9b9a9f0fedc78169da",
            "placeholder": "​",
            "style": "IPY_MODEL_3d106d7ddcb64c568e58a3384de7ec01",
            "value": " 466k/466k [00:00&lt;00:00, 16.2MB/s]"
          }
        },
        "6556f7677b5d4e448a889e2c8d4c5d9f": {
          "model_module": "@jupyter-widgets/base",
          "model_name": "LayoutModel",
          "model_module_version": "1.2.0",
          "state": {
            "_model_module": "@jupyter-widgets/base",
            "_model_module_version": "1.2.0",
            "_model_name": "LayoutModel",
            "_view_count": null,
            "_view_module": "@jupyter-widgets/base",
            "_view_module_version": "1.2.0",
            "_view_name": "LayoutView",
            "align_content": null,
            "align_items": null,
            "align_self": null,
            "border": null,
            "bottom": null,
            "display": null,
            "flex": null,
            "flex_flow": null,
            "grid_area": null,
            "grid_auto_columns": null,
            "grid_auto_flow": null,
            "grid_auto_rows": null,
            "grid_column": null,
            "grid_gap": null,
            "grid_row": null,
            "grid_template_areas": null,
            "grid_template_columns": null,
            "grid_template_rows": null,
            "height": null,
            "justify_content": null,
            "justify_items": null,
            "left": null,
            "margin": null,
            "max_height": null,
            "max_width": null,
            "min_height": null,
            "min_width": null,
            "object_fit": null,
            "object_position": null,
            "order": null,
            "overflow": null,
            "overflow_x": null,
            "overflow_y": null,
            "padding": null,
            "right": null,
            "top": null,
            "visibility": null,
            "width": null
          }
        },
        "b8304f8e5b0246efa3041366d295d1a0": {
          "model_module": "@jupyter-widgets/base",
          "model_name": "LayoutModel",
          "model_module_version": "1.2.0",
          "state": {
            "_model_module": "@jupyter-widgets/base",
            "_model_module_version": "1.2.0",
            "_model_name": "LayoutModel",
            "_view_count": null,
            "_view_module": "@jupyter-widgets/base",
            "_view_module_version": "1.2.0",
            "_view_name": "LayoutView",
            "align_content": null,
            "align_items": null,
            "align_self": null,
            "border": null,
            "bottom": null,
            "display": null,
            "flex": null,
            "flex_flow": null,
            "grid_area": null,
            "grid_auto_columns": null,
            "grid_auto_flow": null,
            "grid_auto_rows": null,
            "grid_column": null,
            "grid_gap": null,
            "grid_row": null,
            "grid_template_areas": null,
            "grid_template_columns": null,
            "grid_template_rows": null,
            "height": null,
            "justify_content": null,
            "justify_items": null,
            "left": null,
            "margin": null,
            "max_height": null,
            "max_width": null,
            "min_height": null,
            "min_width": null,
            "object_fit": null,
            "object_position": null,
            "order": null,
            "overflow": null,
            "overflow_x": null,
            "overflow_y": null,
            "padding": null,
            "right": null,
            "top": null,
            "visibility": null,
            "width": null
          }
        },
        "b77f7c0ab05347a0ad5cb3a068af47c1": {
          "model_module": "@jupyter-widgets/controls",
          "model_name": "DescriptionStyleModel",
          "model_module_version": "1.5.0",
          "state": {
            "_model_module": "@jupyter-widgets/controls",
            "_model_module_version": "1.5.0",
            "_model_name": "DescriptionStyleModel",
            "_view_count": null,
            "_view_module": "@jupyter-widgets/base",
            "_view_module_version": "1.2.0",
            "_view_name": "StyleView",
            "description_width": ""
          }
        },
        "eec135f280ba40759f6f37e559ec38b5": {
          "model_module": "@jupyter-widgets/base",
          "model_name": "LayoutModel",
          "model_module_version": "1.2.0",
          "state": {
            "_model_module": "@jupyter-widgets/base",
            "_model_module_version": "1.2.0",
            "_model_name": "LayoutModel",
            "_view_count": null,
            "_view_module": "@jupyter-widgets/base",
            "_view_module_version": "1.2.0",
            "_view_name": "LayoutView",
            "align_content": null,
            "align_items": null,
            "align_self": null,
            "border": null,
            "bottom": null,
            "display": null,
            "flex": null,
            "flex_flow": null,
            "grid_area": null,
            "grid_auto_columns": null,
            "grid_auto_flow": null,
            "grid_auto_rows": null,
            "grid_column": null,
            "grid_gap": null,
            "grid_row": null,
            "grid_template_areas": null,
            "grid_template_columns": null,
            "grid_template_rows": null,
            "height": null,
            "justify_content": null,
            "justify_items": null,
            "left": null,
            "margin": null,
            "max_height": null,
            "max_width": null,
            "min_height": null,
            "min_width": null,
            "object_fit": null,
            "object_position": null,
            "order": null,
            "overflow": null,
            "overflow_x": null,
            "overflow_y": null,
            "padding": null,
            "right": null,
            "top": null,
            "visibility": null,
            "width": null
          }
        },
        "8e3637655f874e968eee9f28ba42197f": {
          "model_module": "@jupyter-widgets/controls",
          "model_name": "ProgressStyleModel",
          "model_module_version": "1.5.0",
          "state": {
            "_model_module": "@jupyter-widgets/controls",
            "_model_module_version": "1.5.0",
            "_model_name": "ProgressStyleModel",
            "_view_count": null,
            "_view_module": "@jupyter-widgets/base",
            "_view_module_version": "1.2.0",
            "_view_name": "StyleView",
            "bar_color": null,
            "description_width": ""
          }
        },
        "89310a833b054a9b9a9f0fedc78169da": {
          "model_module": "@jupyter-widgets/base",
          "model_name": "LayoutModel",
          "model_module_version": "1.2.0",
          "state": {
            "_model_module": "@jupyter-widgets/base",
            "_model_module_version": "1.2.0",
            "_model_name": "LayoutModel",
            "_view_count": null,
            "_view_module": "@jupyter-widgets/base",
            "_view_module_version": "1.2.0",
            "_view_name": "LayoutView",
            "align_content": null,
            "align_items": null,
            "align_self": null,
            "border": null,
            "bottom": null,
            "display": null,
            "flex": null,
            "flex_flow": null,
            "grid_area": null,
            "grid_auto_columns": null,
            "grid_auto_flow": null,
            "grid_auto_rows": null,
            "grid_column": null,
            "grid_gap": null,
            "grid_row": null,
            "grid_template_areas": null,
            "grid_template_columns": null,
            "grid_template_rows": null,
            "height": null,
            "justify_content": null,
            "justify_items": null,
            "left": null,
            "margin": null,
            "max_height": null,
            "max_width": null,
            "min_height": null,
            "min_width": null,
            "object_fit": null,
            "object_position": null,
            "order": null,
            "overflow": null,
            "overflow_x": null,
            "overflow_y": null,
            "padding": null,
            "right": null,
            "top": null,
            "visibility": null,
            "width": null
          }
        },
        "3d106d7ddcb64c568e58a3384de7ec01": {
          "model_module": "@jupyter-widgets/controls",
          "model_name": "DescriptionStyleModel",
          "model_module_version": "1.5.0",
          "state": {
            "_model_module": "@jupyter-widgets/controls",
            "_model_module_version": "1.5.0",
            "_model_name": "DescriptionStyleModel",
            "_view_count": null,
            "_view_module": "@jupyter-widgets/base",
            "_view_module_version": "1.2.0",
            "_view_name": "StyleView",
            "description_width": ""
          }
        },
        "162e75ff8d6b42a99a7a8e73b1fb0bea": {
          "model_module": "@jupyter-widgets/controls",
          "model_name": "HBoxModel",
          "model_module_version": "1.5.0",
          "state": {
            "_dom_classes": [],
            "_model_module": "@jupyter-widgets/controls",
            "_model_module_version": "1.5.0",
            "_model_name": "HBoxModel",
            "_view_count": null,
            "_view_module": "@jupyter-widgets/controls",
            "_view_module_version": "1.5.0",
            "_view_name": "HBoxView",
            "box_style": "",
            "children": [
              "IPY_MODEL_f100be6ef6934781bd7dd13540b383a3",
              "IPY_MODEL_f111fa9c286744bdbe7b92c5c0646189",
              "IPY_MODEL_89a1a2c9d2014bd8b35f73fe2908dd2a"
            ],
            "layout": "IPY_MODEL_ddf22497e3214362b5ad1a8785cf2f0d"
          }
        },
        "f100be6ef6934781bd7dd13540b383a3": {
          "model_module": "@jupyter-widgets/controls",
          "model_name": "HTMLModel",
          "model_module_version": "1.5.0",
          "state": {
            "_dom_classes": [],
            "_model_module": "@jupyter-widgets/controls",
            "_model_module_version": "1.5.0",
            "_model_name": "HTMLModel",
            "_view_count": null,
            "_view_module": "@jupyter-widgets/controls",
            "_view_module_version": "1.5.0",
            "_view_name": "HTMLView",
            "description": "",
            "description_tooltip": null,
            "layout": "IPY_MODEL_7244a38e19ae4b1fb218cefe6e347537",
            "placeholder": "​",
            "style": "IPY_MODEL_9eadf762bc7e45a5ab091796590b4fd8",
            "value": "special_tokens_map.json: 100%"
          }
        },
        "f111fa9c286744bdbe7b92c5c0646189": {
          "model_module": "@jupyter-widgets/controls",
          "model_name": "FloatProgressModel",
          "model_module_version": "1.5.0",
          "state": {
            "_dom_classes": [],
            "_model_module": "@jupyter-widgets/controls",
            "_model_module_version": "1.5.0",
            "_model_name": "FloatProgressModel",
            "_view_count": null,
            "_view_module": "@jupyter-widgets/controls",
            "_view_module_version": "1.5.0",
            "_view_name": "ProgressView",
            "bar_style": "success",
            "description": "",
            "description_tooltip": null,
            "layout": "IPY_MODEL_f2aed1a81c2842829f1980920c30c226",
            "max": 112,
            "min": 0,
            "orientation": "horizontal",
            "style": "IPY_MODEL_6a787cab6d7b442fb7864825660cd684",
            "value": 112
          }
        },
        "89a1a2c9d2014bd8b35f73fe2908dd2a": {
          "model_module": "@jupyter-widgets/controls",
          "model_name": "HTMLModel",
          "model_module_version": "1.5.0",
          "state": {
            "_dom_classes": [],
            "_model_module": "@jupyter-widgets/controls",
            "_model_module_version": "1.5.0",
            "_model_name": "HTMLModel",
            "_view_count": null,
            "_view_module": "@jupyter-widgets/controls",
            "_view_module_version": "1.5.0",
            "_view_name": "HTMLView",
            "description": "",
            "description_tooltip": null,
            "layout": "IPY_MODEL_af12268a10e04411ba934f5959b9d5f9",
            "placeholder": "​",
            "style": "IPY_MODEL_fd7acce03f1646be914f2a8ab68df7c6",
            "value": " 112/112 [00:00&lt;00:00, 5.76kB/s]"
          }
        },
        "ddf22497e3214362b5ad1a8785cf2f0d": {
          "model_module": "@jupyter-widgets/base",
          "model_name": "LayoutModel",
          "model_module_version": "1.2.0",
          "state": {
            "_model_module": "@jupyter-widgets/base",
            "_model_module_version": "1.2.0",
            "_model_name": "LayoutModel",
            "_view_count": null,
            "_view_module": "@jupyter-widgets/base",
            "_view_module_version": "1.2.0",
            "_view_name": "LayoutView",
            "align_content": null,
            "align_items": null,
            "align_self": null,
            "border": null,
            "bottom": null,
            "display": null,
            "flex": null,
            "flex_flow": null,
            "grid_area": null,
            "grid_auto_columns": null,
            "grid_auto_flow": null,
            "grid_auto_rows": null,
            "grid_column": null,
            "grid_gap": null,
            "grid_row": null,
            "grid_template_areas": null,
            "grid_template_columns": null,
            "grid_template_rows": null,
            "height": null,
            "justify_content": null,
            "justify_items": null,
            "left": null,
            "margin": null,
            "max_height": null,
            "max_width": null,
            "min_height": null,
            "min_width": null,
            "object_fit": null,
            "object_position": null,
            "order": null,
            "overflow": null,
            "overflow_x": null,
            "overflow_y": null,
            "padding": null,
            "right": null,
            "top": null,
            "visibility": null,
            "width": null
          }
        },
        "7244a38e19ae4b1fb218cefe6e347537": {
          "model_module": "@jupyter-widgets/base",
          "model_name": "LayoutModel",
          "model_module_version": "1.2.0",
          "state": {
            "_model_module": "@jupyter-widgets/base",
            "_model_module_version": "1.2.0",
            "_model_name": "LayoutModel",
            "_view_count": null,
            "_view_module": "@jupyter-widgets/base",
            "_view_module_version": "1.2.0",
            "_view_name": "LayoutView",
            "align_content": null,
            "align_items": null,
            "align_self": null,
            "border": null,
            "bottom": null,
            "display": null,
            "flex": null,
            "flex_flow": null,
            "grid_area": null,
            "grid_auto_columns": null,
            "grid_auto_flow": null,
            "grid_auto_rows": null,
            "grid_column": null,
            "grid_gap": null,
            "grid_row": null,
            "grid_template_areas": null,
            "grid_template_columns": null,
            "grid_template_rows": null,
            "height": null,
            "justify_content": null,
            "justify_items": null,
            "left": null,
            "margin": null,
            "max_height": null,
            "max_width": null,
            "min_height": null,
            "min_width": null,
            "object_fit": null,
            "object_position": null,
            "order": null,
            "overflow": null,
            "overflow_x": null,
            "overflow_y": null,
            "padding": null,
            "right": null,
            "top": null,
            "visibility": null,
            "width": null
          }
        },
        "9eadf762bc7e45a5ab091796590b4fd8": {
          "model_module": "@jupyter-widgets/controls",
          "model_name": "DescriptionStyleModel",
          "model_module_version": "1.5.0",
          "state": {
            "_model_module": "@jupyter-widgets/controls",
            "_model_module_version": "1.5.0",
            "_model_name": "DescriptionStyleModel",
            "_view_count": null,
            "_view_module": "@jupyter-widgets/base",
            "_view_module_version": "1.2.0",
            "_view_name": "StyleView",
            "description_width": ""
          }
        },
        "f2aed1a81c2842829f1980920c30c226": {
          "model_module": "@jupyter-widgets/base",
          "model_name": "LayoutModel",
          "model_module_version": "1.2.0",
          "state": {
            "_model_module": "@jupyter-widgets/base",
            "_model_module_version": "1.2.0",
            "_model_name": "LayoutModel",
            "_view_count": null,
            "_view_module": "@jupyter-widgets/base",
            "_view_module_version": "1.2.0",
            "_view_name": "LayoutView",
            "align_content": null,
            "align_items": null,
            "align_self": null,
            "border": null,
            "bottom": null,
            "display": null,
            "flex": null,
            "flex_flow": null,
            "grid_area": null,
            "grid_auto_columns": null,
            "grid_auto_flow": null,
            "grid_auto_rows": null,
            "grid_column": null,
            "grid_gap": null,
            "grid_row": null,
            "grid_template_areas": null,
            "grid_template_columns": null,
            "grid_template_rows": null,
            "height": null,
            "justify_content": null,
            "justify_items": null,
            "left": null,
            "margin": null,
            "max_height": null,
            "max_width": null,
            "min_height": null,
            "min_width": null,
            "object_fit": null,
            "object_position": null,
            "order": null,
            "overflow": null,
            "overflow_x": null,
            "overflow_y": null,
            "padding": null,
            "right": null,
            "top": null,
            "visibility": null,
            "width": null
          }
        },
        "6a787cab6d7b442fb7864825660cd684": {
          "model_module": "@jupyter-widgets/controls",
          "model_name": "ProgressStyleModel",
          "model_module_version": "1.5.0",
          "state": {
            "_model_module": "@jupyter-widgets/controls",
            "_model_module_version": "1.5.0",
            "_model_name": "ProgressStyleModel",
            "_view_count": null,
            "_view_module": "@jupyter-widgets/base",
            "_view_module_version": "1.2.0",
            "_view_name": "StyleView",
            "bar_color": null,
            "description_width": ""
          }
        },
        "af12268a10e04411ba934f5959b9d5f9": {
          "model_module": "@jupyter-widgets/base",
          "model_name": "LayoutModel",
          "model_module_version": "1.2.0",
          "state": {
            "_model_module": "@jupyter-widgets/base",
            "_model_module_version": "1.2.0",
            "_model_name": "LayoutModel",
            "_view_count": null,
            "_view_module": "@jupyter-widgets/base",
            "_view_module_version": "1.2.0",
            "_view_name": "LayoutView",
            "align_content": null,
            "align_items": null,
            "align_self": null,
            "border": null,
            "bottom": null,
            "display": null,
            "flex": null,
            "flex_flow": null,
            "grid_area": null,
            "grid_auto_columns": null,
            "grid_auto_flow": null,
            "grid_auto_rows": null,
            "grid_column": null,
            "grid_gap": null,
            "grid_row": null,
            "grid_template_areas": null,
            "grid_template_columns": null,
            "grid_template_rows": null,
            "height": null,
            "justify_content": null,
            "justify_items": null,
            "left": null,
            "margin": null,
            "max_height": null,
            "max_width": null,
            "min_height": null,
            "min_width": null,
            "object_fit": null,
            "object_position": null,
            "order": null,
            "overflow": null,
            "overflow_x": null,
            "overflow_y": null,
            "padding": null,
            "right": null,
            "top": null,
            "visibility": null,
            "width": null
          }
        },
        "fd7acce03f1646be914f2a8ab68df7c6": {
          "model_module": "@jupyter-widgets/controls",
          "model_name": "DescriptionStyleModel",
          "model_module_version": "1.5.0",
          "state": {
            "_model_module": "@jupyter-widgets/controls",
            "_model_module_version": "1.5.0",
            "_model_name": "DescriptionStyleModel",
            "_view_count": null,
            "_view_module": "@jupyter-widgets/base",
            "_view_module_version": "1.2.0",
            "_view_name": "StyleView",
            "description_width": ""
          }
        },
        "c438467ddd4446ebaf8076af1526615b": {
          "model_module": "@jupyter-widgets/controls",
          "model_name": "HBoxModel",
          "model_module_version": "1.5.0",
          "state": {
            "_dom_classes": [],
            "_model_module": "@jupyter-widgets/controls",
            "_model_module_version": "1.5.0",
            "_model_name": "HBoxModel",
            "_view_count": null,
            "_view_module": "@jupyter-widgets/controls",
            "_view_module_version": "1.5.0",
            "_view_name": "HBoxView",
            "box_style": "",
            "children": [
              "IPY_MODEL_2ea76dee106b4ef0a00cb75dd7953980",
              "IPY_MODEL_763ae6d4a83b4a34919cac49ea32b8ef",
              "IPY_MODEL_7c74c47e5f594f28b172487f864a2630"
            ],
            "layout": "IPY_MODEL_52d34cd13e4d40c185058e62eb6cacaf"
          }
        },
        "2ea76dee106b4ef0a00cb75dd7953980": {
          "model_module": "@jupyter-widgets/controls",
          "model_name": "HTMLModel",
          "model_module_version": "1.5.0",
          "state": {
            "_dom_classes": [],
            "_model_module": "@jupyter-widgets/controls",
            "_model_module_version": "1.5.0",
            "_model_name": "HTMLModel",
            "_view_count": null,
            "_view_module": "@jupyter-widgets/controls",
            "_view_module_version": "1.5.0",
            "_view_name": "HTMLView",
            "description": "",
            "description_tooltip": null,
            "layout": "IPY_MODEL_ff1fcbe945e7498e83a883b4b17e929c",
            "placeholder": "​",
            "style": "IPY_MODEL_6f087a19c7374318b0701eb0758f67c5",
            "value": "1_Pooling/config.json: 100%"
          }
        },
        "763ae6d4a83b4a34919cac49ea32b8ef": {
          "model_module": "@jupyter-widgets/controls",
          "model_name": "FloatProgressModel",
          "model_module_version": "1.5.0",
          "state": {
            "_dom_classes": [],
            "_model_module": "@jupyter-widgets/controls",
            "_model_module_version": "1.5.0",
            "_model_name": "FloatProgressModel",
            "_view_count": null,
            "_view_module": "@jupyter-widgets/controls",
            "_view_module_version": "1.5.0",
            "_view_name": "ProgressView",
            "bar_style": "success",
            "description": "",
            "description_tooltip": null,
            "layout": "IPY_MODEL_9ef2fc7a590d4af9b8313aebc1307766",
            "max": 190,
            "min": 0,
            "orientation": "horizontal",
            "style": "IPY_MODEL_aae5c8b5bfd5468290258bebaae4ca3b",
            "value": 190
          }
        },
        "7c74c47e5f594f28b172487f864a2630": {
          "model_module": "@jupyter-widgets/controls",
          "model_name": "HTMLModel",
          "model_module_version": "1.5.0",
          "state": {
            "_dom_classes": [],
            "_model_module": "@jupyter-widgets/controls",
            "_model_module_version": "1.5.0",
            "_model_name": "HTMLModel",
            "_view_count": null,
            "_view_module": "@jupyter-widgets/controls",
            "_view_module_version": "1.5.0",
            "_view_name": "HTMLView",
            "description": "",
            "description_tooltip": null,
            "layout": "IPY_MODEL_fa483f64976843ce9dc8d59d00ff7372",
            "placeholder": "​",
            "style": "IPY_MODEL_dbf2534c4e6c4c3bbe9b111813b26837",
            "value": " 190/190 [00:00&lt;00:00, 8.61kB/s]"
          }
        },
        "52d34cd13e4d40c185058e62eb6cacaf": {
          "model_module": "@jupyter-widgets/base",
          "model_name": "LayoutModel",
          "model_module_version": "1.2.0",
          "state": {
            "_model_module": "@jupyter-widgets/base",
            "_model_module_version": "1.2.0",
            "_model_name": "LayoutModel",
            "_view_count": null,
            "_view_module": "@jupyter-widgets/base",
            "_view_module_version": "1.2.0",
            "_view_name": "LayoutView",
            "align_content": null,
            "align_items": null,
            "align_self": null,
            "border": null,
            "bottom": null,
            "display": null,
            "flex": null,
            "flex_flow": null,
            "grid_area": null,
            "grid_auto_columns": null,
            "grid_auto_flow": null,
            "grid_auto_rows": null,
            "grid_column": null,
            "grid_gap": null,
            "grid_row": null,
            "grid_template_areas": null,
            "grid_template_columns": null,
            "grid_template_rows": null,
            "height": null,
            "justify_content": null,
            "justify_items": null,
            "left": null,
            "margin": null,
            "max_height": null,
            "max_width": null,
            "min_height": null,
            "min_width": null,
            "object_fit": null,
            "object_position": null,
            "order": null,
            "overflow": null,
            "overflow_x": null,
            "overflow_y": null,
            "padding": null,
            "right": null,
            "top": null,
            "visibility": null,
            "width": null
          }
        },
        "ff1fcbe945e7498e83a883b4b17e929c": {
          "model_module": "@jupyter-widgets/base",
          "model_name": "LayoutModel",
          "model_module_version": "1.2.0",
          "state": {
            "_model_module": "@jupyter-widgets/base",
            "_model_module_version": "1.2.0",
            "_model_name": "LayoutModel",
            "_view_count": null,
            "_view_module": "@jupyter-widgets/base",
            "_view_module_version": "1.2.0",
            "_view_name": "LayoutView",
            "align_content": null,
            "align_items": null,
            "align_self": null,
            "border": null,
            "bottom": null,
            "display": null,
            "flex": null,
            "flex_flow": null,
            "grid_area": null,
            "grid_auto_columns": null,
            "grid_auto_flow": null,
            "grid_auto_rows": null,
            "grid_column": null,
            "grid_gap": null,
            "grid_row": null,
            "grid_template_areas": null,
            "grid_template_columns": null,
            "grid_template_rows": null,
            "height": null,
            "justify_content": null,
            "justify_items": null,
            "left": null,
            "margin": null,
            "max_height": null,
            "max_width": null,
            "min_height": null,
            "min_width": null,
            "object_fit": null,
            "object_position": null,
            "order": null,
            "overflow": null,
            "overflow_x": null,
            "overflow_y": null,
            "padding": null,
            "right": null,
            "top": null,
            "visibility": null,
            "width": null
          }
        },
        "6f087a19c7374318b0701eb0758f67c5": {
          "model_module": "@jupyter-widgets/controls",
          "model_name": "DescriptionStyleModel",
          "model_module_version": "1.5.0",
          "state": {
            "_model_module": "@jupyter-widgets/controls",
            "_model_module_version": "1.5.0",
            "_model_name": "DescriptionStyleModel",
            "_view_count": null,
            "_view_module": "@jupyter-widgets/base",
            "_view_module_version": "1.2.0",
            "_view_name": "StyleView",
            "description_width": ""
          }
        },
        "9ef2fc7a590d4af9b8313aebc1307766": {
          "model_module": "@jupyter-widgets/base",
          "model_name": "LayoutModel",
          "model_module_version": "1.2.0",
          "state": {
            "_model_module": "@jupyter-widgets/base",
            "_model_module_version": "1.2.0",
            "_model_name": "LayoutModel",
            "_view_count": null,
            "_view_module": "@jupyter-widgets/base",
            "_view_module_version": "1.2.0",
            "_view_name": "LayoutView",
            "align_content": null,
            "align_items": null,
            "align_self": null,
            "border": null,
            "bottom": null,
            "display": null,
            "flex": null,
            "flex_flow": null,
            "grid_area": null,
            "grid_auto_columns": null,
            "grid_auto_flow": null,
            "grid_auto_rows": null,
            "grid_column": null,
            "grid_gap": null,
            "grid_row": null,
            "grid_template_areas": null,
            "grid_template_columns": null,
            "grid_template_rows": null,
            "height": null,
            "justify_content": null,
            "justify_items": null,
            "left": null,
            "margin": null,
            "max_height": null,
            "max_width": null,
            "min_height": null,
            "min_width": null,
            "object_fit": null,
            "object_position": null,
            "order": null,
            "overflow": null,
            "overflow_x": null,
            "overflow_y": null,
            "padding": null,
            "right": null,
            "top": null,
            "visibility": null,
            "width": null
          }
        },
        "aae5c8b5bfd5468290258bebaae4ca3b": {
          "model_module": "@jupyter-widgets/controls",
          "model_name": "ProgressStyleModel",
          "model_module_version": "1.5.0",
          "state": {
            "_model_module": "@jupyter-widgets/controls",
            "_model_module_version": "1.5.0",
            "_model_name": "ProgressStyleModel",
            "_view_count": null,
            "_view_module": "@jupyter-widgets/base",
            "_view_module_version": "1.2.0",
            "_view_name": "StyleView",
            "bar_color": null,
            "description_width": ""
          }
        },
        "fa483f64976843ce9dc8d59d00ff7372": {
          "model_module": "@jupyter-widgets/base",
          "model_name": "LayoutModel",
          "model_module_version": "1.2.0",
          "state": {
            "_model_module": "@jupyter-widgets/base",
            "_model_module_version": "1.2.0",
            "_model_name": "LayoutModel",
            "_view_count": null,
            "_view_module": "@jupyter-widgets/base",
            "_view_module_version": "1.2.0",
            "_view_name": "LayoutView",
            "align_content": null,
            "align_items": null,
            "align_self": null,
            "border": null,
            "bottom": null,
            "display": null,
            "flex": null,
            "flex_flow": null,
            "grid_area": null,
            "grid_auto_columns": null,
            "grid_auto_flow": null,
            "grid_auto_rows": null,
            "grid_column": null,
            "grid_gap": null,
            "grid_row": null,
            "grid_template_areas": null,
            "grid_template_columns": null,
            "grid_template_rows": null,
            "height": null,
            "justify_content": null,
            "justify_items": null,
            "left": null,
            "margin": null,
            "max_height": null,
            "max_width": null,
            "min_height": null,
            "min_width": null,
            "object_fit": null,
            "object_position": null,
            "order": null,
            "overflow": null,
            "overflow_x": null,
            "overflow_y": null,
            "padding": null,
            "right": null,
            "top": null,
            "visibility": null,
            "width": null
          }
        },
        "dbf2534c4e6c4c3bbe9b111813b26837": {
          "model_module": "@jupyter-widgets/controls",
          "model_name": "DescriptionStyleModel",
          "model_module_version": "1.5.0",
          "state": {
            "_model_module": "@jupyter-widgets/controls",
            "_model_module_version": "1.5.0",
            "_model_name": "DescriptionStyleModel",
            "_view_count": null,
            "_view_module": "@jupyter-widgets/base",
            "_view_module_version": "1.2.0",
            "_view_name": "StyleView",
            "description_width": ""
          }
        },
        "50a4a73d1d6348b8a6b6a967b9f2812c": {
          "model_module": "@jupyter-widgets/controls",
          "model_name": "HBoxModel",
          "model_module_version": "1.5.0",
          "state": {
            "_dom_classes": [],
            "_model_module": "@jupyter-widgets/controls",
            "_model_module_version": "1.5.0",
            "_model_name": "HBoxModel",
            "_view_count": null,
            "_view_module": "@jupyter-widgets/controls",
            "_view_module_version": "1.5.0",
            "_view_name": "HBoxView",
            "box_style": "",
            "children": [
              "IPY_MODEL_54fe6db26387443c93e983cb28a6e28d",
              "IPY_MODEL_2094b2c2f9b044bc98c441869ad74ab5",
              "IPY_MODEL_f5db0988821c42ae937e2a5a646c9937"
            ],
            "layout": "IPY_MODEL_0f0c2c8a588f43459f6f0c89bd998108"
          }
        },
        "54fe6db26387443c93e983cb28a6e28d": {
          "model_module": "@jupyter-widgets/controls",
          "model_name": "HTMLModel",
          "model_module_version": "1.5.0",
          "state": {
            "_dom_classes": [],
            "_model_module": "@jupyter-widgets/controls",
            "_model_module_version": "1.5.0",
            "_model_name": "HTMLModel",
            "_view_count": null,
            "_view_module": "@jupyter-widgets/controls",
            "_view_module_version": "1.5.0",
            "_view_name": "HTMLView",
            "description": "",
            "description_tooltip": null,
            "layout": "IPY_MODEL_56412abbc5f242d7b9f6f26d57c807fe",
            "placeholder": "​",
            "style": "IPY_MODEL_71dd9af56ccc48edb750f4655278a41d",
            "value": "tokenizer_config.json: 100%"
          }
        },
        "2094b2c2f9b044bc98c441869ad74ab5": {
          "model_module": "@jupyter-widgets/controls",
          "model_name": "FloatProgressModel",
          "model_module_version": "1.5.0",
          "state": {
            "_dom_classes": [],
            "_model_module": "@jupyter-widgets/controls",
            "_model_module_version": "1.5.0",
            "_model_name": "FloatProgressModel",
            "_view_count": null,
            "_view_module": "@jupyter-widgets/controls",
            "_view_module_version": "1.5.0",
            "_view_name": "ProgressView",
            "bar_style": "success",
            "description": "",
            "description_tooltip": null,
            "layout": "IPY_MODEL_243acbfbed7847bb85833ee518552050",
            "max": 48,
            "min": 0,
            "orientation": "horizontal",
            "style": "IPY_MODEL_1db478c7af4e43be999a6824d2668e48",
            "value": 48
          }
        },
        "f5db0988821c42ae937e2a5a646c9937": {
          "model_module": "@jupyter-widgets/controls",
          "model_name": "HTMLModel",
          "model_module_version": "1.5.0",
          "state": {
            "_dom_classes": [],
            "_model_module": "@jupyter-widgets/controls",
            "_model_module_version": "1.5.0",
            "_model_name": "HTMLModel",
            "_view_count": null,
            "_view_module": "@jupyter-widgets/controls",
            "_view_module_version": "1.5.0",
            "_view_name": "HTMLView",
            "description": "",
            "description_tooltip": null,
            "layout": "IPY_MODEL_65c36ddf0e104d01a3119524860f923c",
            "placeholder": "​",
            "style": "IPY_MODEL_23cb05438ccd44dc8f91ccfb141efd3c",
            "value": " 48.0/48.0 [00:00&lt;00:00, 1.15kB/s]"
          }
        },
        "0f0c2c8a588f43459f6f0c89bd998108": {
          "model_module": "@jupyter-widgets/base",
          "model_name": "LayoutModel",
          "model_module_version": "1.2.0",
          "state": {
            "_model_module": "@jupyter-widgets/base",
            "_model_module_version": "1.2.0",
            "_model_name": "LayoutModel",
            "_view_count": null,
            "_view_module": "@jupyter-widgets/base",
            "_view_module_version": "1.2.0",
            "_view_name": "LayoutView",
            "align_content": null,
            "align_items": null,
            "align_self": null,
            "border": null,
            "bottom": null,
            "display": null,
            "flex": null,
            "flex_flow": null,
            "grid_area": null,
            "grid_auto_columns": null,
            "grid_auto_flow": null,
            "grid_auto_rows": null,
            "grid_column": null,
            "grid_gap": null,
            "grid_row": null,
            "grid_template_areas": null,
            "grid_template_columns": null,
            "grid_template_rows": null,
            "height": null,
            "justify_content": null,
            "justify_items": null,
            "left": null,
            "margin": null,
            "max_height": null,
            "max_width": null,
            "min_height": null,
            "min_width": null,
            "object_fit": null,
            "object_position": null,
            "order": null,
            "overflow": null,
            "overflow_x": null,
            "overflow_y": null,
            "padding": null,
            "right": null,
            "top": null,
            "visibility": null,
            "width": null
          }
        },
        "56412abbc5f242d7b9f6f26d57c807fe": {
          "model_module": "@jupyter-widgets/base",
          "model_name": "LayoutModel",
          "model_module_version": "1.2.0",
          "state": {
            "_model_module": "@jupyter-widgets/base",
            "_model_module_version": "1.2.0",
            "_model_name": "LayoutModel",
            "_view_count": null,
            "_view_module": "@jupyter-widgets/base",
            "_view_module_version": "1.2.0",
            "_view_name": "LayoutView",
            "align_content": null,
            "align_items": null,
            "align_self": null,
            "border": null,
            "bottom": null,
            "display": null,
            "flex": null,
            "flex_flow": null,
            "grid_area": null,
            "grid_auto_columns": null,
            "grid_auto_flow": null,
            "grid_auto_rows": null,
            "grid_column": null,
            "grid_gap": null,
            "grid_row": null,
            "grid_template_areas": null,
            "grid_template_columns": null,
            "grid_template_rows": null,
            "height": null,
            "justify_content": null,
            "justify_items": null,
            "left": null,
            "margin": null,
            "max_height": null,
            "max_width": null,
            "min_height": null,
            "min_width": null,
            "object_fit": null,
            "object_position": null,
            "order": null,
            "overflow": null,
            "overflow_x": null,
            "overflow_y": null,
            "padding": null,
            "right": null,
            "top": null,
            "visibility": null,
            "width": null
          }
        },
        "71dd9af56ccc48edb750f4655278a41d": {
          "model_module": "@jupyter-widgets/controls",
          "model_name": "DescriptionStyleModel",
          "model_module_version": "1.5.0",
          "state": {
            "_model_module": "@jupyter-widgets/controls",
            "_model_module_version": "1.5.0",
            "_model_name": "DescriptionStyleModel",
            "_view_count": null,
            "_view_module": "@jupyter-widgets/base",
            "_view_module_version": "1.2.0",
            "_view_name": "StyleView",
            "description_width": ""
          }
        },
        "243acbfbed7847bb85833ee518552050": {
          "model_module": "@jupyter-widgets/base",
          "model_name": "LayoutModel",
          "model_module_version": "1.2.0",
          "state": {
            "_model_module": "@jupyter-widgets/base",
            "_model_module_version": "1.2.0",
            "_model_name": "LayoutModel",
            "_view_count": null,
            "_view_module": "@jupyter-widgets/base",
            "_view_module_version": "1.2.0",
            "_view_name": "LayoutView",
            "align_content": null,
            "align_items": null,
            "align_self": null,
            "border": null,
            "bottom": null,
            "display": null,
            "flex": null,
            "flex_flow": null,
            "grid_area": null,
            "grid_auto_columns": null,
            "grid_auto_flow": null,
            "grid_auto_rows": null,
            "grid_column": null,
            "grid_gap": null,
            "grid_row": null,
            "grid_template_areas": null,
            "grid_template_columns": null,
            "grid_template_rows": null,
            "height": null,
            "justify_content": null,
            "justify_items": null,
            "left": null,
            "margin": null,
            "max_height": null,
            "max_width": null,
            "min_height": null,
            "min_width": null,
            "object_fit": null,
            "object_position": null,
            "order": null,
            "overflow": null,
            "overflow_x": null,
            "overflow_y": null,
            "padding": null,
            "right": null,
            "top": null,
            "visibility": null,
            "width": null
          }
        },
        "1db478c7af4e43be999a6824d2668e48": {
          "model_module": "@jupyter-widgets/controls",
          "model_name": "ProgressStyleModel",
          "model_module_version": "1.5.0",
          "state": {
            "_model_module": "@jupyter-widgets/controls",
            "_model_module_version": "1.5.0",
            "_model_name": "ProgressStyleModel",
            "_view_count": null,
            "_view_module": "@jupyter-widgets/base",
            "_view_module_version": "1.2.0",
            "_view_name": "StyleView",
            "bar_color": null,
            "description_width": ""
          }
        },
        "65c36ddf0e104d01a3119524860f923c": {
          "model_module": "@jupyter-widgets/base",
          "model_name": "LayoutModel",
          "model_module_version": "1.2.0",
          "state": {
            "_model_module": "@jupyter-widgets/base",
            "_model_module_version": "1.2.0",
            "_model_name": "LayoutModel",
            "_view_count": null,
            "_view_module": "@jupyter-widgets/base",
            "_view_module_version": "1.2.0",
            "_view_name": "LayoutView",
            "align_content": null,
            "align_items": null,
            "align_self": null,
            "border": null,
            "bottom": null,
            "display": null,
            "flex": null,
            "flex_flow": null,
            "grid_area": null,
            "grid_auto_columns": null,
            "grid_auto_flow": null,
            "grid_auto_rows": null,
            "grid_column": null,
            "grid_gap": null,
            "grid_row": null,
            "grid_template_areas": null,
            "grid_template_columns": null,
            "grid_template_rows": null,
            "height": null,
            "justify_content": null,
            "justify_items": null,
            "left": null,
            "margin": null,
            "max_height": null,
            "max_width": null,
            "min_height": null,
            "min_width": null,
            "object_fit": null,
            "object_position": null,
            "order": null,
            "overflow": null,
            "overflow_x": null,
            "overflow_y": null,
            "padding": null,
            "right": null,
            "top": null,
            "visibility": null,
            "width": null
          }
        },
        "23cb05438ccd44dc8f91ccfb141efd3c": {
          "model_module": "@jupyter-widgets/controls",
          "model_name": "DescriptionStyleModel",
          "model_module_version": "1.5.0",
          "state": {
            "_model_module": "@jupyter-widgets/controls",
            "_model_module_version": "1.5.0",
            "_model_name": "DescriptionStyleModel",
            "_view_count": null,
            "_view_module": "@jupyter-widgets/base",
            "_view_module_version": "1.2.0",
            "_view_name": "StyleView",
            "description_width": ""
          }
        },
        "c985b653a09d4021a40125c27b7c0a00": {
          "model_module": "@jupyter-widgets/controls",
          "model_name": "HBoxModel",
          "model_module_version": "1.5.0",
          "state": {
            "_dom_classes": [],
            "_model_module": "@jupyter-widgets/controls",
            "_model_module_version": "1.5.0",
            "_model_name": "HBoxModel",
            "_view_count": null,
            "_view_module": "@jupyter-widgets/controls",
            "_view_module_version": "1.5.0",
            "_view_name": "HBoxView",
            "box_style": "",
            "children": [
              "IPY_MODEL_a5aaead8aab84906abc05795fb70f678",
              "IPY_MODEL_93b93489c3924ab4900dad8f5219b90c",
              "IPY_MODEL_6451dc75a04642a9859e25ae261e688d"
            ],
            "layout": "IPY_MODEL_a3f77e8faeb84d57b8b2ed20bf84421f"
          }
        },
        "a5aaead8aab84906abc05795fb70f678": {
          "model_module": "@jupyter-widgets/controls",
          "model_name": "HTMLModel",
          "model_module_version": "1.5.0",
          "state": {
            "_dom_classes": [],
            "_model_module": "@jupyter-widgets/controls",
            "_model_module_version": "1.5.0",
            "_model_name": "HTMLModel",
            "_view_count": null,
            "_view_module": "@jupyter-widgets/controls",
            "_view_module_version": "1.5.0",
            "_view_name": "HTMLView",
            "description": "",
            "description_tooltip": null,
            "layout": "IPY_MODEL_f9546cd93c7f4ed0aacb2456432952f7",
            "placeholder": "​",
            "style": "IPY_MODEL_1a87f764f5dd44d794319d298ef7b1ce",
            "value": "config.json: 100%"
          }
        },
        "93b93489c3924ab4900dad8f5219b90c": {
          "model_module": "@jupyter-widgets/controls",
          "model_name": "FloatProgressModel",
          "model_module_version": "1.5.0",
          "state": {
            "_dom_classes": [],
            "_model_module": "@jupyter-widgets/controls",
            "_model_module_version": "1.5.0",
            "_model_name": "FloatProgressModel",
            "_view_count": null,
            "_view_module": "@jupyter-widgets/controls",
            "_view_module_version": "1.5.0",
            "_view_name": "ProgressView",
            "bar_style": "success",
            "description": "",
            "description_tooltip": null,
            "layout": "IPY_MODEL_0482bc83d8f54ec1b6be994f3af7e88b",
            "max": 570,
            "min": 0,
            "orientation": "horizontal",
            "style": "IPY_MODEL_f27eea66410f4e7cbecac9a559ff5781",
            "value": 570
          }
        },
        "6451dc75a04642a9859e25ae261e688d": {
          "model_module": "@jupyter-widgets/controls",
          "model_name": "HTMLModel",
          "model_module_version": "1.5.0",
          "state": {
            "_dom_classes": [],
            "_model_module": "@jupyter-widgets/controls",
            "_model_module_version": "1.5.0",
            "_model_name": "HTMLModel",
            "_view_count": null,
            "_view_module": "@jupyter-widgets/controls",
            "_view_module_version": "1.5.0",
            "_view_name": "HTMLView",
            "description": "",
            "description_tooltip": null,
            "layout": "IPY_MODEL_e67c29b2c20b4fdfb524b598028f470c",
            "placeholder": "​",
            "style": "IPY_MODEL_9e3c8028cca1409682fc9b2da8843cfc",
            "value": " 570/570 [00:00&lt;00:00, 13.9kB/s]"
          }
        },
        "a3f77e8faeb84d57b8b2ed20bf84421f": {
          "model_module": "@jupyter-widgets/base",
          "model_name": "LayoutModel",
          "model_module_version": "1.2.0",
          "state": {
            "_model_module": "@jupyter-widgets/base",
            "_model_module_version": "1.2.0",
            "_model_name": "LayoutModel",
            "_view_count": null,
            "_view_module": "@jupyter-widgets/base",
            "_view_module_version": "1.2.0",
            "_view_name": "LayoutView",
            "align_content": null,
            "align_items": null,
            "align_self": null,
            "border": null,
            "bottom": null,
            "display": null,
            "flex": null,
            "flex_flow": null,
            "grid_area": null,
            "grid_auto_columns": null,
            "grid_auto_flow": null,
            "grid_auto_rows": null,
            "grid_column": null,
            "grid_gap": null,
            "grid_row": null,
            "grid_template_areas": null,
            "grid_template_columns": null,
            "grid_template_rows": null,
            "height": null,
            "justify_content": null,
            "justify_items": null,
            "left": null,
            "margin": null,
            "max_height": null,
            "max_width": null,
            "min_height": null,
            "min_width": null,
            "object_fit": null,
            "object_position": null,
            "order": null,
            "overflow": null,
            "overflow_x": null,
            "overflow_y": null,
            "padding": null,
            "right": null,
            "top": null,
            "visibility": null,
            "width": null
          }
        },
        "f9546cd93c7f4ed0aacb2456432952f7": {
          "model_module": "@jupyter-widgets/base",
          "model_name": "LayoutModel",
          "model_module_version": "1.2.0",
          "state": {
            "_model_module": "@jupyter-widgets/base",
            "_model_module_version": "1.2.0",
            "_model_name": "LayoutModel",
            "_view_count": null,
            "_view_module": "@jupyter-widgets/base",
            "_view_module_version": "1.2.0",
            "_view_name": "LayoutView",
            "align_content": null,
            "align_items": null,
            "align_self": null,
            "border": null,
            "bottom": null,
            "display": null,
            "flex": null,
            "flex_flow": null,
            "grid_area": null,
            "grid_auto_columns": null,
            "grid_auto_flow": null,
            "grid_auto_rows": null,
            "grid_column": null,
            "grid_gap": null,
            "grid_row": null,
            "grid_template_areas": null,
            "grid_template_columns": null,
            "grid_template_rows": null,
            "height": null,
            "justify_content": null,
            "justify_items": null,
            "left": null,
            "margin": null,
            "max_height": null,
            "max_width": null,
            "min_height": null,
            "min_width": null,
            "object_fit": null,
            "object_position": null,
            "order": null,
            "overflow": null,
            "overflow_x": null,
            "overflow_y": null,
            "padding": null,
            "right": null,
            "top": null,
            "visibility": null,
            "width": null
          }
        },
        "1a87f764f5dd44d794319d298ef7b1ce": {
          "model_module": "@jupyter-widgets/controls",
          "model_name": "DescriptionStyleModel",
          "model_module_version": "1.5.0",
          "state": {
            "_model_module": "@jupyter-widgets/controls",
            "_model_module_version": "1.5.0",
            "_model_name": "DescriptionStyleModel",
            "_view_count": null,
            "_view_module": "@jupyter-widgets/base",
            "_view_module_version": "1.2.0",
            "_view_name": "StyleView",
            "description_width": ""
          }
        },
        "0482bc83d8f54ec1b6be994f3af7e88b": {
          "model_module": "@jupyter-widgets/base",
          "model_name": "LayoutModel",
          "model_module_version": "1.2.0",
          "state": {
            "_model_module": "@jupyter-widgets/base",
            "_model_module_version": "1.2.0",
            "_model_name": "LayoutModel",
            "_view_count": null,
            "_view_module": "@jupyter-widgets/base",
            "_view_module_version": "1.2.0",
            "_view_name": "LayoutView",
            "align_content": null,
            "align_items": null,
            "align_self": null,
            "border": null,
            "bottom": null,
            "display": null,
            "flex": null,
            "flex_flow": null,
            "grid_area": null,
            "grid_auto_columns": null,
            "grid_auto_flow": null,
            "grid_auto_rows": null,
            "grid_column": null,
            "grid_gap": null,
            "grid_row": null,
            "grid_template_areas": null,
            "grid_template_columns": null,
            "grid_template_rows": null,
            "height": null,
            "justify_content": null,
            "justify_items": null,
            "left": null,
            "margin": null,
            "max_height": null,
            "max_width": null,
            "min_height": null,
            "min_width": null,
            "object_fit": null,
            "object_position": null,
            "order": null,
            "overflow": null,
            "overflow_x": null,
            "overflow_y": null,
            "padding": null,
            "right": null,
            "top": null,
            "visibility": null,
            "width": null
          }
        },
        "f27eea66410f4e7cbecac9a559ff5781": {
          "model_module": "@jupyter-widgets/controls",
          "model_name": "ProgressStyleModel",
          "model_module_version": "1.5.0",
          "state": {
            "_model_module": "@jupyter-widgets/controls",
            "_model_module_version": "1.5.0",
            "_model_name": "ProgressStyleModel",
            "_view_count": null,
            "_view_module": "@jupyter-widgets/base",
            "_view_module_version": "1.2.0",
            "_view_name": "StyleView",
            "bar_color": null,
            "description_width": ""
          }
        },
        "e67c29b2c20b4fdfb524b598028f470c": {
          "model_module": "@jupyter-widgets/base",
          "model_name": "LayoutModel",
          "model_module_version": "1.2.0",
          "state": {
            "_model_module": "@jupyter-widgets/base",
            "_model_module_version": "1.2.0",
            "_model_name": "LayoutModel",
            "_view_count": null,
            "_view_module": "@jupyter-widgets/base",
            "_view_module_version": "1.2.0",
            "_view_name": "LayoutView",
            "align_content": null,
            "align_items": null,
            "align_self": null,
            "border": null,
            "bottom": null,
            "display": null,
            "flex": null,
            "flex_flow": null,
            "grid_area": null,
            "grid_auto_columns": null,
            "grid_auto_flow": null,
            "grid_auto_rows": null,
            "grid_column": null,
            "grid_gap": null,
            "grid_row": null,
            "grid_template_areas": null,
            "grid_template_columns": null,
            "grid_template_rows": null,
            "height": null,
            "justify_content": null,
            "justify_items": null,
            "left": null,
            "margin": null,
            "max_height": null,
            "max_width": null,
            "min_height": null,
            "min_width": null,
            "object_fit": null,
            "object_position": null,
            "order": null,
            "overflow": null,
            "overflow_x": null,
            "overflow_y": null,
            "padding": null,
            "right": null,
            "top": null,
            "visibility": null,
            "width": null
          }
        },
        "9e3c8028cca1409682fc9b2da8843cfc": {
          "model_module": "@jupyter-widgets/controls",
          "model_name": "DescriptionStyleModel",
          "model_module_version": "1.5.0",
          "state": {
            "_model_module": "@jupyter-widgets/controls",
            "_model_module_version": "1.5.0",
            "_model_name": "DescriptionStyleModel",
            "_view_count": null,
            "_view_module": "@jupyter-widgets/base",
            "_view_module_version": "1.2.0",
            "_view_name": "StyleView",
            "description_width": ""
          }
        },
        "e9fa0ec7ecd24ffba73fb9dfad2e4877": {
          "model_module": "@jupyter-widgets/controls",
          "model_name": "HBoxModel",
          "model_module_version": "1.5.0",
          "state": {
            "_dom_classes": [],
            "_model_module": "@jupyter-widgets/controls",
            "_model_module_version": "1.5.0",
            "_model_name": "HBoxModel",
            "_view_count": null,
            "_view_module": "@jupyter-widgets/controls",
            "_view_module_version": "1.5.0",
            "_view_name": "HBoxView",
            "box_style": "",
            "children": [
              "IPY_MODEL_f762e227127a47cc9862db021115493c",
              "IPY_MODEL_2ca15ce37cd545c5a2ddb799176c92da",
              "IPY_MODEL_9c2be5a6ba41460eabbc739375e2e29d"
            ],
            "layout": "IPY_MODEL_7d4af6dc87444259b29409332aa9b047"
          }
        },
        "f762e227127a47cc9862db021115493c": {
          "model_module": "@jupyter-widgets/controls",
          "model_name": "HTMLModel",
          "model_module_version": "1.5.0",
          "state": {
            "_dom_classes": [],
            "_model_module": "@jupyter-widgets/controls",
            "_model_module_version": "1.5.0",
            "_model_name": "HTMLModel",
            "_view_count": null,
            "_view_module": "@jupyter-widgets/controls",
            "_view_module_version": "1.5.0",
            "_view_name": "HTMLView",
            "description": "",
            "description_tooltip": null,
            "layout": "IPY_MODEL_2f985a9ba9d043e490c86d6485a703fd",
            "placeholder": "​",
            "style": "IPY_MODEL_61fa8523dacf4a97a8d0b8a63c58eca2",
            "value": "vocab.txt: 100%"
          }
        },
        "2ca15ce37cd545c5a2ddb799176c92da": {
          "model_module": "@jupyter-widgets/controls",
          "model_name": "FloatProgressModel",
          "model_module_version": "1.5.0",
          "state": {
            "_dom_classes": [],
            "_model_module": "@jupyter-widgets/controls",
            "_model_module_version": "1.5.0",
            "_model_name": "FloatProgressModel",
            "_view_count": null,
            "_view_module": "@jupyter-widgets/controls",
            "_view_module_version": "1.5.0",
            "_view_name": "ProgressView",
            "bar_style": "success",
            "description": "",
            "description_tooltip": null,
            "layout": "IPY_MODEL_6c5ae6fe14424762b78e09952552cb3e",
            "max": 231508,
            "min": 0,
            "orientation": "horizontal",
            "style": "IPY_MODEL_4bba5e78e78240afa12d479979d9a385",
            "value": 231508
          }
        },
        "9c2be5a6ba41460eabbc739375e2e29d": {
          "model_module": "@jupyter-widgets/controls",
          "model_name": "HTMLModel",
          "model_module_version": "1.5.0",
          "state": {
            "_dom_classes": [],
            "_model_module": "@jupyter-widgets/controls",
            "_model_module_version": "1.5.0",
            "_model_name": "HTMLModel",
            "_view_count": null,
            "_view_module": "@jupyter-widgets/controls",
            "_view_module_version": "1.5.0",
            "_view_name": "HTMLView",
            "description": "",
            "description_tooltip": null,
            "layout": "IPY_MODEL_bd44a742d6db491c8af0f9fc5aeb0fcc",
            "placeholder": "​",
            "style": "IPY_MODEL_75dd6229d21441fb9283ee4255c9f7ec",
            "value": " 232k/232k [00:00&lt;00:00, 4.09MB/s]"
          }
        },
        "7d4af6dc87444259b29409332aa9b047": {
          "model_module": "@jupyter-widgets/base",
          "model_name": "LayoutModel",
          "model_module_version": "1.2.0",
          "state": {
            "_model_module": "@jupyter-widgets/base",
            "_model_module_version": "1.2.0",
            "_model_name": "LayoutModel",
            "_view_count": null,
            "_view_module": "@jupyter-widgets/base",
            "_view_module_version": "1.2.0",
            "_view_name": "LayoutView",
            "align_content": null,
            "align_items": null,
            "align_self": null,
            "border": null,
            "bottom": null,
            "display": null,
            "flex": null,
            "flex_flow": null,
            "grid_area": null,
            "grid_auto_columns": null,
            "grid_auto_flow": null,
            "grid_auto_rows": null,
            "grid_column": null,
            "grid_gap": null,
            "grid_row": null,
            "grid_template_areas": null,
            "grid_template_columns": null,
            "grid_template_rows": null,
            "height": null,
            "justify_content": null,
            "justify_items": null,
            "left": null,
            "margin": null,
            "max_height": null,
            "max_width": null,
            "min_height": null,
            "min_width": null,
            "object_fit": null,
            "object_position": null,
            "order": null,
            "overflow": null,
            "overflow_x": null,
            "overflow_y": null,
            "padding": null,
            "right": null,
            "top": null,
            "visibility": null,
            "width": null
          }
        },
        "2f985a9ba9d043e490c86d6485a703fd": {
          "model_module": "@jupyter-widgets/base",
          "model_name": "LayoutModel",
          "model_module_version": "1.2.0",
          "state": {
            "_model_module": "@jupyter-widgets/base",
            "_model_module_version": "1.2.0",
            "_model_name": "LayoutModel",
            "_view_count": null,
            "_view_module": "@jupyter-widgets/base",
            "_view_module_version": "1.2.0",
            "_view_name": "LayoutView",
            "align_content": null,
            "align_items": null,
            "align_self": null,
            "border": null,
            "bottom": null,
            "display": null,
            "flex": null,
            "flex_flow": null,
            "grid_area": null,
            "grid_auto_columns": null,
            "grid_auto_flow": null,
            "grid_auto_rows": null,
            "grid_column": null,
            "grid_gap": null,
            "grid_row": null,
            "grid_template_areas": null,
            "grid_template_columns": null,
            "grid_template_rows": null,
            "height": null,
            "justify_content": null,
            "justify_items": null,
            "left": null,
            "margin": null,
            "max_height": null,
            "max_width": null,
            "min_height": null,
            "min_width": null,
            "object_fit": null,
            "object_position": null,
            "order": null,
            "overflow": null,
            "overflow_x": null,
            "overflow_y": null,
            "padding": null,
            "right": null,
            "top": null,
            "visibility": null,
            "width": null
          }
        },
        "61fa8523dacf4a97a8d0b8a63c58eca2": {
          "model_module": "@jupyter-widgets/controls",
          "model_name": "DescriptionStyleModel",
          "model_module_version": "1.5.0",
          "state": {
            "_model_module": "@jupyter-widgets/controls",
            "_model_module_version": "1.5.0",
            "_model_name": "DescriptionStyleModel",
            "_view_count": null,
            "_view_module": "@jupyter-widgets/base",
            "_view_module_version": "1.2.0",
            "_view_name": "StyleView",
            "description_width": ""
          }
        },
        "6c5ae6fe14424762b78e09952552cb3e": {
          "model_module": "@jupyter-widgets/base",
          "model_name": "LayoutModel",
          "model_module_version": "1.2.0",
          "state": {
            "_model_module": "@jupyter-widgets/base",
            "_model_module_version": "1.2.0",
            "_model_name": "LayoutModel",
            "_view_count": null,
            "_view_module": "@jupyter-widgets/base",
            "_view_module_version": "1.2.0",
            "_view_name": "LayoutView",
            "align_content": null,
            "align_items": null,
            "align_self": null,
            "border": null,
            "bottom": null,
            "display": null,
            "flex": null,
            "flex_flow": null,
            "grid_area": null,
            "grid_auto_columns": null,
            "grid_auto_flow": null,
            "grid_auto_rows": null,
            "grid_column": null,
            "grid_gap": null,
            "grid_row": null,
            "grid_template_areas": null,
            "grid_template_columns": null,
            "grid_template_rows": null,
            "height": null,
            "justify_content": null,
            "justify_items": null,
            "left": null,
            "margin": null,
            "max_height": null,
            "max_width": null,
            "min_height": null,
            "min_width": null,
            "object_fit": null,
            "object_position": null,
            "order": null,
            "overflow": null,
            "overflow_x": null,
            "overflow_y": null,
            "padding": null,
            "right": null,
            "top": null,
            "visibility": null,
            "width": null
          }
        },
        "4bba5e78e78240afa12d479979d9a385": {
          "model_module": "@jupyter-widgets/controls",
          "model_name": "ProgressStyleModel",
          "model_module_version": "1.5.0",
          "state": {
            "_model_module": "@jupyter-widgets/controls",
            "_model_module_version": "1.5.0",
            "_model_name": "ProgressStyleModel",
            "_view_count": null,
            "_view_module": "@jupyter-widgets/base",
            "_view_module_version": "1.2.0",
            "_view_name": "StyleView",
            "bar_color": null,
            "description_width": ""
          }
        },
        "bd44a742d6db491c8af0f9fc5aeb0fcc": {
          "model_module": "@jupyter-widgets/base",
          "model_name": "LayoutModel",
          "model_module_version": "1.2.0",
          "state": {
            "_model_module": "@jupyter-widgets/base",
            "_model_module_version": "1.2.0",
            "_model_name": "LayoutModel",
            "_view_count": null,
            "_view_module": "@jupyter-widgets/base",
            "_view_module_version": "1.2.0",
            "_view_name": "LayoutView",
            "align_content": null,
            "align_items": null,
            "align_self": null,
            "border": null,
            "bottom": null,
            "display": null,
            "flex": null,
            "flex_flow": null,
            "grid_area": null,
            "grid_auto_columns": null,
            "grid_auto_flow": null,
            "grid_auto_rows": null,
            "grid_column": null,
            "grid_gap": null,
            "grid_row": null,
            "grid_template_areas": null,
            "grid_template_columns": null,
            "grid_template_rows": null,
            "height": null,
            "justify_content": null,
            "justify_items": null,
            "left": null,
            "margin": null,
            "max_height": null,
            "max_width": null,
            "min_height": null,
            "min_width": null,
            "object_fit": null,
            "object_position": null,
            "order": null,
            "overflow": null,
            "overflow_x": null,
            "overflow_y": null,
            "padding": null,
            "right": null,
            "top": null,
            "visibility": null,
            "width": null
          }
        },
        "75dd6229d21441fb9283ee4255c9f7ec": {
          "model_module": "@jupyter-widgets/controls",
          "model_name": "DescriptionStyleModel",
          "model_module_version": "1.5.0",
          "state": {
            "_model_module": "@jupyter-widgets/controls",
            "_model_module_version": "1.5.0",
            "_model_name": "DescriptionStyleModel",
            "_view_count": null,
            "_view_module": "@jupyter-widgets/base",
            "_view_module_version": "1.2.0",
            "_view_name": "StyleView",
            "description_width": ""
          }
        },
        "9c4a180e0e3743c686d4e4008e048b79": {
          "model_module": "@jupyter-widgets/controls",
          "model_name": "HBoxModel",
          "model_module_version": "1.5.0",
          "state": {
            "_dom_classes": [],
            "_model_module": "@jupyter-widgets/controls",
            "_model_module_version": "1.5.0",
            "_model_name": "HBoxModel",
            "_view_count": null,
            "_view_module": "@jupyter-widgets/controls",
            "_view_module_version": "1.5.0",
            "_view_name": "HBoxView",
            "box_style": "",
            "children": [
              "IPY_MODEL_850120da305049e4b5e22c4fa1b9be18",
              "IPY_MODEL_2795032f876f497a90f4c867eace1c55",
              "IPY_MODEL_a60d3eae9cce4e418c3c4dbf0dc0682f"
            ],
            "layout": "IPY_MODEL_ea34be8a3e5441e89357b565fc82846d"
          }
        },
        "850120da305049e4b5e22c4fa1b9be18": {
          "model_module": "@jupyter-widgets/controls",
          "model_name": "HTMLModel",
          "model_module_version": "1.5.0",
          "state": {
            "_dom_classes": [],
            "_model_module": "@jupyter-widgets/controls",
            "_model_module_version": "1.5.0",
            "_model_name": "HTMLModel",
            "_view_count": null,
            "_view_module": "@jupyter-widgets/controls",
            "_view_module_version": "1.5.0",
            "_view_name": "HTMLView",
            "description": "",
            "description_tooltip": null,
            "layout": "IPY_MODEL_f0b350c494ce4734a8c6b2a772e3bc0f",
            "placeholder": "​",
            "style": "IPY_MODEL_257d92925ba24c83acfcdc7ac5e9b7ba",
            "value": "tokenizer.json: 100%"
          }
        },
        "2795032f876f497a90f4c867eace1c55": {
          "model_module": "@jupyter-widgets/controls",
          "model_name": "FloatProgressModel",
          "model_module_version": "1.5.0",
          "state": {
            "_dom_classes": [],
            "_model_module": "@jupyter-widgets/controls",
            "_model_module_version": "1.5.0",
            "_model_name": "FloatProgressModel",
            "_view_count": null,
            "_view_module": "@jupyter-widgets/controls",
            "_view_module_version": "1.5.0",
            "_view_name": "ProgressView",
            "bar_style": "success",
            "description": "",
            "description_tooltip": null,
            "layout": "IPY_MODEL_8ed33798608d42098f044ef84e53764f",
            "max": 466062,
            "min": 0,
            "orientation": "horizontal",
            "style": "IPY_MODEL_cef2d7a447fc4348a77d285894cc5035",
            "value": 466062
          }
        },
        "a60d3eae9cce4e418c3c4dbf0dc0682f": {
          "model_module": "@jupyter-widgets/controls",
          "model_name": "HTMLModel",
          "model_module_version": "1.5.0",
          "state": {
            "_dom_classes": [],
            "_model_module": "@jupyter-widgets/controls",
            "_model_module_version": "1.5.0",
            "_model_name": "HTMLModel",
            "_view_count": null,
            "_view_module": "@jupyter-widgets/controls",
            "_view_module_version": "1.5.0",
            "_view_name": "HTMLView",
            "description": "",
            "description_tooltip": null,
            "layout": "IPY_MODEL_fd6c85afb1a8453dbafc300eb4558e80",
            "placeholder": "​",
            "style": "IPY_MODEL_ba19f9a30a834ad1917ec8211269e9b6",
            "value": " 466k/466k [00:00&lt;00:00, 7.23MB/s]"
          }
        },
        "ea34be8a3e5441e89357b565fc82846d": {
          "model_module": "@jupyter-widgets/base",
          "model_name": "LayoutModel",
          "model_module_version": "1.2.0",
          "state": {
            "_model_module": "@jupyter-widgets/base",
            "_model_module_version": "1.2.0",
            "_model_name": "LayoutModel",
            "_view_count": null,
            "_view_module": "@jupyter-widgets/base",
            "_view_module_version": "1.2.0",
            "_view_name": "LayoutView",
            "align_content": null,
            "align_items": null,
            "align_self": null,
            "border": null,
            "bottom": null,
            "display": null,
            "flex": null,
            "flex_flow": null,
            "grid_area": null,
            "grid_auto_columns": null,
            "grid_auto_flow": null,
            "grid_auto_rows": null,
            "grid_column": null,
            "grid_gap": null,
            "grid_row": null,
            "grid_template_areas": null,
            "grid_template_columns": null,
            "grid_template_rows": null,
            "height": null,
            "justify_content": null,
            "justify_items": null,
            "left": null,
            "margin": null,
            "max_height": null,
            "max_width": null,
            "min_height": null,
            "min_width": null,
            "object_fit": null,
            "object_position": null,
            "order": null,
            "overflow": null,
            "overflow_x": null,
            "overflow_y": null,
            "padding": null,
            "right": null,
            "top": null,
            "visibility": null,
            "width": null
          }
        },
        "f0b350c494ce4734a8c6b2a772e3bc0f": {
          "model_module": "@jupyter-widgets/base",
          "model_name": "LayoutModel",
          "model_module_version": "1.2.0",
          "state": {
            "_model_module": "@jupyter-widgets/base",
            "_model_module_version": "1.2.0",
            "_model_name": "LayoutModel",
            "_view_count": null,
            "_view_module": "@jupyter-widgets/base",
            "_view_module_version": "1.2.0",
            "_view_name": "LayoutView",
            "align_content": null,
            "align_items": null,
            "align_self": null,
            "border": null,
            "bottom": null,
            "display": null,
            "flex": null,
            "flex_flow": null,
            "grid_area": null,
            "grid_auto_columns": null,
            "grid_auto_flow": null,
            "grid_auto_rows": null,
            "grid_column": null,
            "grid_gap": null,
            "grid_row": null,
            "grid_template_areas": null,
            "grid_template_columns": null,
            "grid_template_rows": null,
            "height": null,
            "justify_content": null,
            "justify_items": null,
            "left": null,
            "margin": null,
            "max_height": null,
            "max_width": null,
            "min_height": null,
            "min_width": null,
            "object_fit": null,
            "object_position": null,
            "order": null,
            "overflow": null,
            "overflow_x": null,
            "overflow_y": null,
            "padding": null,
            "right": null,
            "top": null,
            "visibility": null,
            "width": null
          }
        },
        "257d92925ba24c83acfcdc7ac5e9b7ba": {
          "model_module": "@jupyter-widgets/controls",
          "model_name": "DescriptionStyleModel",
          "model_module_version": "1.5.0",
          "state": {
            "_model_module": "@jupyter-widgets/controls",
            "_model_module_version": "1.5.0",
            "_model_name": "DescriptionStyleModel",
            "_view_count": null,
            "_view_module": "@jupyter-widgets/base",
            "_view_module_version": "1.2.0",
            "_view_name": "StyleView",
            "description_width": ""
          }
        },
        "8ed33798608d42098f044ef84e53764f": {
          "model_module": "@jupyter-widgets/base",
          "model_name": "LayoutModel",
          "model_module_version": "1.2.0",
          "state": {
            "_model_module": "@jupyter-widgets/base",
            "_model_module_version": "1.2.0",
            "_model_name": "LayoutModel",
            "_view_count": null,
            "_view_module": "@jupyter-widgets/base",
            "_view_module_version": "1.2.0",
            "_view_name": "LayoutView",
            "align_content": null,
            "align_items": null,
            "align_self": null,
            "border": null,
            "bottom": null,
            "display": null,
            "flex": null,
            "flex_flow": null,
            "grid_area": null,
            "grid_auto_columns": null,
            "grid_auto_flow": null,
            "grid_auto_rows": null,
            "grid_column": null,
            "grid_gap": null,
            "grid_row": null,
            "grid_template_areas": null,
            "grid_template_columns": null,
            "grid_template_rows": null,
            "height": null,
            "justify_content": null,
            "justify_items": null,
            "left": null,
            "margin": null,
            "max_height": null,
            "max_width": null,
            "min_height": null,
            "min_width": null,
            "object_fit": null,
            "object_position": null,
            "order": null,
            "overflow": null,
            "overflow_x": null,
            "overflow_y": null,
            "padding": null,
            "right": null,
            "top": null,
            "visibility": null,
            "width": null
          }
        },
        "cef2d7a447fc4348a77d285894cc5035": {
          "model_module": "@jupyter-widgets/controls",
          "model_name": "ProgressStyleModel",
          "model_module_version": "1.5.0",
          "state": {
            "_model_module": "@jupyter-widgets/controls",
            "_model_module_version": "1.5.0",
            "_model_name": "ProgressStyleModel",
            "_view_count": null,
            "_view_module": "@jupyter-widgets/base",
            "_view_module_version": "1.2.0",
            "_view_name": "StyleView",
            "bar_color": null,
            "description_width": ""
          }
        },
        "fd6c85afb1a8453dbafc300eb4558e80": {
          "model_module": "@jupyter-widgets/base",
          "model_name": "LayoutModel",
          "model_module_version": "1.2.0",
          "state": {
            "_model_module": "@jupyter-widgets/base",
            "_model_module_version": "1.2.0",
            "_model_name": "LayoutModel",
            "_view_count": null,
            "_view_module": "@jupyter-widgets/base",
            "_view_module_version": "1.2.0",
            "_view_name": "LayoutView",
            "align_content": null,
            "align_items": null,
            "align_self": null,
            "border": null,
            "bottom": null,
            "display": null,
            "flex": null,
            "flex_flow": null,
            "grid_area": null,
            "grid_auto_columns": null,
            "grid_auto_flow": null,
            "grid_auto_rows": null,
            "grid_column": null,
            "grid_gap": null,
            "grid_row": null,
            "grid_template_areas": null,
            "grid_template_columns": null,
            "grid_template_rows": null,
            "height": null,
            "justify_content": null,
            "justify_items": null,
            "left": null,
            "margin": null,
            "max_height": null,
            "max_width": null,
            "min_height": null,
            "min_width": null,
            "object_fit": null,
            "object_position": null,
            "order": null,
            "overflow": null,
            "overflow_x": null,
            "overflow_y": null,
            "padding": null,
            "right": null,
            "top": null,
            "visibility": null,
            "width": null
          }
        },
        "ba19f9a30a834ad1917ec8211269e9b6": {
          "model_module": "@jupyter-widgets/controls",
          "model_name": "DescriptionStyleModel",
          "model_module_version": "1.5.0",
          "state": {
            "_model_module": "@jupyter-widgets/controls",
            "_model_module_version": "1.5.0",
            "_model_name": "DescriptionStyleModel",
            "_view_count": null,
            "_view_module": "@jupyter-widgets/base",
            "_view_module_version": "1.2.0",
            "_view_name": "StyleView",
            "description_width": ""
          }
        },
        "dc612da6ee8c4c2da2080d0f1ff51365": {
          "model_module": "@jupyter-widgets/controls",
          "model_name": "HBoxModel",
          "model_module_version": "1.5.0",
          "state": {
            "_dom_classes": [],
            "_model_module": "@jupyter-widgets/controls",
            "_model_module_version": "1.5.0",
            "_model_name": "HBoxModel",
            "_view_count": null,
            "_view_module": "@jupyter-widgets/controls",
            "_view_module_version": "1.5.0",
            "_view_name": "HBoxView",
            "box_style": "",
            "children": [
              "IPY_MODEL_8914fc3d858b4ab0ad0be25c1a8fb95c",
              "IPY_MODEL_94667dd8cd954092949dcbcffc1ef9ae",
              "IPY_MODEL_5031cf63e3e0477aa2d767cc86a52d44"
            ],
            "layout": "IPY_MODEL_6589c92216ee49438f95f6b6005fa6ae"
          }
        },
        "8914fc3d858b4ab0ad0be25c1a8fb95c": {
          "model_module": "@jupyter-widgets/controls",
          "model_name": "HTMLModel",
          "model_module_version": "1.5.0",
          "state": {
            "_dom_classes": [],
            "_model_module": "@jupyter-widgets/controls",
            "_model_module_version": "1.5.0",
            "_model_name": "HTMLModel",
            "_view_count": null,
            "_view_module": "@jupyter-widgets/controls",
            "_view_module_version": "1.5.0",
            "_view_name": "HTMLView",
            "description": "",
            "description_tooltip": null,
            "layout": "IPY_MODEL_9c7df745b3ea4157943f58cc23404aa8",
            "placeholder": "​",
            "style": "IPY_MODEL_be559d3fce29476b90ed3f8365fdb2c6",
            "value": "model.safetensors: 100%"
          }
        },
        "94667dd8cd954092949dcbcffc1ef9ae": {
          "model_module": "@jupyter-widgets/controls",
          "model_name": "FloatProgressModel",
          "model_module_version": "1.5.0",
          "state": {
            "_dom_classes": [],
            "_model_module": "@jupyter-widgets/controls",
            "_model_module_version": "1.5.0",
            "_model_name": "FloatProgressModel",
            "_view_count": null,
            "_view_module": "@jupyter-widgets/controls",
            "_view_module_version": "1.5.0",
            "_view_name": "ProgressView",
            "bar_style": "success",
            "description": "",
            "description_tooltip": null,
            "layout": "IPY_MODEL_d56e0a9a8db04920a1278d197f559074",
            "max": 440449768,
            "min": 0,
            "orientation": "horizontal",
            "style": "IPY_MODEL_1707388fde7d48119e4a906bc2d46739",
            "value": 440449768
          }
        },
        "5031cf63e3e0477aa2d767cc86a52d44": {
          "model_module": "@jupyter-widgets/controls",
          "model_name": "HTMLModel",
          "model_module_version": "1.5.0",
          "state": {
            "_dom_classes": [],
            "_model_module": "@jupyter-widgets/controls",
            "_model_module_version": "1.5.0",
            "_model_name": "HTMLModel",
            "_view_count": null,
            "_view_module": "@jupyter-widgets/controls",
            "_view_module_version": "1.5.0",
            "_view_name": "HTMLView",
            "description": "",
            "description_tooltip": null,
            "layout": "IPY_MODEL_639971696d0a4f69be3695cb1317a26c",
            "placeholder": "​",
            "style": "IPY_MODEL_3c6248f94bfe4c229dfd96605e1aa023",
            "value": " 440M/440M [00:07&lt;00:00, 24.0MB/s]"
          }
        },
        "6589c92216ee49438f95f6b6005fa6ae": {
          "model_module": "@jupyter-widgets/base",
          "model_name": "LayoutModel",
          "model_module_version": "1.2.0",
          "state": {
            "_model_module": "@jupyter-widgets/base",
            "_model_module_version": "1.2.0",
            "_model_name": "LayoutModel",
            "_view_count": null,
            "_view_module": "@jupyter-widgets/base",
            "_view_module_version": "1.2.0",
            "_view_name": "LayoutView",
            "align_content": null,
            "align_items": null,
            "align_self": null,
            "border": null,
            "bottom": null,
            "display": null,
            "flex": null,
            "flex_flow": null,
            "grid_area": null,
            "grid_auto_columns": null,
            "grid_auto_flow": null,
            "grid_auto_rows": null,
            "grid_column": null,
            "grid_gap": null,
            "grid_row": null,
            "grid_template_areas": null,
            "grid_template_columns": null,
            "grid_template_rows": null,
            "height": null,
            "justify_content": null,
            "justify_items": null,
            "left": null,
            "margin": null,
            "max_height": null,
            "max_width": null,
            "min_height": null,
            "min_width": null,
            "object_fit": null,
            "object_position": null,
            "order": null,
            "overflow": null,
            "overflow_x": null,
            "overflow_y": null,
            "padding": null,
            "right": null,
            "top": null,
            "visibility": null,
            "width": null
          }
        },
        "9c7df745b3ea4157943f58cc23404aa8": {
          "model_module": "@jupyter-widgets/base",
          "model_name": "LayoutModel",
          "model_module_version": "1.2.0",
          "state": {
            "_model_module": "@jupyter-widgets/base",
            "_model_module_version": "1.2.0",
            "_model_name": "LayoutModel",
            "_view_count": null,
            "_view_module": "@jupyter-widgets/base",
            "_view_module_version": "1.2.0",
            "_view_name": "LayoutView",
            "align_content": null,
            "align_items": null,
            "align_self": null,
            "border": null,
            "bottom": null,
            "display": null,
            "flex": null,
            "flex_flow": null,
            "grid_area": null,
            "grid_auto_columns": null,
            "grid_auto_flow": null,
            "grid_auto_rows": null,
            "grid_column": null,
            "grid_gap": null,
            "grid_row": null,
            "grid_template_areas": null,
            "grid_template_columns": null,
            "grid_template_rows": null,
            "height": null,
            "justify_content": null,
            "justify_items": null,
            "left": null,
            "margin": null,
            "max_height": null,
            "max_width": null,
            "min_height": null,
            "min_width": null,
            "object_fit": null,
            "object_position": null,
            "order": null,
            "overflow": null,
            "overflow_x": null,
            "overflow_y": null,
            "padding": null,
            "right": null,
            "top": null,
            "visibility": null,
            "width": null
          }
        },
        "be559d3fce29476b90ed3f8365fdb2c6": {
          "model_module": "@jupyter-widgets/controls",
          "model_name": "DescriptionStyleModel",
          "model_module_version": "1.5.0",
          "state": {
            "_model_module": "@jupyter-widgets/controls",
            "_model_module_version": "1.5.0",
            "_model_name": "DescriptionStyleModel",
            "_view_count": null,
            "_view_module": "@jupyter-widgets/base",
            "_view_module_version": "1.2.0",
            "_view_name": "StyleView",
            "description_width": ""
          }
        },
        "d56e0a9a8db04920a1278d197f559074": {
          "model_module": "@jupyter-widgets/base",
          "model_name": "LayoutModel",
          "model_module_version": "1.2.0",
          "state": {
            "_model_module": "@jupyter-widgets/base",
            "_model_module_version": "1.2.0",
            "_model_name": "LayoutModel",
            "_view_count": null,
            "_view_module": "@jupyter-widgets/base",
            "_view_module_version": "1.2.0",
            "_view_name": "LayoutView",
            "align_content": null,
            "align_items": null,
            "align_self": null,
            "border": null,
            "bottom": null,
            "display": null,
            "flex": null,
            "flex_flow": null,
            "grid_area": null,
            "grid_auto_columns": null,
            "grid_auto_flow": null,
            "grid_auto_rows": null,
            "grid_column": null,
            "grid_gap": null,
            "grid_row": null,
            "grid_template_areas": null,
            "grid_template_columns": null,
            "grid_template_rows": null,
            "height": null,
            "justify_content": null,
            "justify_items": null,
            "left": null,
            "margin": null,
            "max_height": null,
            "max_width": null,
            "min_height": null,
            "min_width": null,
            "object_fit": null,
            "object_position": null,
            "order": null,
            "overflow": null,
            "overflow_x": null,
            "overflow_y": null,
            "padding": null,
            "right": null,
            "top": null,
            "visibility": null,
            "width": null
          }
        },
        "1707388fde7d48119e4a906bc2d46739": {
          "model_module": "@jupyter-widgets/controls",
          "model_name": "ProgressStyleModel",
          "model_module_version": "1.5.0",
          "state": {
            "_model_module": "@jupyter-widgets/controls",
            "_model_module_version": "1.5.0",
            "_model_name": "ProgressStyleModel",
            "_view_count": null,
            "_view_module": "@jupyter-widgets/base",
            "_view_module_version": "1.2.0",
            "_view_name": "StyleView",
            "bar_color": null,
            "description_width": ""
          }
        },
        "639971696d0a4f69be3695cb1317a26c": {
          "model_module": "@jupyter-widgets/base",
          "model_name": "LayoutModel",
          "model_module_version": "1.2.0",
          "state": {
            "_model_module": "@jupyter-widgets/base",
            "_model_module_version": "1.2.0",
            "_model_name": "LayoutModel",
            "_view_count": null,
            "_view_module": "@jupyter-widgets/base",
            "_view_module_version": "1.2.0",
            "_view_name": "LayoutView",
            "align_content": null,
            "align_items": null,
            "align_self": null,
            "border": null,
            "bottom": null,
            "display": null,
            "flex": null,
            "flex_flow": null,
            "grid_area": null,
            "grid_auto_columns": null,
            "grid_auto_flow": null,
            "grid_auto_rows": null,
            "grid_column": null,
            "grid_gap": null,
            "grid_row": null,
            "grid_template_areas": null,
            "grid_template_columns": null,
            "grid_template_rows": null,
            "height": null,
            "justify_content": null,
            "justify_items": null,
            "left": null,
            "margin": null,
            "max_height": null,
            "max_width": null,
            "min_height": null,
            "min_width": null,
            "object_fit": null,
            "object_position": null,
            "order": null,
            "overflow": null,
            "overflow_x": null,
            "overflow_y": null,
            "padding": null,
            "right": null,
            "top": null,
            "visibility": null,
            "width": null
          }
        },
        "3c6248f94bfe4c229dfd96605e1aa023": {
          "model_module": "@jupyter-widgets/controls",
          "model_name": "DescriptionStyleModel",
          "model_module_version": "1.5.0",
          "state": {
            "_model_module": "@jupyter-widgets/controls",
            "_model_module_version": "1.5.0",
            "_model_name": "DescriptionStyleModel",
            "_view_count": null,
            "_view_module": "@jupyter-widgets/base",
            "_view_module_version": "1.2.0",
            "_view_name": "StyleView",
            "description_width": ""
          }
        },
        "77392af50bea4238aa6272f9ed0f858a": {
          "model_module": "@jupyter-widgets/controls",
          "model_name": "HBoxModel",
          "model_module_version": "1.5.0",
          "state": {
            "_dom_classes": [],
            "_model_module": "@jupyter-widgets/controls",
            "_model_module_version": "1.5.0",
            "_model_name": "HBoxModel",
            "_view_count": null,
            "_view_module": "@jupyter-widgets/controls",
            "_view_module_version": "1.5.0",
            "_view_name": "HBoxView",
            "box_style": "",
            "children": [
              "IPY_MODEL_55c450a87520437bb1c5f6c77264e732",
              "IPY_MODEL_75f07a6e53be4282a8f664a68a2a906a",
              "IPY_MODEL_5d6ec2145a214388a4885b208a23958a"
            ],
            "layout": "IPY_MODEL_2580e47d684643feaf9106d649a71b0b"
          }
        },
        "55c450a87520437bb1c5f6c77264e732": {
          "model_module": "@jupyter-widgets/controls",
          "model_name": "HTMLModel",
          "model_module_version": "1.5.0",
          "state": {
            "_dom_classes": [],
            "_model_module": "@jupyter-widgets/controls",
            "_model_module_version": "1.5.0",
            "_model_name": "HTMLModel",
            "_view_count": null,
            "_view_module": "@jupyter-widgets/controls",
            "_view_module_version": "1.5.0",
            "_view_name": "HTMLView",
            "description": "",
            "description_tooltip": null,
            "layout": "IPY_MODEL_f8a853d18ed74fbea091eff33e40c13c",
            "placeholder": "​",
            "style": "IPY_MODEL_662bb68f044f494f9ac02f71dfcb9eaf",
            "value": "Batches: 100%"
          }
        },
        "75f07a6e53be4282a8f664a68a2a906a": {
          "model_module": "@jupyter-widgets/controls",
          "model_name": "FloatProgressModel",
          "model_module_version": "1.5.0",
          "state": {
            "_dom_classes": [],
            "_model_module": "@jupyter-widgets/controls",
            "_model_module_version": "1.5.0",
            "_model_name": "FloatProgressModel",
            "_view_count": null,
            "_view_module": "@jupyter-widgets/controls",
            "_view_module_version": "1.5.0",
            "_view_name": "ProgressView",
            "bar_style": "success",
            "description": "",
            "description_tooltip": null,
            "layout": "IPY_MODEL_6f46f5ecf7384b4ebf00af9e81b3ff72",
            "max": 1,
            "min": 0,
            "orientation": "horizontal",
            "style": "IPY_MODEL_67fceec7ac2d4bc6afd35428316bebf0",
            "value": 1
          }
        },
        "5d6ec2145a214388a4885b208a23958a": {
          "model_module": "@jupyter-widgets/controls",
          "model_name": "HTMLModel",
          "model_module_version": "1.5.0",
          "state": {
            "_dom_classes": [],
            "_model_module": "@jupyter-widgets/controls",
            "_model_module_version": "1.5.0",
            "_model_name": "HTMLModel",
            "_view_count": null,
            "_view_module": "@jupyter-widgets/controls",
            "_view_module_version": "1.5.0",
            "_view_name": "HTMLView",
            "description": "",
            "description_tooltip": null,
            "layout": "IPY_MODEL_c90a7e2e85aa42079fd8c98fd5272996",
            "placeholder": "​",
            "style": "IPY_MODEL_07a2c701394040509ae854aa04d46b1c",
            "value": " 1/1 [00:00&lt;00:00, 10.94it/s]"
          }
        },
        "2580e47d684643feaf9106d649a71b0b": {
          "model_module": "@jupyter-widgets/base",
          "model_name": "LayoutModel",
          "model_module_version": "1.2.0",
          "state": {
            "_model_module": "@jupyter-widgets/base",
            "_model_module_version": "1.2.0",
            "_model_name": "LayoutModel",
            "_view_count": null,
            "_view_module": "@jupyter-widgets/base",
            "_view_module_version": "1.2.0",
            "_view_name": "LayoutView",
            "align_content": null,
            "align_items": null,
            "align_self": null,
            "border": null,
            "bottom": null,
            "display": null,
            "flex": null,
            "flex_flow": null,
            "grid_area": null,
            "grid_auto_columns": null,
            "grid_auto_flow": null,
            "grid_auto_rows": null,
            "grid_column": null,
            "grid_gap": null,
            "grid_row": null,
            "grid_template_areas": null,
            "grid_template_columns": null,
            "grid_template_rows": null,
            "height": null,
            "justify_content": null,
            "justify_items": null,
            "left": null,
            "margin": null,
            "max_height": null,
            "max_width": null,
            "min_height": null,
            "min_width": null,
            "object_fit": null,
            "object_position": null,
            "order": null,
            "overflow": null,
            "overflow_x": null,
            "overflow_y": null,
            "padding": null,
            "right": null,
            "top": null,
            "visibility": null,
            "width": null
          }
        },
        "f8a853d18ed74fbea091eff33e40c13c": {
          "model_module": "@jupyter-widgets/base",
          "model_name": "LayoutModel",
          "model_module_version": "1.2.0",
          "state": {
            "_model_module": "@jupyter-widgets/base",
            "_model_module_version": "1.2.0",
            "_model_name": "LayoutModel",
            "_view_count": null,
            "_view_module": "@jupyter-widgets/base",
            "_view_module_version": "1.2.0",
            "_view_name": "LayoutView",
            "align_content": null,
            "align_items": null,
            "align_self": null,
            "border": null,
            "bottom": null,
            "display": null,
            "flex": null,
            "flex_flow": null,
            "grid_area": null,
            "grid_auto_columns": null,
            "grid_auto_flow": null,
            "grid_auto_rows": null,
            "grid_column": null,
            "grid_gap": null,
            "grid_row": null,
            "grid_template_areas": null,
            "grid_template_columns": null,
            "grid_template_rows": null,
            "height": null,
            "justify_content": null,
            "justify_items": null,
            "left": null,
            "margin": null,
            "max_height": null,
            "max_width": null,
            "min_height": null,
            "min_width": null,
            "object_fit": null,
            "object_position": null,
            "order": null,
            "overflow": null,
            "overflow_x": null,
            "overflow_y": null,
            "padding": null,
            "right": null,
            "top": null,
            "visibility": null,
            "width": null
          }
        },
        "662bb68f044f494f9ac02f71dfcb9eaf": {
          "model_module": "@jupyter-widgets/controls",
          "model_name": "DescriptionStyleModel",
          "model_module_version": "1.5.0",
          "state": {
            "_model_module": "@jupyter-widgets/controls",
            "_model_module_version": "1.5.0",
            "_model_name": "DescriptionStyleModel",
            "_view_count": null,
            "_view_module": "@jupyter-widgets/base",
            "_view_module_version": "1.2.0",
            "_view_name": "StyleView",
            "description_width": ""
          }
        },
        "6f46f5ecf7384b4ebf00af9e81b3ff72": {
          "model_module": "@jupyter-widgets/base",
          "model_name": "LayoutModel",
          "model_module_version": "1.2.0",
          "state": {
            "_model_module": "@jupyter-widgets/base",
            "_model_module_version": "1.2.0",
            "_model_name": "LayoutModel",
            "_view_count": null,
            "_view_module": "@jupyter-widgets/base",
            "_view_module_version": "1.2.0",
            "_view_name": "LayoutView",
            "align_content": null,
            "align_items": null,
            "align_self": null,
            "border": null,
            "bottom": null,
            "display": null,
            "flex": null,
            "flex_flow": null,
            "grid_area": null,
            "grid_auto_columns": null,
            "grid_auto_flow": null,
            "grid_auto_rows": null,
            "grid_column": null,
            "grid_gap": null,
            "grid_row": null,
            "grid_template_areas": null,
            "grid_template_columns": null,
            "grid_template_rows": null,
            "height": null,
            "justify_content": null,
            "justify_items": null,
            "left": null,
            "margin": null,
            "max_height": null,
            "max_width": null,
            "min_height": null,
            "min_width": null,
            "object_fit": null,
            "object_position": null,
            "order": null,
            "overflow": null,
            "overflow_x": null,
            "overflow_y": null,
            "padding": null,
            "right": null,
            "top": null,
            "visibility": null,
            "width": null
          }
        },
        "67fceec7ac2d4bc6afd35428316bebf0": {
          "model_module": "@jupyter-widgets/controls",
          "model_name": "ProgressStyleModel",
          "model_module_version": "1.5.0",
          "state": {
            "_model_module": "@jupyter-widgets/controls",
            "_model_module_version": "1.5.0",
            "_model_name": "ProgressStyleModel",
            "_view_count": null,
            "_view_module": "@jupyter-widgets/base",
            "_view_module_version": "1.2.0",
            "_view_name": "StyleView",
            "bar_color": null,
            "description_width": ""
          }
        },
        "c90a7e2e85aa42079fd8c98fd5272996": {
          "model_module": "@jupyter-widgets/base",
          "model_name": "LayoutModel",
          "model_module_version": "1.2.0",
          "state": {
            "_model_module": "@jupyter-widgets/base",
            "_model_module_version": "1.2.0",
            "_model_name": "LayoutModel",
            "_view_count": null,
            "_view_module": "@jupyter-widgets/base",
            "_view_module_version": "1.2.0",
            "_view_name": "LayoutView",
            "align_content": null,
            "align_items": null,
            "align_self": null,
            "border": null,
            "bottom": null,
            "display": null,
            "flex": null,
            "flex_flow": null,
            "grid_area": null,
            "grid_auto_columns": null,
            "grid_auto_flow": null,
            "grid_auto_rows": null,
            "grid_column": null,
            "grid_gap": null,
            "grid_row": null,
            "grid_template_areas": null,
            "grid_template_columns": null,
            "grid_template_rows": null,
            "height": null,
            "justify_content": null,
            "justify_items": null,
            "left": null,
            "margin": null,
            "max_height": null,
            "max_width": null,
            "min_height": null,
            "min_width": null,
            "object_fit": null,
            "object_position": null,
            "order": null,
            "overflow": null,
            "overflow_x": null,
            "overflow_y": null,
            "padding": null,
            "right": null,
            "top": null,
            "visibility": null,
            "width": null
          }
        },
        "07a2c701394040509ae854aa04d46b1c": {
          "model_module": "@jupyter-widgets/controls",
          "model_name": "DescriptionStyleModel",
          "model_module_version": "1.5.0",
          "state": {
            "_model_module": "@jupyter-widgets/controls",
            "_model_module_version": "1.5.0",
            "_model_name": "DescriptionStyleModel",
            "_view_count": null,
            "_view_module": "@jupyter-widgets/base",
            "_view_module_version": "1.2.0",
            "_view_name": "StyleView",
            "description_width": ""
          }
        }
      }
    }
  },
  "nbformat": 4,
  "nbformat_minor": 0
}